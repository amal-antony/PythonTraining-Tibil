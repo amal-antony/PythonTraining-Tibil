{
 "cells": [
  {
   "cell_type": "code",
   "execution_count": 4,
   "id": "681841b0-42ab-4caa-b0b1-8d088d71d414",
   "metadata": {},
   "outputs": [],
   "source": [
    "#Data Analysis\n",
    "\n",
    "#The Process of inspecting ,cleansing , transforming and modelling data with the goal of discovering useful information, informing conclusion and supporting decision making.\n"
   ]
  },
  {
   "cell_type": "code",
   "execution_count": null,
   "id": "4dead1d1-a2be-4cff-b2ba-16cef2729997",
   "metadata": {},
   "outputs": [],
   "source": [
    "# Pandas-To clean and transform data\n",
    "\n",
    "#Modelling-Adapting real lfe scenarios to information systems using ststistcal procedures to find pattern \n",
    "#Pandas\n"
   ]
  }
 ],
 "metadata": {
  "kernelspec": {
   "display_name": "Python 3 (ipykernel)",
   "language": "python",
   "name": "python3"
  },
  "language_info": {
   "codemirror_mode": {
    "name": "ipython",
    "version": 3
   },
   "file_extension": ".py",
   "mimetype": "text/x-python",
   "name": "python",
   "nbconvert_exporter": "python",
   "pygments_lexer": "ipython3",
   "version": "3.9.5"
  }
 },
 "nbformat": 4,
 "nbformat_minor": 5
}
