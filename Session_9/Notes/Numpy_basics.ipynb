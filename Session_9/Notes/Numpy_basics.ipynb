{
 "cells": [
  {
   "cell_type": "markdown",
   "id": "5c654c6f-baf5-4141-82bf-04fbd81d54c1",
   "metadata": {},
   "source": [
    "# Numpy\n",
    "\n",
    "1.A numeric computing Library to work with arrays , matrices and do advanced mathematical ad statistical operations on them.<br>\n",
    "2.It can work with multi dimensional arrays and in domain of linear algebra, fourier transform, and matrices.<br>\n",
    "3.Provides arrays that are much faster than lists.<br>\n",
    "4.Arrays are stored at one continuous place in memory unlike lists, so processes can access and manipulate them very efficiently.\n"
   ]
  },
  {
   "cell_type": "markdown",
   "id": "6c80e13c-c701-4813-9797-bfedd6b0fe6f",
   "metadata": {},
   "source": [
    "#Creating an array\n",
    "\n",
    "1.Import numpy as anything say np<br>\n",
    "\n",
    "2.use np.array() function which takes a list as parameter for eg for a list [1,2,3,4] use the  np.array([1,2,3,4])"
   ]
  },
  {
   "cell_type": "code",
   "execution_count": 1,
   "id": "58564435-4295-4cba-8631-99e736bb1c2f",
   "metadata": {},
   "outputs": [
    {
     "name": "stdout",
     "output_type": "stream",
     "text": [
      "[1 2 3 4]\n"
     ]
    }
   ],
   "source": [
    "import numpy as np\n",
    "\n",
    "l=[1,2,3,4]\n",
    "\n",
    "a = np.array(l)\n",
    "print(a)"
   ]
  },
  {
   "cell_type": "markdown",
   "id": "50f57d2c-202a-4779-9b18-34b245f93231",
   "metadata": {},
   "source": [
    "# Checking dimensions\n",
    "Dimensions ca be checked using the attribute\n",
    "## 1. ndim\n",
    "It can also be used to create an array with specific dimensions"
   ]
  },
  {
   "cell_type": "code",
   "execution_count": 2,
   "id": "ae88b9f6-6037-4f8e-80b6-967f991a397c",
   "metadata": {},
   "outputs": [
    {
     "name": "stdout",
     "output_type": "stream",
     "text": [
      " The dimesions of array c is 2\n"
     ]
    }
   ],
   "source": [
    "c = np.array([[1, 2, 3], [4, 5, 6]])\n",
    "print(f\" The dimesions of array c is {c.ndim}\") "
   ]
  },
  {
   "cell_type": "code",
   "execution_count": 3,
   "id": "1ee3bb85-22cc-44d1-bc43-0089ba573b5c",
   "metadata": {},
   "outputs": [
    {
     "name": "stdout",
     "output_type": "stream",
     "text": [
      "[[[[[1 2 3 4]]]]]\n",
      "number of dimensions : 5\n"
     ]
    }
   ],
   "source": [
    "arr = np.array([1, 2, 3, 4], ndmin=5)\n",
    "\n",
    "print(arr)\n",
    "print('number of dimensions :', arr.ndim) "
   ]
  },
  {
   "cell_type": "markdown",
   "id": "8b1ae005-fa75-4aab-92d2-12a2f93bcac2",
   "metadata": {},
   "source": [
    "# Indexing Array elements\n",
    "1.Array indexing is the same as accessing an array element.<br>\n",
    "\n",
    "2.The indexes in NumPy arrays start with 0, meaning that the first element has index 0, and the second has index 1 etc.<br>\n",
    "\n",
    "3.For multidimensional arrays say 2 dimensional arrays or matrices if we have to access the element at nth index of mth row <br>\n",
    "\n",
    "    a.array[m][n]\n",
    "    b.array[m,n]\n",
    "    \n",
    "4.Also supports negative indexing ie -1 will give last element"
   ]
  },
  {
   "cell_type": "code",
   "execution_count": 4,
   "id": "4dedad12-1bf5-4093-bdec-c7a73733dc4c",
   "metadata": {},
   "outputs": [
    {
     "name": "stdout",
     "output_type": "stream",
     "text": [
      "1\n"
     ]
    }
   ],
   "source": [
    "print(a[0])"
   ]
  },
  {
   "cell_type": "code",
   "execution_count": 5,
   "id": "a6a99bd2-a7d8-41d6-a3b7-cd32785966ec",
   "metadata": {},
   "outputs": [
    {
     "name": "stdout",
     "output_type": "stream",
     "text": [
      "3\n"
     ]
    }
   ],
   "source": [
    "print(a[2])"
   ]
  },
  {
   "cell_type": "code",
   "execution_count": 6,
   "id": "daef4f90-788b-420f-8ba5-a291387c5f78",
   "metadata": {},
   "outputs": [
    {
     "name": "stdout",
     "output_type": "stream",
     "text": [
      "3\n",
      "6\n"
     ]
    }
   ],
   "source": [
    "print(c[0][2])\n",
    "print(c[1][2])"
   ]
  },
  {
   "cell_type": "code",
   "execution_count": 7,
   "id": "c557fcfe-e687-416a-9e34-45741321d89b",
   "metadata": {},
   "outputs": [
    {
     "name": "stdout",
     "output_type": "stream",
     "text": [
      "3\n",
      "6\n"
     ]
    }
   ],
   "source": [
    "print(c[0,2])\n",
    "print(c[1,2])"
   ]
  },
  {
   "cell_type": "code",
   "execution_count": 8,
   "id": "73bac689-303b-4928-a0e4-85470c9cce19",
   "metadata": {},
   "outputs": [
    {
     "name": "stdout",
     "output_type": "stream",
     "text": [
      "6\n"
     ]
    },
    {
     "ename": "IndexError",
     "evalue": "index 2 is out of bounds for axis 1 with size 2",
     "output_type": "error",
     "traceback": [
      "\u001b[0;31m---------------------------------------------------------------------------\u001b[0m",
      "\u001b[0;31mIndexError\u001b[0m                                Traceback (most recent call last)",
      "\u001b[0;32m/tmp/ipykernel_6547/4090277048.py\u001b[0m in \u001b[0;36m<module>\u001b[0;34m\u001b[0m\n\u001b[1;32m      2\u001b[0m \u001b[0;34m\u001b[0m\u001b[0m\n\u001b[1;32m      3\u001b[0m \u001b[0mprint\u001b[0m\u001b[0;34m(\u001b[0m\u001b[0me\u001b[0m\u001b[0;34m[\u001b[0m\u001b[0;36m0\u001b[0m\u001b[0;34m,\u001b[0m \u001b[0;36m1\u001b[0m\u001b[0;34m,\u001b[0m \u001b[0;36m2\u001b[0m\u001b[0;34m]\u001b[0m\u001b[0;34m)\u001b[0m\u001b[0;34m\u001b[0m\u001b[0;34m\u001b[0m\u001b[0m\n\u001b[0;32m----> 4\u001b[0;31m \u001b[0mprint\u001b[0m\u001b[0;34m(\u001b[0m\u001b[0me\u001b[0m\u001b[0;34m[\u001b[0m\u001b[0;36m0\u001b[0m\u001b[0;34m,\u001b[0m \u001b[0;36m2\u001b[0m\u001b[0;34m,\u001b[0m \u001b[0;36m2\u001b[0m\u001b[0;34m]\u001b[0m\u001b[0;34m)\u001b[0m\u001b[0;34m\u001b[0m\u001b[0;34m\u001b[0m\u001b[0m\n\u001b[0m",
      "\u001b[0;31mIndexError\u001b[0m: index 2 is out of bounds for axis 1 with size 2"
     ]
    }
   ],
   "source": [
    "e = np.array([[[1, 2, 3], [4, 5, 6]], [[7, 8, 9], [10, 11, 12]]])\n",
    "\n",
    "print(e[0, 1, 2]) \n",
    "print(e[0, 2, 2]) "
   ]
  },
  {
   "cell_type": "code",
   "execution_count": 9,
   "id": "22219133-ba35-45c1-8505-50518efadcc0",
   "metadata": {},
   "outputs": [
    {
     "name": "stdout",
     "output_type": "stream",
     "text": [
      "Last element from 2nd dim:  10\n"
     ]
    }
   ],
   "source": [
    "arr = np.array([[1,2,3,4,5], [6,7,8,9,10]])\n",
    "\n",
    "print('Last element from 2nd dim: ', arr[1, -1]) "
   ]
  },
  {
   "cell_type": "markdown",
   "id": "f4097e9e-9d5a-450c-9664-f997f5fccefe",
   "metadata": {},
   "source": [
    "# Indexing in arrays\n",
    "\n",
    "1.Slicing in python means taking elements from one given index to another given index.\n",
    "\n",
    "2.We pass slice instead of index like this: [start:end].\n",
    "\n",
    "3.We can also define the step, like this: [start:end:step]\n",
    "\n",
    "4.Supports negative indexing i.e -1 gives last element"
   ]
  },
  {
   "cell_type": "code",
   "execution_count": 10,
   "id": "e990d789-391b-4782-93e2-b2cadc4bed81",
   "metadata": {},
   "outputs": [
    {
     "name": "stdout",
     "output_type": "stream",
     "text": [
      "[2 3 4 5]\n",
      "[1 2 3 4]\n",
      "[5 6]\n",
      "[2 4]\n",
      "[1 3 5 7]\n"
     ]
    }
   ],
   "source": [
    "arr = np.array([1, 2, 3, 4, 5, 6, 7])\n",
    "\n",
    "print(arr[1:5]) \n",
    "print(arr[:4]) \n",
    "print(arr[-3:-1])\n",
    "print(arr[1:5:2]) \n",
    "print(arr[::2]) \n"
   ]
  },
  {
   "cell_type": "code",
   "execution_count": 11,
   "id": "154577ca-cb08-4e6b-b6fd-0eff8e302e9b",
   "metadata": {},
   "outputs": [
    {
     "name": "stdout",
     "output_type": "stream",
     "text": [
      "[7 8 9]\n"
     ]
    }
   ],
   "source": [
    "arr2 = np.array([[1, 2, 3, 4, 5], [6, 7, 8, 9, 10]])\n",
    "print(arr2[1, 1:4]) "
   ]
  },
  {
   "cell_type": "markdown",
   "id": "72f9d054-b7f2-45fd-9e19-ecfacf82991e",
   "metadata": {},
   "source": [
    "# DataTypes in Numpy\n",
    "\n",
    "    i - integer\n",
    "    b - boolean\n",
    "    u - unsigned integer\n",
    "    f - float\n",
    "    c - complex float\n",
    "    m - timedelta\n",
    "    M - datetime\n",
    "    O - object\n",
    "    S - string\n",
    "    U - unicode string\n",
    "    V - fixed chunk of memory for other type ( void )\n",
    "    \n",
    "# dtype -Checking datatype\n",
    "The NumPy array object has a property called dtype that returns the data type of the array:\n",
    "\n",
    "# Creating Array With a Defined Data Type\n",
    "\n",
    "We use the array() function to create arrays, this function can take an optional argument: dtype that allows us to define the expected data type of the array elements:\n"
   ]
  },
  {
   "cell_type": "code",
   "execution_count": 12,
   "id": "ec091e5b-406e-4e97-b041-5bfc8428b7f9",
   "metadata": {},
   "outputs": [
    {
     "name": "stdout",
     "output_type": "stream",
     "text": [
      "int64\n"
     ]
    }
   ],
   "source": [
    "print(arr.dtype) "
   ]
  },
  {
   "cell_type": "code",
   "execution_count": 13,
   "id": "9b276f35-5068-4c7d-ba48-b38accee8d8c",
   "metadata": {},
   "outputs": [
    {
     "name": "stdout",
     "output_type": "stream",
     "text": [
      "<U6\n"
     ]
    }
   ],
   "source": [
    "arr4 = np.array(['apple', 'banana', 'cherry'])\n",
    "\n",
    "print(arr4.dtype) "
   ]
  },
  {
   "cell_type": "code",
   "execution_count": 14,
   "id": "21581850-3d2a-4985-ad8c-c25bf4b5f66b",
   "metadata": {},
   "outputs": [
    {
     "name": "stdout",
     "output_type": "stream",
     "text": [
      "[b'1' b'2' b'3' b'4']\n",
      "|S1\n"
     ]
    }
   ],
   "source": [
    "arr5 = np.array([1, 2, 3, 4], dtype='S')\n",
    "\n",
    "print(arr5)\n",
    "print(arr5.dtype) "
   ]
  },
  {
   "cell_type": "markdown",
   "id": "83534113-f689-4b5b-bf76-a8f3e44259b9",
   "metadata": {},
   "source": [
    "# Convert Data Type on Existing Arrays\n",
    "\n",
    "## astype()- \n",
    "The astype() function creates a copy of the array, and allows you to specify the data type as a parameter."
   ]
  },
  {
   "cell_type": "code",
   "execution_count": 15,
   "id": "38546090-046a-4fce-a045-76586d0096fb",
   "metadata": {
    "tags": []
   },
   "outputs": [
    {
     "name": "stdout",
     "output_type": "stream",
     "text": [
      "[1 2 3]\n",
      "int32\n"
     ]
    }
   ],
   "source": [
    "arr6 = np.array([1.1, 2.1, 3.1])\n",
    "\n",
    "newarr = arr6.astype('i')\n",
    "\n",
    "print(newarr)\n",
    "print(newarr.dtype) "
   ]
  },
  {
   "cell_type": "code",
   "execution_count": 16,
   "id": "11cdecb6-8591-4df5-a782-f0245f711695",
   "metadata": {},
   "outputs": [
    {
     "name": "stdout",
     "output_type": "stream",
     "text": [
      "[1 2 3]\n",
      "int64\n"
     ]
    }
   ],
   "source": [
    "arr7 = np.array([1.1, 2.1, 3.1])\n",
    "\n",
    "newarr2 = arr7.astype(int)\n",
    "\n",
    "print(newarr2)\n",
    "print(newarr2.dtype) "
   ]
  },
  {
   "cell_type": "markdown",
   "id": "2d88b08c-07cf-4acb-b5ea-ceb8d141504c",
   "metadata": {},
   "source": [
    "# Reshaping\n",
    "\n",
    "## np.reshape()\n",
    "\n",
    "Takes a list of data and rshapes into certain dimensions we specify\n",
    "\n",
    "3 Arguments<br>\n",
    "1.Data<br>\n",
    "2.Dimensions<br>\n",
    "3.How to populate - row or columns C-row by row and F-column by column"
   ]
  },
  {
   "cell_type": "code",
   "execution_count": 18,
   "id": "2fc4de3d-c373-4a90-b719-4069a7482ca6",
   "metadata": {},
   "outputs": [],
   "source": [
    "arr7=np.reshape([1,2,3,4,5,6,7,8,9,10,11,12],[3,4],'C')"
   ]
  },
  {
   "cell_type": "code",
   "execution_count": 19,
   "id": "97fcdf0f-ee71-4f61-a004-d81c0de14382",
   "metadata": {},
   "outputs": [
    {
     "data": {
      "text/plain": [
       "array([[ 1,  2,  3,  4],\n",
       "       [ 5,  6,  7,  8],\n",
       "       [ 9, 10, 11, 12]])"
      ]
     },
     "execution_count": 19,
     "metadata": {},
     "output_type": "execute_result"
    }
   ],
   "source": [
    "arr7"
   ]
  },
  {
   "cell_type": "code",
   "execution_count": 20,
   "id": "3c6c58aa-a4fa-4050-90eb-052be9340faf",
   "metadata": {},
   "outputs": [],
   "source": [
    "arr8=np.reshape([1,2,3,4,5,6,7,8,9,10,11,12],[3,4],'F')"
   ]
  },
  {
   "cell_type": "code",
   "execution_count": 21,
   "id": "e1707163-256e-4e15-ad06-17f9ffd8d026",
   "metadata": {},
   "outputs": [
    {
     "data": {
      "text/plain": [
       "array([[ 1,  4,  7, 10],\n",
       "       [ 2,  5,  8, 11],\n",
       "       [ 3,  6,  9, 12]])"
      ]
     },
     "execution_count": 21,
     "metadata": {},
     "output_type": "execute_result"
    }
   ],
   "source": [
    "arr8"
   ]
  },
  {
   "cell_type": "markdown",
   "id": "f5e8cefb-5469-4952-9b4d-cd77a8041df1",
   "metadata": {
    "tags": []
   },
   "source": [
    "# A BasketBall Dataset\n",
    "A Dataset of following format\n",
    "\n",
    "## Matrices:\n",
    "### - Salary\n",
    "### - Games\n",
    "### - MinutesPlayed\n",
    "### - FieldGoals\n",
    "### - FieldGoalAttempts\n",
    "### - Points\n",
    "## Lists:\n",
    "### - Players\n",
    "### - Seasons\n",
    "## Dictionaries:\n",
    "### - Sdict\n",
    "### - Pdict"
   ]
  },
  {
   "cell_type": "code",
   "execution_count": 22,
   "id": "b426be02-d275-4fc2-8d79-0d1a6c0bba61",
   "metadata": {},
   "outputs": [],
   "source": [
    "#Comments:\n",
    "#Seasons are labeled based on the first year in the season\n",
    "#E.g. the 2012-2013 season is preseneted as simply 2012\n",
    "\n",
    "#Notes and Corrections to the data:\n",
    "#Kevin Durant: 2006 - College Data Used\n",
    "#Kevin Durant: 2005 - Proxied With 2006 Data\n",
    "#Derrick Rose: 2012 - Did Not Play\n",
    "#Derrick Rose: 2007 - College Data Used\n",
    "#Derrick Rose: 2006 - Proxied With 2007 Data\n",
    "#Derrick Rose: 2005 - Proxied With 2007 Data\n",
    "\n",
    "#Import numpy\n",
    "import numpy as np\n",
    "\n",
    "#Seasons\n",
    "Seasons = [\"2005\",\"2006\",\"2007\",\"2008\",\"2009\",\"2010\",\"2011\",\"2012\",\"2013\",\"2014\"]\n",
    "Sdict = {\"2005\":0,\"2006\":1,\"2007\":2,\"2008\":3,\"2009\":4,\"2010\":5,\"2011\":6,\"2012\":7,\"2013\":8,\"2014\":9}\n",
    "\n",
    "#Players\n",
    "Players = [\"KobeBryant\",\"JoeJohnson\",\"LeBronJames\",\"CarmeloAnthony\",\"DwightHoward\",\"ChrisBosh\",\"ChrisPaul\",\"KevinDurant\",\"DerrickRose\",\"DwayneWade\"]\n",
    "Pdict = {\"KobeBryant\":0,\"JoeJohnson\":1,\"LeBronJames\":2,\"CarmeloAnthony\":3,\"DwightHoward\":4,\"ChrisBosh\":5,\"ChrisPaul\":6,\"KevinDurant\":7,\"DerrickRose\":8,\"DwayneWade\":9}\n",
    "\n",
    "#Salaries\n",
    "KobeBryant_Salary = [15946875,17718750,19490625,21262500,23034375,24806250,25244493,27849149,30453805,23500000]\n",
    "JoeJohnson_Salary = [12000000,12744189,13488377,14232567,14976754,16324500,18038573,19752645,21466718,23180790]\n",
    "LeBronJames_Salary = [4621800,5828090,13041250,14410581,15779912,14500000,16022500,17545000,19067500,20644400]\n",
    "CarmeloAnthony_Salary = [3713640,4694041,13041250,14410581,15779912,17149243,18518574,19450000,22407474,22458000]\n",
    "DwightHoward_Salary = [4493160,4806720,6061274,13758000,15202590,16647180,18091770,19536360,20513178,21436271]\n",
    "ChrisBosh_Salary = [3348000,4235220,12455000,14410581,15779912,14500000,16022500,17545000,19067500,20644400]\n",
    "ChrisPaul_Salary = [3144240,3380160,3615960,4574189,13520500,14940153,16359805,17779458,18668431,20068563]\n",
    "KevinDurant_Salary = [0,0,4171200,4484040,4796880,6053663,15506632,16669630,17832627,18995624]\n",
    "DerrickRose_Salary = [0,0,0,4822800,5184480,5546160,6993708,16402500,17632688,18862875]\n",
    "DwayneWade_Salary = [3031920,3841443,13041250,14410581,15779912,14200000,15691000,17182000,18673000,15000000]\n",
    "#Matrix\n",
    "Salary = np.array([KobeBryant_Salary, JoeJohnson_Salary, LeBronJames_Salary, CarmeloAnthony_Salary, DwightHoward_Salary, ChrisBosh_Salary, ChrisPaul_Salary, KevinDurant_Salary, DerrickRose_Salary, DwayneWade_Salary])\n",
    "\n",
    "#Games \n",
    "KobeBryant_G = [80,77,82,82,73,82,58,78,6,35]\n",
    "JoeJohnson_G = [82,57,82,79,76,72,60,72,79,80]\n",
    "LeBronJames_G = [79,78,75,81,76,79,62,76,77,69]\n",
    "CarmeloAnthony_G = [80,65,77,66,69,77,55,67,77,40]\n",
    "DwightHoward_G = [82,82,82,79,82,78,54,76,71,41]\n",
    "ChrisBosh_G = [70,69,67,77,70,77,57,74,79,44]\n",
    "ChrisPaul_G = [78,64,80,78,45,80,60,70,62,82]\n",
    "KevinDurant_G = [35,35,80,74,82,78,66,81,81,27]\n",
    "DerrickRose_G = [40,40,40,81,78,81,39,0,10,51]\n",
    "DwayneWade_G = [75,51,51,79,77,76,49,69,54,62]\n",
    "#Matrix\n",
    "Games = np.array([KobeBryant_G, JoeJohnson_G, LeBronJames_G, CarmeloAnthony_G, DwightHoward_G, ChrisBosh_G, ChrisPaul_G, KevinDurant_G, DerrickRose_G, DwayneWade_G])\n",
    "\n",
    "#Minutes Played\n",
    "KobeBryant_MP = [3277,3140,3192,2960,2835,2779,2232,3013,177,1207]\n",
    "JoeJohnson_MP = [3340,2359,3343,3124,2886,2554,2127,2642,2575,2791]\n",
    "LeBronJames_MP = [3361,3190,3027,3054,2966,3063,2326,2877,2902,2493]\n",
    "CarmeloAnthony_MP = [2941,2486,2806,2277,2634,2751,1876,2482,2982,1428]\n",
    "DwightHoward_MP = [3021,3023,3088,2821,2843,2935,2070,2722,2396,1223]\n",
    "ChrisBosh_MP = [2751,2658,2425,2928,2526,2795,2007,2454,2531,1556]\n",
    "ChrisPaul_MP = [2808,2353,3006,3002,1712,2880,2181,2335,2171,2857]\n",
    "KevinDurant_MP = [1255,1255,2768,2885,3239,3038,2546,3119,3122,913]\n",
    "DerrickRose_MP = [1168,1168,1168,3000,2871,3026,1375,0,311,1530]\n",
    "DwayneWade_MP = [2892,1931,1954,3048,2792,2823,1625,2391,1775,1971]\n",
    "#Matrix\n",
    "MinutesPlayed = np.array([KobeBryant_MP, JoeJohnson_MP, LeBronJames_MP, CarmeloAnthony_MP, DwightHoward_MP, ChrisBosh_MP, ChrisPaul_MP, KevinDurant_MP, DerrickRose_MP, DwayneWade_MP])\n",
    "\n",
    "#Field Goals\n",
    "KobeBryant_FG = [978,813,775,800,716,740,574,738,31,266]\n",
    "JoeJohnson_FG = [632,536,647,620,635,514,423,445,462,446]\n",
    "LeBronJames_FG = [875,772,794,789,768,758,621,765,767,624]\n",
    "CarmeloAnthony_FG = [756,691,728,535,688,684,441,669,743,358]\n",
    "DwightHoward_FG = [468,526,583,560,510,619,416,470,473,251]\n",
    "ChrisBosh_FG = [549,543,507,615,600,524,393,485,492,343]\n",
    "ChrisPaul_FG = [407,381,630,631,314,430,425,412,406,568]\n",
    "KevinDurant_FG = [306,306,587,661,794,711,643,731,849,238]\n",
    "DerrickRose_FG = [208,208,208,574,672,711,302,0,58,338]\n",
    "DwayneWade_FG = [699,472,439,854,719,692,416,569,415,509]\n",
    "#Matrix\n",
    "FieldGoals  = np.array([KobeBryant_FG, JoeJohnson_FG, LeBronJames_FG, CarmeloAnthony_FG, DwightHoward_FG, ChrisBosh_FG, ChrisPaul_FG, KevinDurant_FG, DerrickRose_FG, DwayneWade_FG])\n",
    "\n",
    "#Field Goal Attempts\n",
    "KobeBryant_FGA = [2173,1757,1690,1712,1569,1639,1336,1595,73,713]\n",
    "JoeJohnson_FGA = [1395,1139,1497,1420,1386,1161,931,1052,1018,1025]\n",
    "LeBronJames_FGA = [1823,1621,1642,1613,1528,1485,1169,1354,1353,1279]\n",
    "CarmeloAnthony_FGA = [1572,1453,1481,1207,1502,1503,1025,1489,1643,806]\n",
    "DwightHoward_FGA = [881,873,974,979,834,1044,726,813,800,423]\n",
    "ChrisBosh_FGA = [1087,1094,1027,1263,1158,1056,807,907,953,745]\n",
    "ChrisPaul_FGA = [947,871,1291,1255,637,928,890,856,870,1170]\n",
    "KevinDurant_FGA = [647,647,1366,1390,1668,1538,1297,1433,1688,467]\n",
    "DerrickRose_FGA = [436,436,436,1208,1373,1597,695,0,164,835]\n",
    "DwayneWade_FGA = [1413,962,937,1739,1511,1384,837,1093,761,1084]\n",
    "#Matrix\n",
    "FieldGoalAttempts = np.array([KobeBryant_FGA, JoeJohnson_FGA, LeBronJames_FGA, CarmeloAnthony_FGA, DwightHoward_FGA, ChrisBosh_FGA, ChrisPaul_FGA, KevinDurant_FGA, DerrickRose_FGA, DwayneWade_FGA])\n",
    "\n",
    "#Points\n",
    "KobeBryant_PTS = [2832,2430,2323,2201,1970,2078,1616,2133,83,782]\n",
    "JoeJohnson_PTS = [1653,1426,1779,1688,1619,1312,1129,1170,1245,1154]\n",
    "LeBronJames_PTS = [2478,2132,2250,2304,2258,2111,1683,2036,2089,1743]\n",
    "CarmeloAnthony_PTS = [2122,1881,1978,1504,1943,1970,1245,1920,2112,966]\n",
    "DwightHoward_PTS = [1292,1443,1695,1624,1503,1784,1113,1296,1297,646]\n",
    "ChrisBosh_PTS = [1572,1561,1496,1746,1678,1438,1025,1232,1281,928]\n",
    "ChrisPaul_PTS = [1258,1104,1684,1781,841,1268,1189,1186,1185,1564]\n",
    "KevinDurant_PTS = [903,903,1624,1871,2472,2161,1850,2280,2593,686]\n",
    "DerrickRose_PTS = [597,597,597,1361,1619,2026,852,0,159,904]\n",
    "DwayneWade_PTS = [2040,1397,1254,2386,2045,1941,1082,1463,1028,1331]\n",
    "#Matrix\n",
    "Points = np.array([KobeBryant_PTS, JoeJohnson_PTS, LeBronJames_PTS, CarmeloAnthony_PTS, DwightHoward_PTS, ChrisBosh_PTS, ChrisPaul_PTS, KevinDurant_PTS, DerrickRose_PTS, DwayneWade_PTS])             \n",
    "                  \n"
   ]
  },
  {
   "cell_type": "code",
   "execution_count": 23,
   "id": "0ba5978f-0a96-42cb-8470-600dc0790fda",
   "metadata": {},
   "outputs": [
    {
     "data": {
      "text/plain": [
       "array([[80, 77, 82, 82, 73, 82, 58, 78,  6, 35],\n",
       "       [82, 57, 82, 79, 76, 72, 60, 72, 79, 80],\n",
       "       [79, 78, 75, 81, 76, 79, 62, 76, 77, 69],\n",
       "       [80, 65, 77, 66, 69, 77, 55, 67, 77, 40],\n",
       "       [82, 82, 82, 79, 82, 78, 54, 76, 71, 41],\n",
       "       [70, 69, 67, 77, 70, 77, 57, 74, 79, 44],\n",
       "       [78, 64, 80, 78, 45, 80, 60, 70, 62, 82],\n",
       "       [35, 35, 80, 74, 82, 78, 66, 81, 81, 27],\n",
       "       [40, 40, 40, 81, 78, 81, 39,  0, 10, 51],\n",
       "       [75, 51, 51, 79, 77, 76, 49, 69, 54, 62]])"
      ]
     },
     "execution_count": 23,
     "metadata": {},
     "output_type": "execute_result"
    }
   ],
   "source": [
    "Games"
   ]
  },
  {
   "cell_type": "code",
   "execution_count": 24,
   "id": "468143aa-2ebc-4f88-ab79-2a5db22d5ad4",
   "metadata": {},
   "outputs": [
    {
     "data": {
      "text/plain": [
       "['KobeBryant',\n",
       " 'JoeJohnson',\n",
       " 'LeBronJames',\n",
       " 'CarmeloAnthony',\n",
       " 'DwightHoward',\n",
       " 'ChrisBosh',\n",
       " 'ChrisPaul',\n",
       " 'KevinDurant',\n",
       " 'DerrickRose',\n",
       " 'DwayneWade']"
      ]
     },
     "execution_count": 24,
     "metadata": {},
     "output_type": "execute_result"
    }
   ],
   "source": [
    "Players\n"
   ]
  },
  {
   "cell_type": "code",
   "execution_count": 25,
   "id": "450850d7-fccd-46f7-b8b3-6ec97440c093",
   "metadata": {},
   "outputs": [
    {
     "data": {
      "text/plain": [
       "{'KobeBryant': 0,\n",
       " 'JoeJohnson': 1,\n",
       " 'LeBronJames': 2,\n",
       " 'CarmeloAnthony': 3,\n",
       " 'DwightHoward': 4,\n",
       " 'ChrisBosh': 5,\n",
       " 'ChrisPaul': 6,\n",
       " 'KevinDurant': 7,\n",
       " 'DerrickRose': 8,\n",
       " 'DwayneWade': 9}"
      ]
     },
     "execution_count": 25,
     "metadata": {},
     "output_type": "execute_result"
    }
   ],
   "source": [
    "Pdict"
   ]
  },
  {
   "cell_type": "code",
   "execution_count": 26,
   "id": "a09c8741-562f-42a4-825d-14cafd2bd046",
   "metadata": {},
   "outputs": [
    {
     "data": {
      "text/plain": [
       "3"
      ]
     },
     "execution_count": 26,
     "metadata": {},
     "output_type": "execute_result"
    }
   ],
   "source": [
    "Pdict['CarmeloAnthony']"
   ]
  },
  {
   "cell_type": "code",
   "execution_count": 27,
   "id": "7104dc85-4bec-439a-b1af-f9242b4fcabb",
   "metadata": {},
   "outputs": [
    {
     "data": {
      "text/plain": [
       "array([80, 65, 77, 66, 69, 77, 55, 67, 77, 40])"
      ]
     },
     "execution_count": 27,
     "metadata": {},
     "output_type": "execute_result"
    }
   ],
   "source": [
    "Games[Pdict['CarmeloAnthony']]"
   ]
  },
  {
   "cell_type": "code",
   "execution_count": 28,
   "id": "4180d895-0406-4d72-86d5-eb4d80ab6585",
   "metadata": {},
   "outputs": [
    {
     "data": {
      "text/plain": [
       "['2005',\n",
       " '2006',\n",
       " '2007',\n",
       " '2008',\n",
       " '2009',\n",
       " '2010',\n",
       " '2011',\n",
       " '2012',\n",
       " '2013',\n",
       " '2014']"
      ]
     },
     "execution_count": 28,
     "metadata": {},
     "output_type": "execute_result"
    }
   ],
   "source": [
    "Seasons\n"
   ]
  },
  {
   "cell_type": "code",
   "execution_count": 29,
   "id": "fb639850-9e08-44e5-87fa-79ec732ac954",
   "metadata": {},
   "outputs": [
    {
     "data": {
      "text/plain": [
       "3"
      ]
     },
     "execution_count": 29,
     "metadata": {},
     "output_type": "execute_result"
    }
   ],
   "source": [
    "Sdict['2008']"
   ]
  },
  {
   "cell_type": "code",
   "execution_count": 30,
   "id": "37876114-34c4-4fb0-9430-43a56ffc615b",
   "metadata": {},
   "outputs": [
    {
     "data": {
      "text/plain": [
       "66"
      ]
     },
     "execution_count": 30,
     "metadata": {},
     "output_type": "execute_result"
    }
   ],
   "source": [
    "Games[Pdict['CarmeloAnthony']][Sdict['2008']]"
   ]
  },
  {
   "cell_type": "markdown",
   "id": "31f0fb1b-8973-4240-bc64-3a42d76e1641",
   "metadata": {},
   "source": [
    "## Field_Goals/Game every player played and rounding it using \n",
    "### np.matrix.round()\n",
    "USed to round resultant value\n"
   ]
  },
  {
   "cell_type": "code",
   "execution_count": 31,
   "id": "232f5edc-dc66-4a26-98c6-8a2a3e806f17",
   "metadata": {},
   "outputs": [],
   "source": [
    "import warnings\n",
    "warnings.filterwarnings('ignore')\n",
    "\n",
    "FieldGoals_Per_game=np.matrix.round(FieldGoals/Games)"
   ]
  },
  {
   "cell_type": "code",
   "execution_count": 32,
   "id": "b0289f24-ea42-4fca-8a44-1a473f81bb7b",
   "metadata": {},
   "outputs": [
    {
     "data": {
      "text/plain": [
       "array([[12., 11.,  9., 10., 10.,  9., 10.,  9.,  5.,  8.],\n",
       "       [ 8.,  9.,  8.,  8.,  8.,  7.,  7.,  6.,  6.,  6.],\n",
       "       [11., 10., 11., 10., 10., 10., 10., 10., 10.,  9.],\n",
       "       [ 9., 11.,  9.,  8., 10.,  9.,  8., 10., 10.,  9.],\n",
       "       [ 6.,  6.,  7.,  7.,  6.,  8.,  8.,  6.,  7.,  6.],\n",
       "       [ 8.,  8.,  8.,  8.,  9.,  7.,  7.,  7.,  6.,  8.],\n",
       "       [ 5.,  6.,  8.,  8.,  7.,  5.,  7.,  6.,  7.,  7.],\n",
       "       [ 9.,  9.,  7.,  9., 10.,  9., 10.,  9., 10.,  9.],\n",
       "       [ 5.,  5.,  5.,  7.,  9.,  9.,  8., nan,  6.,  7.],\n",
       "       [ 9.,  9.,  9., 11.,  9.,  9.,  8.,  8.,  8.,  8.]])"
      ]
     },
     "execution_count": 32,
     "metadata": {},
     "output_type": "execute_result"
    }
   ],
   "source": [
    "FieldGoals_Per_game"
   ]
  },
  {
   "cell_type": "markdown",
   "id": "0d0a647c-62d0-491d-bab6-f3a33afc2ee3",
   "metadata": {},
   "source": [
    "## Summary Statistics\n",
    "1.sum()-to find sum - has a parameter axis<br>\n",
    "2.mean()- to find mean<br>\n",
    "3.std-standard deviation<br>\n",
    "4.var-variance<br>\n"
   ]
  },
  {
   "cell_type": "code",
   "execution_count": 33,
   "id": "90b875da-9121-4c1d-afec-d1b8fb965372",
   "metadata": {},
   "outputs": [
    {
     "data": {
      "text/plain": [
       "array([[80, 77, 82, 82, 73, 82, 58, 78,  6, 35],\n",
       "       [82, 57, 82, 79, 76, 72, 60, 72, 79, 80],\n",
       "       [79, 78, 75, 81, 76, 79, 62, 76, 77, 69],\n",
       "       [80, 65, 77, 66, 69, 77, 55, 67, 77, 40],\n",
       "       [82, 82, 82, 79, 82, 78, 54, 76, 71, 41],\n",
       "       [70, 69, 67, 77, 70, 77, 57, 74, 79, 44],\n",
       "       [78, 64, 80, 78, 45, 80, 60, 70, 62, 82],\n",
       "       [35, 35, 80, 74, 82, 78, 66, 81, 81, 27],\n",
       "       [40, 40, 40, 81, 78, 81, 39,  0, 10, 51],\n",
       "       [75, 51, 51, 79, 77, 76, 49, 69, 54, 62]])"
      ]
     },
     "execution_count": 33,
     "metadata": {},
     "output_type": "execute_result"
    }
   ],
   "source": [
    "Games"
   ]
  },
  {
   "cell_type": "code",
   "execution_count": 34,
   "id": "c336484d-4975-4028-9263-2816186403f8",
   "metadata": {},
   "outputs": [
    {
     "data": {
      "text/plain": [
       "6669"
      ]
     },
     "execution_count": 34,
     "metadata": {},
     "output_type": "execute_result"
    }
   ],
   "source": [
    "Games.sum()"
   ]
  },
  {
   "cell_type": "code",
   "execution_count": 35,
   "id": "d1e12101-84c9-4db0-ae8e-be7b6a1753d4",
   "metadata": {},
   "outputs": [
    {
     "data": {
      "text/plain": [
       "66.69"
      ]
     },
     "execution_count": 35,
     "metadata": {},
     "output_type": "execute_result"
    }
   ],
   "source": [
    "Games.mean()"
   ]
  },
  {
   "cell_type": "code",
   "execution_count": 36,
   "id": "78308a7e-758c-48a9-b1da-5a5d6c58d84c",
   "metadata": {},
   "outputs": [
    {
     "data": {
      "text/plain": [
       "17.735103608380754"
      ]
     },
     "execution_count": 36,
     "metadata": {},
     "output_type": "execute_result"
    }
   ],
   "source": [
    "Games.std()"
   ]
  },
  {
   "cell_type": "code",
   "execution_count": 37,
   "id": "7a33c34a-3a47-48d8-8b43-492d51ad435b",
   "metadata": {},
   "outputs": [
    {
     "data": {
      "text/plain": [
       "314.5339"
      ]
     },
     "execution_count": 37,
     "metadata": {},
     "output_type": "execute_result"
    }
   ],
   "source": [
    "Games.var()"
   ]
  },
  {
   "cell_type": "code",
   "execution_count": 40,
   "id": "2ce1e2fc-f74a-4143-8213-4320a5f20e7c",
   "metadata": {},
   "outputs": [
    {
     "data": {
      "text/plain": [
       "array([701, 618, 716, 776, 728, 780, 560, 663, 596, 531])"
      ]
     },
     "execution_count": 40,
     "metadata": {},
     "output_type": "execute_result"
    }
   ],
   "source": [
    "#axis 0-find sum column wise\n",
    "Games.sum(axis=0)"
   ]
  },
  {
   "cell_type": "code",
   "execution_count": 41,
   "id": "4a4cf7f8-3b67-4c2b-b99d-975a91fa2abf",
   "metadata": {
    "collapsed": true,
    "jupyter": {
     "outputs_hidden": true,
     "source_hidden": true
    },
    "tags": []
   },
   "outputs": [
    {
     "data": {
      "text/plain": [
       "array([653, 739, 752, 673, 727, 684, 699, 639, 460, 643])"
      ]
     },
     "execution_count": 41,
     "metadata": {},
     "output_type": "execute_result"
    }
   ],
   "source": [
    "#axis 1-find sum row wise\n",
    "Games.sum(axis=1)"
   ]
  },
  {
   "cell_type": "markdown",
   "id": "a3175a47-2d00-45f8-8a56-106b86fd3d00",
   "metadata": {},
   "source": [
    "# Vectorised Operations"
   ]
  },
  {
   "cell_type": "code",
   "execution_count": 43,
   "id": "2eec52e4-5807-4380-a03d-30d670947177",
   "metadata": {
    "tags": []
   },
   "outputs": [],
   "source": [
    "a=np.arange(10)"
   ]
  },
  {
   "cell_type": "code",
   "execution_count": 44,
   "id": "5b86b488-bf55-4a6c-9f95-e35f4559985c",
   "metadata": {},
   "outputs": [
    {
     "data": {
      "text/plain": [
       "array([0, 1, 2, 3, 4, 5, 6, 7, 8, 9])"
      ]
     },
     "execution_count": 44,
     "metadata": {},
     "output_type": "execute_result"
    }
   ],
   "source": [
    "a"
   ]
  },
  {
   "cell_type": "code",
   "execution_count": 49,
   "id": "1ccd862d-e87a-4fc9-8ae8-7bd3ed00abda",
   "metadata": {},
   "outputs": [
    {
     "data": {
      "text/plain": [
       "array([10, 11, 12, 13, 14, 15, 16, 17, 18, 19])"
      ]
     },
     "execution_count": 49,
     "metadata": {},
     "output_type": "execute_result"
    }
   ],
   "source": [
    "#Doesnt modify original array\n",
    "a+10"
   ]
  },
  {
   "cell_type": "code",
   "execution_count": 46,
   "id": "ed1ca0b1-58a4-47c0-8521-66d10e0a6602",
   "metadata": {},
   "outputs": [
    {
     "data": {
      "text/plain": [
       "array([ 0, 10, 20, 30, 40, 50, 60, 70, 80, 90])"
      ]
     },
     "execution_count": 46,
     "metadata": {},
     "output_type": "execute_result"
    }
   ],
   "source": [
    "a*10"
   ]
  },
  {
   "cell_type": "code",
   "execution_count": 48,
   "id": "ad6abc98-e556-4a28-b4c2-6bdd73e7aa23",
   "metadata": {},
   "outputs": [
    {
     "data": {
      "text/plain": [
       "array([0, 1, 2, 3, 4, 5, 6, 7, 8, 9])"
      ]
     },
     "execution_count": 48,
     "metadata": {},
     "output_type": "execute_result"
    }
   ],
   "source": [
    "a"
   ]
  },
  {
   "cell_type": "code",
   "execution_count": 54,
   "id": "a5137bce-ed69-4c81-8416-7604a559e327",
   "metadata": {},
   "outputs": [],
   "source": [
    "b=np.arange(11,21)"
   ]
  },
  {
   "cell_type": "code",
   "execution_count": 55,
   "id": "c741fab8-3841-4bf7-a971-15e504f1064b",
   "metadata": {},
   "outputs": [
    {
     "data": {
      "text/plain": [
       "array([11, 12, 13, 14, 15, 16, 17, 18, 19, 20])"
      ]
     },
     "execution_count": 55,
     "metadata": {},
     "output_type": "execute_result"
    }
   ],
   "source": [
    "b"
   ]
  },
  {
   "cell_type": "code",
   "execution_count": 59,
   "id": "9196a1bc-9718-4a37-8f80-61f1d666af20",
   "metadata": {},
   "outputs": [],
   "source": [
    "c=a+b"
   ]
  },
  {
   "cell_type": "code",
   "execution_count": 57,
   "id": "cedec1a8-5167-4e8a-ad53-7824f08c82a9",
   "metadata": {},
   "outputs": [
    {
     "data": {
      "text/plain": [
       "array([0, 1, 2, 3, 4, 5, 6, 7, 8, 9])"
      ]
     },
     "execution_count": 57,
     "metadata": {},
     "output_type": "execute_result"
    }
   ],
   "source": [
    "a"
   ]
  },
  {
   "cell_type": "code",
   "execution_count": 58,
   "id": "0aaa5f25-4be0-4e92-a8ad-bd2da4e52c90",
   "metadata": {},
   "outputs": [
    {
     "data": {
      "text/plain": [
       "array([11, 12, 13, 14, 15, 16, 17, 18, 19, 20])"
      ]
     },
     "execution_count": 58,
     "metadata": {},
     "output_type": "execute_result"
    }
   ],
   "source": [
    "b"
   ]
  },
  {
   "cell_type": "code",
   "execution_count": 60,
   "id": "0579a5f4-827a-46a9-b3cd-c766dd3ce842",
   "metadata": {},
   "outputs": [
    {
     "data": {
      "text/plain": [
       "array([11, 13, 15, 17, 19, 21, 23, 25, 27, 29])"
      ]
     },
     "execution_count": 60,
     "metadata": {},
     "output_type": "execute_result"
    }
   ],
   "source": [
    "c"
   ]
  },
  {
   "cell_type": "code",
   "execution_count": 83,
   "id": "62ff2311-7b11-406a-8d1c-f85dbb8cd46e",
   "metadata": {},
   "outputs": [],
   "source": [
    "# Boolean arrays -returned by boolean operators"
   ]
  },
  {
   "cell_type": "code",
   "execution_count": 62,
   "id": "9d3ee1a1-fc82-4a09-9890-fc678d25d3ed",
   "metadata": {},
   "outputs": [
    {
     "data": {
      "text/plain": [
       "array([False, False,  True,  True,  True,  True,  True,  True,  True,\n",
       "        True])"
      ]
     },
     "execution_count": 62,
     "metadata": {},
     "output_type": "execute_result"
    }
   ],
   "source": [
    "a>=2"
   ]
  },
  {
   "cell_type": "code",
   "execution_count": 70,
   "id": "c9b6d2e2-7f62-42f1-a96d-304428e7f292",
   "metadata": {},
   "outputs": [
    {
     "data": {
      "text/plain": [
       "array([13, 14, 15, 16, 17, 18, 19, 20])"
      ]
     },
     "execution_count": 70,
     "metadata": {},
     "output_type": "execute_result"
    }
   ],
   "source": [
    "b[b>12]"
   ]
  },
  {
   "cell_type": "code",
   "execution_count": 71,
   "id": "abe64803-2d9d-4d24-905f-b6e0ba6336e1",
   "metadata": {},
   "outputs": [],
   "source": [
    "v=b>15"
   ]
  },
  {
   "cell_type": "code",
   "execution_count": 72,
   "id": "69cd53fc-7544-462f-963f-35f627acb8dd",
   "metadata": {},
   "outputs": [
    {
     "data": {
      "text/plain": [
       "array([16, 17, 18, 19, 20])"
      ]
     },
     "execution_count": 72,
     "metadata": {},
     "output_type": "execute_result"
    }
   ],
   "source": [
    "b[v]"
   ]
  },
  {
   "cell_type": "code",
   "execution_count": 81,
   "id": "68f188de-5f59-45fa-b766-5f9cceba4149",
   "metadata": {},
   "outputs": [],
   "source": [
    "v=b>15"
   ]
  },
  {
   "cell_type": "code",
   "execution_count": 82,
   "id": "faecbe4e-2b71-4501-be67-f3faff743cb0",
   "metadata": {},
   "outputs": [
    {
     "data": {
      "text/plain": [
       "array([16, 17, 18, 19, 20])"
      ]
     },
     "execution_count": 82,
     "metadata": {},
     "output_type": "execute_result"
    }
   ],
   "source": [
    "b[v]"
   ]
  },
  {
   "cell_type": "code",
   "execution_count": 84,
   "id": "dd1250e6-6b52-407e-a7bb-c5f98f29c044",
   "metadata": {},
   "outputs": [],
   "source": [
    "# Useful Python functions\n"
   ]
  },
  {
   "cell_type": "code",
   "execution_count": null,
   "id": "b35140e2-b4e4-4fa7-9d57-b5922a283dfd",
   "metadata": {},
   "outputs": [],
   "source": []
  }
 ],
 "metadata": {
  "kernelspec": {
   "display_name": "Python 3 (ipykernel)",
   "language": "python",
   "name": "python3"
  },
  "language_info": {
   "codemirror_mode": {
    "name": "ipython",
    "version": 3
   },
   "file_extension": ".py",
   "mimetype": "text/x-python",
   "name": "python",
   "nbconvert_exporter": "python",
   "pygments_lexer": "ipython3",
   "version": "3.9.5"
  }
 },
 "nbformat": 4,
 "nbformat_minor": 5
}
