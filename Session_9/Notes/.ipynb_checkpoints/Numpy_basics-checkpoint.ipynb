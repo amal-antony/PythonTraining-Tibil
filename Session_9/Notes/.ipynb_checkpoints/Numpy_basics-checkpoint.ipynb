{
 "cells": [
  {
   "cell_type": "markdown",
   "id": "5c654c6f-baf5-4141-82bf-04fbd81d54c1",
   "metadata": {},
   "source": [
    "# Numpy\n",
    "\n",
    "1.A numeric computing Library to work with arrays , matrices and do advanced mathematical ad statistical operations on them.<br>\n",
    "2.It can work with multi dimensional arrays and in domain of linear algebra, fourier transform, and matrices.<br>\n",
    "3.Provides arrays that are much faster than lists.<br>\n",
    "4.Arrays are stored at one continuous place in memory unlike lists, so processes can access and manipulate them very efficiently.\n"
   ]
  },
  {
   "cell_type": "markdown",
   "id": "6c80e13c-c701-4813-9797-bfedd6b0fe6f",
   "metadata": {},
   "source": [
    "#Creating an array\n",
    "\n",
    "1.Import numpy as anything say np<br>\n",
    "\n",
    "2.use np.array() function which takes a list as parameter for eg for a list [1,2,3,4] use the  np.array([1,2,3,4])"
   ]
  },
  {
   "cell_type": "code",
   "execution_count": 1,
   "id": "58564435-4295-4cba-8631-99e736bb1c2f",
   "metadata": {},
   "outputs": [
    {
     "name": "stdout",
     "output_type": "stream",
     "text": [
      "[1 2 3 4]\n"
     ]
    }
   ],
   "source": [
    "import numpy as np\n",
    "\n",
    "l=[1,2,3,4]\n",
    "\n",
    "a = np.array(l)\n",
    "print(a)"
   ]
  },
  {
   "cell_type": "markdown",
   "id": "50f57d2c-202a-4779-9b18-34b245f93231",
   "metadata": {},
   "source": [
    "# Checking dimensions\n",
    "Dimensions ca be checked using the attribute\n",
    "## 1. ndim\n",
    "It can also be used to create an array with specific dimensions"
   ]
  },
  {
   "cell_type": "code",
   "execution_count": 3,
   "id": "ae88b9f6-6037-4f8e-80b6-967f991a397c",
   "metadata": {},
   "outputs": [
    {
     "name": "stdout",
     "output_type": "stream",
     "text": [
      " The dimesions of array c is 2\n"
     ]
    }
   ],
   "source": [
    "c = np.array([[1, 2, 3], [4, 5, 6]])\n",
    "print(f\" The dimesions of array c is {c.ndim}\") "
   ]
  },
  {
   "cell_type": "code",
   "execution_count": 4,
   "id": "1ee3bb85-22cc-44d1-bc43-0089ba573b5c",
   "metadata": {},
   "outputs": [
    {
     "name": "stdout",
     "output_type": "stream",
     "text": [
      "[[[[[1 2 3 4]]]]]\n",
      "number of dimensions : 5\n"
     ]
    }
   ],
   "source": [
    "arr = np.array([1, 2, 3, 4], ndmin=5)\n",
    "\n",
    "print(arr)\n",
    "print('number of dimensions :', arr.ndim) "
   ]
  },
  {
   "cell_type": "markdown",
   "id": "8b1ae005-fa75-4aab-92d2-12a2f93bcac2",
   "metadata": {},
   "source": [
    "# Indexing Array elements\n",
    "1.Array indexing is the same as accessing an array element.<br>\n",
    "\n",
    "2.The indexes in NumPy arrays start with 0, meaning that the first element has index 0, and the second has index 1 etc.<br>\n",
    "\n",
    "3.For multidimensional arrays say 2 dimensional arrays or matrices if we have to access the element at nth index of mth row <br>\n",
    "\n",
    "    a.array[m][n]\n",
    "    b.array[m,n]\n",
    "    \n",
    "4.Also supports negative indexing ie -1 will give last element"
   ]
  },
  {
   "cell_type": "code",
   "execution_count": 5,
   "id": "4dedad12-1bf5-4093-bdec-c7a73733dc4c",
   "metadata": {},
   "outputs": [
    {
     "name": "stdout",
     "output_type": "stream",
     "text": [
      "1\n"
     ]
    }
   ],
   "source": [
    "print(a[0])"
   ]
  },
  {
   "cell_type": "code",
   "execution_count": 6,
   "id": "a6a99bd2-a7d8-41d6-a3b7-cd32785966ec",
   "metadata": {},
   "outputs": [
    {
     "name": "stdout",
     "output_type": "stream",
     "text": [
      "3\n"
     ]
    }
   ],
   "source": [
    "print(a[2])"
   ]
  },
  {
   "cell_type": "code",
   "execution_count": 8,
   "id": "daef4f90-788b-420f-8ba5-a291387c5f78",
   "metadata": {},
   "outputs": [
    {
     "name": "stdout",
     "output_type": "stream",
     "text": [
      "3\n",
      "6\n"
     ]
    }
   ],
   "source": [
    "print(c[0][2])\n",
    "print(c[1][2])"
   ]
  },
  {
   "cell_type": "code",
   "execution_count": 11,
   "id": "c557fcfe-e687-416a-9e34-45741321d89b",
   "metadata": {},
   "outputs": [
    {
     "name": "stdout",
     "output_type": "stream",
     "text": [
      "3\n",
      "6\n"
     ]
    }
   ],
   "source": [
    "print(c[0,2])\n",
    "print(c[1,2])"
   ]
  },
  {
   "cell_type": "code",
   "execution_count": 13,
   "id": "73bac689-303b-4928-a0e4-85470c9cce19",
   "metadata": {},
   "outputs": [
    {
     "name": "stdout",
     "output_type": "stream",
     "text": [
      "6\n"
     ]
    },
    {
     "ename": "IndexError",
     "evalue": "index 2 is out of bounds for axis 1 with size 2",
     "output_type": "error",
     "traceback": [
      "\u001b[0;31m---------------------------------------------------------------------------\u001b[0m",
      "\u001b[0;31mIndexError\u001b[0m                                Traceback (most recent call last)",
      "\u001b[0;32m/tmp/ipykernel_36779/4090277048.py\u001b[0m in \u001b[0;36m<module>\u001b[0;34m\u001b[0m\n\u001b[1;32m      2\u001b[0m \u001b[0;34m\u001b[0m\u001b[0m\n\u001b[1;32m      3\u001b[0m \u001b[0mprint\u001b[0m\u001b[0;34m(\u001b[0m\u001b[0me\u001b[0m\u001b[0;34m[\u001b[0m\u001b[0;36m0\u001b[0m\u001b[0;34m,\u001b[0m \u001b[0;36m1\u001b[0m\u001b[0;34m,\u001b[0m \u001b[0;36m2\u001b[0m\u001b[0;34m]\u001b[0m\u001b[0;34m)\u001b[0m\u001b[0;34m\u001b[0m\u001b[0;34m\u001b[0m\u001b[0m\n\u001b[0;32m----> 4\u001b[0;31m \u001b[0mprint\u001b[0m\u001b[0;34m(\u001b[0m\u001b[0me\u001b[0m\u001b[0;34m[\u001b[0m\u001b[0;36m0\u001b[0m\u001b[0;34m,\u001b[0m \u001b[0;36m2\u001b[0m\u001b[0;34m,\u001b[0m \u001b[0;36m2\u001b[0m\u001b[0;34m]\u001b[0m\u001b[0;34m)\u001b[0m\u001b[0;34m\u001b[0m\u001b[0;34m\u001b[0m\u001b[0m\n\u001b[0m",
      "\u001b[0;31mIndexError\u001b[0m: index 2 is out of bounds for axis 1 with size 2"
     ]
    }
   ],
   "source": [
    "e = np.array([[[1, 2, 3], [4, 5, 6]], [[7, 8, 9], [10, 11, 12]]])\n",
    "\n",
    "print(e[0, 1, 2]) \n",
    "print(e[0, 2, 2]) "
   ]
  },
  {
   "cell_type": "code",
   "execution_count": 14,
   "id": "22219133-ba35-45c1-8505-50518efadcc0",
   "metadata": {},
   "outputs": [
    {
     "name": "stdout",
     "output_type": "stream",
     "text": [
      "Last element from 2nd dim:  10\n"
     ]
    }
   ],
   "source": [
    "arr = np.array([[1,2,3,4,5], [6,7,8,9,10]])\n",
    "\n",
    "print('Last element from 2nd dim: ', arr[1, -1]) "
   ]
  },
  {
   "cell_type": "markdown",
   "id": "f4097e9e-9d5a-450c-9664-f997f5fccefe",
   "metadata": {},
   "source": [
    "# Indexing in arrays\n",
    "\n",
    "1.Slicing in python means taking elements from one given index to another given index.\n",
    "\n",
    "2.We pass slice instead of index like this: [start:end].\n",
    "\n",
    "3.We can also define the step, like this: [start:end:step]\n",
    "\n",
    "4.Supports negative indexing i.e -1 gives last element"
   ]
  },
  {
   "cell_type": "code",
   "execution_count": 20,
   "id": "e990d789-391b-4782-93e2-b2cadc4bed81",
   "metadata": {},
   "outputs": [
    {
     "name": "stdout",
     "output_type": "stream",
     "text": [
      "[2 3 4 5]\n",
      "[1 2 3 4]\n",
      "[5 6]\n",
      "[2 4]\n",
      "[1 3 5 7]\n"
     ]
    }
   ],
   "source": [
    "arr = np.array([1, 2, 3, 4, 5, 6, 7])\n",
    "\n",
    "print(arr[1:5]) \n",
    "print(arr[:4]) \n",
    "print(arr[-3:-1])\n",
    "print(arr[1:5:2]) \n",
    "print(arr[::2]) \n"
   ]
  },
  {
   "cell_type": "code",
   "execution_count": 19,
   "id": "154577ca-cb08-4e6b-b6fd-0eff8e302e9b",
   "metadata": {},
   "outputs": [
    {
     "name": "stdout",
     "output_type": "stream",
     "text": [
      "[7 8 9]\n"
     ]
    }
   ],
   "source": [
    "arr2 = np.array([[1, 2, 3, 4, 5], [6, 7, 8, 9, 10]])\n",
    "print(arr2[1, 1:4]) "
   ]
  },
  {
   "cell_type": "markdown",
   "id": "72f9d054-b7f2-45fd-9e19-ecfacf82991e",
   "metadata": {},
   "source": [
    "# DataTypes in Numpy\n",
    "\n",
    "    i - integer\n",
    "    b - boolean\n",
    "    u - unsigned integer\n",
    "    f - float\n",
    "    c - complex float\n",
    "    m - timedelta\n",
    "    M - datetime\n",
    "    O - object\n",
    "    S - string\n",
    "    U - unicode string\n",
    "    V - fixed chunk of memory for other type ( void )\n",
    "    \n",
    "# dtype -Checking datatype\n",
    "The NumPy array object has a property called dtype that returns the data type of the array:\n",
    "\n",
    "# Creating Array With a Defined Data Type\n",
    "\n",
    "We use the array() function to create arrays, this function can take an optional argument: dtype that allows us to define the expected data type of the array elements:\n"
   ]
  },
  {
   "cell_type": "code",
   "execution_count": 21,
   "id": "ec091e5b-406e-4e97-b041-5bfc8428b7f9",
   "metadata": {},
   "outputs": [
    {
     "name": "stdout",
     "output_type": "stream",
     "text": [
      "int64\n"
     ]
    }
   ],
   "source": [
    "print(arr.dtype) "
   ]
  },
  {
   "cell_type": "code",
   "execution_count": 24,
   "id": "9b276f35-5068-4c7d-ba48-b38accee8d8c",
   "metadata": {},
   "outputs": [
    {
     "name": "stdout",
     "output_type": "stream",
     "text": [
      "<U6\n"
     ]
    }
   ],
   "source": [
    "arr4 = np.array(['apple', 'banana', 'cherry'])\n",
    "\n",
    "print(arr4.dtype) "
   ]
  },
  {
   "cell_type": "code",
   "execution_count": 25,
   "id": "21581850-3d2a-4985-ad8c-c25bf4b5f66b",
   "metadata": {},
   "outputs": [
    {
     "name": "stdout",
     "output_type": "stream",
     "text": [
      "[b'1' b'2' b'3' b'4']\n",
      "|S1\n"
     ]
    }
   ],
   "source": [
    "arr5 = np.array([1, 2, 3, 4], dtype='S')\n",
    "\n",
    "print(arr5)\n",
    "print(arr5.dtype) "
   ]
  },
  {
   "cell_type": "markdown",
   "id": "83534113-f689-4b5b-bf76-a8f3e44259b9",
   "metadata": {},
   "source": [
    "# Convert Data Type on Existing Arrays\n",
    "\n",
    "## astype()- \n",
    "The astype() function creates a copy of the array, and allows you to specify the data type as a parameter."
   ]
  },
  {
   "cell_type": "code",
   "execution_count": 31,
   "id": "38546090-046a-4fce-a045-76586d0096fb",
   "metadata": {
    "tags": []
   },
   "outputs": [
    {
     "name": "stdout",
     "output_type": "stream",
     "text": [
      "[1 2 3]\n",
      "int32\n"
     ]
    }
   ],
   "source": [
    "arr6 = np.array([1.1, 2.1, 3.1])\n",
    "\n",
    "newarr = arr6.astype('i')\n",
    "\n",
    "print(newarr)\n",
    "print(newarr.dtype) "
   ]
  },
  {
   "cell_type": "code",
   "execution_count": 32,
   "id": "11cdecb6-8591-4df5-a782-f0245f711695",
   "metadata": {},
   "outputs": [
    {
     "name": "stdout",
     "output_type": "stream",
     "text": [
      "[1 2 3]\n",
      "int64\n"
     ]
    }
   ],
   "source": [
    "arr7 = np.array([1.1, 2.1, 3.1])\n",
    "\n",
    "newarr2 = arr7.astype(int)\n",
    "\n",
    "print(newarr2)\n",
    "print(newarr2.dtype) "
   ]
  },
  {
   "cell_type": "code",
   "execution_count": null,
   "id": "1cb7f174-4309-4052-be1e-d8132958691c",
   "metadata": {},
   "outputs": [],
   "source": []
  }
 ],
 "metadata": {
  "kernelspec": {
   "display_name": "Python 3 (ipykernel)",
   "language": "python",
   "name": "python3"
  },
  "language_info": {
   "codemirror_mode": {
    "name": "ipython",
    "version": 3
   },
   "file_extension": ".py",
   "mimetype": "text/x-python",
   "name": "python",
   "nbconvert_exporter": "python",
   "pygments_lexer": "ipython3",
   "version": "3.9.5"
  }
 },
 "nbformat": 4,
 "nbformat_minor": 5
}
