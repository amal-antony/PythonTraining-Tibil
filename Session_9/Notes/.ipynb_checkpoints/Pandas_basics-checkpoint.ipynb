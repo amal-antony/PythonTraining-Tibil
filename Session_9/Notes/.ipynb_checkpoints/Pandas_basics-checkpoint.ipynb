{
 "cells": [
  {
   "cell_type": "markdown",
   "id": "c9985939-cfc3-45a5-8b89-6899668f1cc5",
   "metadata": {},
   "source": [
    "# Pandas\n",
    "\n",
    "Pandas is an open source Python package that is most widely used for data science/data analysis and machine learning tasks. \n",
    "\n",
    "It is built on top of another package named Numpy, which provides support for multi-dimensional arrays.\n",
    "\n",
    "Data cleansing\n",
    "\n",
    "Data fill\n",
    "\n",
    "Data normalization\n",
    "\n",
    "Merges and joins\n",
    "\n",
    "Data visualization\n",
    "\n",
    "Statistical analysis\n",
    "\n",
    "Data inspection\n",
    "\n",
    "Loading and saving data'"
   ]
  },
  {
   "cell_type": "markdown",
   "id": "d368810b-87e4-4c05-98e0-c201a787f675",
   "metadata": {},
   "source": [
    "# What is a DataFrame?\n",
    "\n",
    "A Pandas DataFrame is a 2 dimensional data structure, like a 2 dimensional array, or a table with rows and columns.\n",
    "\n",
    "### Creaing a dataframe\n",
    "\n",
    "pd.dataframe(data)"
   ]
  },
  {
   "cell_type": "code",
   "execution_count": 2,
   "id": "dd6559ce-2239-41a6-8ded-8ea8db12b4e3",
   "metadata": {},
   "outputs": [],
   "source": [
    "import pandas as pd\n",
    "\n",
    "data = {\n",
    "  \"calories\": [420, 380, 390],\n",
    "  \"duration\": [50, 40, 45]\n",
    "}\n",
    "\n",
    "#load data into a DataFrame object:\n",
    "df = pd.DataFrame(data)"
   ]
  },
  {
   "cell_type": "code",
   "execution_count": 3,
   "id": "80df3272-10ca-4c65-87a3-d66749763eb1",
   "metadata": {},
   "outputs": [
    {
     "name": "stdout",
     "output_type": "stream",
     "text": [
      "   calories  duration\n",
      "0       420        50\n",
      "1       380        40\n",
      "2       390        45\n"
     ]
    }
   ],
   "source": [
    "print(df)"
   ]
  },
  {
   "cell_type": "markdown",
   "id": "4b801bb5-0594-4fee-a978-56763111ed68",
   "metadata": {},
   "source": [
    "# Locate Row\n",
    "\n",
    "### loc\n",
    "\n",
    "Pandas use the  attribute to return one or more specified row(s)"
   ]
  },
  {
   "cell_type": "code",
   "execution_count": 5,
   "id": "e04d24dc-faef-44c7-be41-3031ff180197",
   "metadata": {},
   "outputs": [
    {
     "name": "stdout",
     "output_type": "stream",
     "text": [
      "calories    420\n",
      "duration     50\n",
      "Name: 0, dtype: int64\n"
     ]
    }
   ],
   "source": [
    "print(df.loc[0])"
   ]
  },
  {
   "cell_type": "code",
   "execution_count": 6,
   "id": "ec239f42-0ffc-48e7-97a2-c1f7947dd835",
   "metadata": {},
   "outputs": [
    {
     "name": "stdout",
     "output_type": "stream",
     "text": [
      "   calories  duration\n",
      "0       420        50\n",
      "1       380        40\n"
     ]
    }
   ],
   "source": [
    "print(df.loc[[0, 1]])"
   ]
  },
  {
   "cell_type": "markdown",
   "id": "bb6f17c3-d3e0-46e1-a830-6e543db119ff",
   "metadata": {},
   "source": [
    "# Named Indexes\n",
    "\n",
    "### index\n",
    "\n",
    "With the  argument, we can name your own indexes.\n",
    "\n",
    "We can locate these indexex using loc attribute"
   ]
  },
  {
   "cell_type": "code",
   "execution_count": 7,
   "id": "a1238dc7-5cb3-4e9c-8e51-3318030623e5",
   "metadata": {},
   "outputs": [
    {
     "name": "stdout",
     "output_type": "stream",
     "text": [
      "      calories  duration\n",
      "day1       420        50\n",
      "day2       380        40\n",
      "day3       390        45\n"
     ]
    }
   ],
   "source": [
    "data = {\n",
    "  \"calories\": [420, 380, 390],\n",
    "  \"duration\": [50, 40, 45]\n",
    "}\n",
    "\n",
    "df = pd.DataFrame(data, index = [\"day1\", \"day2\", \"day3\"])\n",
    "\n",
    "print(df) "
   ]
  },
  {
   "cell_type": "code",
   "execution_count": 8,
   "id": "09f371df-569e-4bd4-a455-ac4f38444d66",
   "metadata": {},
   "outputs": [
    {
     "name": "stdout",
     "output_type": "stream",
     "text": [
      "calories    380\n",
      "duration     40\n",
      "Name: day2, dtype: int64\n"
     ]
    }
   ],
   "source": [
    "print(df.loc[\"day2\"])"
   ]
  },
  {
   "cell_type": "markdown",
   "id": "abb574cd-1b65-44ed-9206-419c6ac0f29c",
   "metadata": {},
   "source": [
    "# Load Files Into a DataFrame\n",
    "\n",
    "### read_csv:\n",
    "To load csv files\n"
   ]
  },
  {
   "cell_type": "code",
   "execution_count": 15,
   "id": "108d52a4-ef5d-485a-8624-3efc3f55e119",
   "metadata": {},
   "outputs": [
    {
     "name": "stdout",
     "output_type": "stream",
     "text": [
      "                                             description  \\\n",
      "0       Business status Alert Level 4: Fully operational   \n",
      "1       Business status Alert Level 4: Fully operational   \n",
      "2       Business status Alert Level 4: Fully operational   \n",
      "3       Business status Alert Level 4: Fully operational   \n",
      "4       Business status Alert Level 4: Fully operational   \n",
      "...                                                  ...   \n",
      "10053  Reasons why you expect COVID-19 pandemic to ch...   \n",
      "10054  Reasons why you expect COVID-19 pandemic to ch...   \n",
      "10055  Reasons why you expect COVID-19 pandemic to ch...   \n",
      "10056  Reasons why you expect COVID-19 pandemic to ch...   \n",
      "10057  Reasons why you expect COVID-19 pandemic to ch...   \n",
      "\n",
      "                               industry  level             size line_code  \\\n",
      "0                                 total      0   619 employees  C0301.01   \n",
      "1                                 total      0  2049 employees  C0301.01   \n",
      "2                                 total      0  5099 employees  C0301.01   \n",
      "3                                 total      0   100+ employees  C0301.01   \n",
      "4      Agriculture, forestry, & fishing      1            total  C0301.01   \n",
      "...                                 ...    ...              ...       ...   \n",
      "10053              Education & training      1            total     C2309   \n",
      "10054   Health care & social assistance      1            total     C2309   \n",
      "10055        Arts & recreation services      1            total     C2309   \n",
      "10056                    Other services      1            total     C2309   \n",
      "10057                             total      0            total     C2309   \n",
      "\n",
      "       value  \n",
      "0       6054  \n",
      "1       1650  \n",
      "2        735  \n",
      "3        711  \n",
      "4       2175  \n",
      "...      ...  \n",
      "10053     21  \n",
      "10054     27  \n",
      "10055      0  \n",
      "10056     12  \n",
      "10057    231  \n",
      "\n",
      "[10058 rows x 6 columns]\n"
     ]
    }
   ],
   "source": [
    "df = pd.read_csv('business-operations-survey-2020-covid-19-csv.csv',encoding = \"ISO-8859-1\", engine='python')\n",
    "print(df) "
   ]
  },
  {
   "cell_type": "code",
   "execution_count": 16,
   "id": "e88638a7-ba6a-495d-8e7b-7e37d888b370",
   "metadata": {},
   "outputs": [
    {
     "data": {
      "text/plain": [
       "10058"
      ]
     },
     "execution_count": 16,
     "metadata": {},
     "output_type": "execute_result"
    }
   ],
   "source": [
    "len(df)"
   ]
  },
  {
   "cell_type": "code",
   "execution_count": 17,
   "id": "19b75d90-7b6f-4f42-97d5-59c16834d8a1",
   "metadata": {},
   "outputs": [
    {
     "data": {
      "text/plain": [
       "Index(['description', 'industry', 'level', 'size', 'line_code', 'value'], dtype='object')"
      ]
     },
     "execution_count": 17,
     "metadata": {},
     "output_type": "execute_result"
    }
   ],
   "source": [
    "df.columns"
   ]
  },
  {
   "cell_type": "markdown",
   "id": "c68edf1a-432d-476b-a94e-2e2739a8992a",
   "metadata": {},
   "source": [
    "## head()\n",
    "  Can take a paramater , returns the first number of those many rows . if no parameter shows 5 rows by default\n",
    "  \n",
    "## tail()\n",
    "  Can take a paramater , returns the last number of those many rows . if no parameter , shows  5 rows by default"
   ]
  },
  {
   "cell_type": "code",
   "execution_count": 18,
   "id": "400396a8-1b8c-4ec4-b699-e5cc500f559c",
   "metadata": {
    "tags": []
   },
   "outputs": [
    {
     "data": {
      "text/html": [
       "<div>\n",
       "<style scoped>\n",
       "    .dataframe tbody tr th:only-of-type {\n",
       "        vertical-align: middle;\n",
       "    }\n",
       "\n",
       "    .dataframe tbody tr th {\n",
       "        vertical-align: top;\n",
       "    }\n",
       "\n",
       "    .dataframe thead th {\n",
       "        text-align: right;\n",
       "    }\n",
       "</style>\n",
       "<table border=\"1\" class=\"dataframe\">\n",
       "  <thead>\n",
       "    <tr style=\"text-align: right;\">\n",
       "      <th></th>\n",
       "      <th>description</th>\n",
       "      <th>industry</th>\n",
       "      <th>level</th>\n",
       "      <th>size</th>\n",
       "      <th>line_code</th>\n",
       "      <th>value</th>\n",
       "    </tr>\n",
       "  </thead>\n",
       "  <tbody>\n",
       "    <tr>\n",
       "      <th>0</th>\n",
       "      <td>Business status Alert Level 4: Fully operational</td>\n",
       "      <td>total</td>\n",
       "      <td>0</td>\n",
       "      <td>619 employees</td>\n",
       "      <td>C0301.01</td>\n",
       "      <td>6054</td>\n",
       "    </tr>\n",
       "    <tr>\n",
       "      <th>1</th>\n",
       "      <td>Business status Alert Level 4: Fully operational</td>\n",
       "      <td>total</td>\n",
       "      <td>0</td>\n",
       "      <td>2049 employees</td>\n",
       "      <td>C0301.01</td>\n",
       "      <td>1650</td>\n",
       "    </tr>\n",
       "    <tr>\n",
       "      <th>2</th>\n",
       "      <td>Business status Alert Level 4: Fully operational</td>\n",
       "      <td>total</td>\n",
       "      <td>0</td>\n",
       "      <td>5099 employees</td>\n",
       "      <td>C0301.01</td>\n",
       "      <td>735</td>\n",
       "    </tr>\n",
       "    <tr>\n",
       "      <th>3</th>\n",
       "      <td>Business status Alert Level 4: Fully operational</td>\n",
       "      <td>total</td>\n",
       "      <td>0</td>\n",
       "      <td>100+ employees</td>\n",
       "      <td>C0301.01</td>\n",
       "      <td>711</td>\n",
       "    </tr>\n",
       "    <tr>\n",
       "      <th>4</th>\n",
       "      <td>Business status Alert Level 4: Fully operational</td>\n",
       "      <td>Agriculture, forestry, &amp; fishing</td>\n",
       "      <td>1</td>\n",
       "      <td>total</td>\n",
       "      <td>C0301.01</td>\n",
       "      <td>2175</td>\n",
       "    </tr>\n",
       "  </tbody>\n",
       "</table>\n",
       "</div>"
      ],
      "text/plain": [
       "                                        description  \\\n",
       "0  Business status Alert Level 4: Fully operational   \n",
       "1  Business status Alert Level 4: Fully operational   \n",
       "2  Business status Alert Level 4: Fully operational   \n",
       "3  Business status Alert Level 4: Fully operational   \n",
       "4  Business status Alert Level 4: Fully operational   \n",
       "\n",
       "                           industry  level             size line_code  value  \n",
       "0                             total      0   619 employees  C0301.01   6054  \n",
       "1                             total      0  2049 employees  C0301.01   1650  \n",
       "2                             total      0  5099 employees  C0301.01    735  \n",
       "3                             total      0   100+ employees  C0301.01    711  \n",
       "4  Agriculture, forestry, & fishing      1            total  C0301.01   2175  "
      ]
     },
     "execution_count": 18,
     "metadata": {},
     "output_type": "execute_result"
    }
   ],
   "source": [
    "df.head()\n"
   ]
  },
  {
   "cell_type": "code",
   "execution_count": 19,
   "id": "0cb3a874-bba5-4a7f-9eb5-c74fde9e33a1",
   "metadata": {},
   "outputs": [
    {
     "data": {
      "text/html": [
       "<div>\n",
       "<style scoped>\n",
       "    .dataframe tbody tr th:only-of-type {\n",
       "        vertical-align: middle;\n",
       "    }\n",
       "\n",
       "    .dataframe tbody tr th {\n",
       "        vertical-align: top;\n",
       "    }\n",
       "\n",
       "    .dataframe thead th {\n",
       "        text-align: right;\n",
       "    }\n",
       "</style>\n",
       "<table border=\"1\" class=\"dataframe\">\n",
       "  <thead>\n",
       "    <tr style=\"text-align: right;\">\n",
       "      <th></th>\n",
       "      <th>description</th>\n",
       "      <th>industry</th>\n",
       "      <th>level</th>\n",
       "      <th>size</th>\n",
       "      <th>line_code</th>\n",
       "      <th>value</th>\n",
       "    </tr>\n",
       "  </thead>\n",
       "  <tbody>\n",
       "    <tr>\n",
       "      <th>0</th>\n",
       "      <td>Business status Alert Level 4: Fully operational</td>\n",
       "      <td>total</td>\n",
       "      <td>0</td>\n",
       "      <td>619 employees</td>\n",
       "      <td>C0301.01</td>\n",
       "      <td>6054</td>\n",
       "    </tr>\n",
       "    <tr>\n",
       "      <th>1</th>\n",
       "      <td>Business status Alert Level 4: Fully operational</td>\n",
       "      <td>total</td>\n",
       "      <td>0</td>\n",
       "      <td>2049 employees</td>\n",
       "      <td>C0301.01</td>\n",
       "      <td>1650</td>\n",
       "    </tr>\n",
       "    <tr>\n",
       "      <th>2</th>\n",
       "      <td>Business status Alert Level 4: Fully operational</td>\n",
       "      <td>total</td>\n",
       "      <td>0</td>\n",
       "      <td>5099 employees</td>\n",
       "      <td>C0301.01</td>\n",
       "      <td>735</td>\n",
       "    </tr>\n",
       "    <tr>\n",
       "      <th>3</th>\n",
       "      <td>Business status Alert Level 4: Fully operational</td>\n",
       "      <td>total</td>\n",
       "      <td>0</td>\n",
       "      <td>100+ employees</td>\n",
       "      <td>C0301.01</td>\n",
       "      <td>711</td>\n",
       "    </tr>\n",
       "    <tr>\n",
       "      <th>4</th>\n",
       "      <td>Business status Alert Level 4: Fully operational</td>\n",
       "      <td>Agriculture, forestry, &amp; fishing</td>\n",
       "      <td>1</td>\n",
       "      <td>total</td>\n",
       "      <td>C0301.01</td>\n",
       "      <td>2175</td>\n",
       "    </tr>\n",
       "    <tr>\n",
       "      <th>5</th>\n",
       "      <td>Business status Alert Level 4: Fully operational</td>\n",
       "      <td>Agriculture</td>\n",
       "      <td>2</td>\n",
       "      <td>total</td>\n",
       "      <td>C0301.01</td>\n",
       "      <td>1839</td>\n",
       "    </tr>\n",
       "    <tr>\n",
       "      <th>6</th>\n",
       "      <td>Business status Alert Level 4: Fully operational</td>\n",
       "      <td>Commercial fishing</td>\n",
       "      <td>2</td>\n",
       "      <td>total</td>\n",
       "      <td>C0301.01</td>\n",
       "      <td>18</td>\n",
       "    </tr>\n",
       "    <tr>\n",
       "      <th>7</th>\n",
       "      <td>Business status Alert Level 4: Fully operational</td>\n",
       "      <td>Forestry &amp; logging</td>\n",
       "      <td>2</td>\n",
       "      <td>total</td>\n",
       "      <td>C0301.01</td>\n",
       "      <td>6</td>\n",
       "    </tr>\n",
       "    <tr>\n",
       "      <th>8</th>\n",
       "      <td>Business status Alert Level 4: Fully operational</td>\n",
       "      <td>Agriculture, forestry, &amp; fishing support services</td>\n",
       "      <td>2</td>\n",
       "      <td>total</td>\n",
       "      <td>C0301.01</td>\n",
       "      <td>312</td>\n",
       "    </tr>\n",
       "    <tr>\n",
       "      <th>9</th>\n",
       "      <td>Business status Alert Level 4: Fully operational</td>\n",
       "      <td>Mining</td>\n",
       "      <td>1</td>\n",
       "      <td>total</td>\n",
       "      <td>C0301.01</td>\n",
       "      <td>18</td>\n",
       "    </tr>\n",
       "  </tbody>\n",
       "</table>\n",
       "</div>"
      ],
      "text/plain": [
       "                                        description  \\\n",
       "0  Business status Alert Level 4: Fully operational   \n",
       "1  Business status Alert Level 4: Fully operational   \n",
       "2  Business status Alert Level 4: Fully operational   \n",
       "3  Business status Alert Level 4: Fully operational   \n",
       "4  Business status Alert Level 4: Fully operational   \n",
       "5  Business status Alert Level 4: Fully operational   \n",
       "6  Business status Alert Level 4: Fully operational   \n",
       "7  Business status Alert Level 4: Fully operational   \n",
       "8  Business status Alert Level 4: Fully operational   \n",
       "9  Business status Alert Level 4: Fully operational   \n",
       "\n",
       "                                            industry  level             size  \\\n",
       "0                                              total      0   619 employees   \n",
       "1                                              total      0  2049 employees   \n",
       "2                                              total      0  5099 employees   \n",
       "3                                              total      0   100+ employees   \n",
       "4                   Agriculture, forestry, & fishing      1            total   \n",
       "5                                        Agriculture      2            total   \n",
       "6                                 Commercial fishing      2            total   \n",
       "7                                 Forestry & logging      2            total   \n",
       "8  Agriculture, forestry, & fishing support services      2            total   \n",
       "9                                             Mining      1            total   \n",
       "\n",
       "  line_code  value  \n",
       "0  C0301.01   6054  \n",
       "1  C0301.01   1650  \n",
       "2  C0301.01    735  \n",
       "3  C0301.01    711  \n",
       "4  C0301.01   2175  \n",
       "5  C0301.01   1839  \n",
       "6  C0301.01     18  \n",
       "7  C0301.01      6  \n",
       "8  C0301.01    312  \n",
       "9  C0301.01     18  "
      ]
     },
     "execution_count": 19,
     "metadata": {},
     "output_type": "execute_result"
    }
   ],
   "source": [
    "df.head(10)"
   ]
  },
  {
   "cell_type": "code",
   "execution_count": 20,
   "id": "0e2c9f65-e991-465b-97d3-d4d220ce4ea9",
   "metadata": {},
   "outputs": [
    {
     "data": {
      "text/html": [
       "<div>\n",
       "<style scoped>\n",
       "    .dataframe tbody tr th:only-of-type {\n",
       "        vertical-align: middle;\n",
       "    }\n",
       "\n",
       "    .dataframe tbody tr th {\n",
       "        vertical-align: top;\n",
       "    }\n",
       "\n",
       "    .dataframe thead th {\n",
       "        text-align: right;\n",
       "    }\n",
       "</style>\n",
       "<table border=\"1\" class=\"dataframe\">\n",
       "  <thead>\n",
       "    <tr style=\"text-align: right;\">\n",
       "      <th></th>\n",
       "      <th>description</th>\n",
       "      <th>industry</th>\n",
       "      <th>level</th>\n",
       "      <th>size</th>\n",
       "      <th>line_code</th>\n",
       "      <th>value</th>\n",
       "    </tr>\n",
       "  </thead>\n",
       "  <tbody>\n",
       "    <tr>\n",
       "      <th>10053</th>\n",
       "      <td>Reasons why you expect COVID-19 pandemic to ch...</td>\n",
       "      <td>Education &amp; training</td>\n",
       "      <td>1</td>\n",
       "      <td>total</td>\n",
       "      <td>C2309</td>\n",
       "      <td>21</td>\n",
       "    </tr>\n",
       "    <tr>\n",
       "      <th>10054</th>\n",
       "      <td>Reasons why you expect COVID-19 pandemic to ch...</td>\n",
       "      <td>Health care &amp; social assistance</td>\n",
       "      <td>1</td>\n",
       "      <td>total</td>\n",
       "      <td>C2309</td>\n",
       "      <td>27</td>\n",
       "    </tr>\n",
       "    <tr>\n",
       "      <th>10055</th>\n",
       "      <td>Reasons why you expect COVID-19 pandemic to ch...</td>\n",
       "      <td>Arts &amp; recreation services</td>\n",
       "      <td>1</td>\n",
       "      <td>total</td>\n",
       "      <td>C2309</td>\n",
       "      <td>0</td>\n",
       "    </tr>\n",
       "    <tr>\n",
       "      <th>10056</th>\n",
       "      <td>Reasons why you expect COVID-19 pandemic to ch...</td>\n",
       "      <td>Other services</td>\n",
       "      <td>1</td>\n",
       "      <td>total</td>\n",
       "      <td>C2309</td>\n",
       "      <td>12</td>\n",
       "    </tr>\n",
       "    <tr>\n",
       "      <th>10057</th>\n",
       "      <td>Reasons why you expect COVID-19 pandemic to ch...</td>\n",
       "      <td>total</td>\n",
       "      <td>0</td>\n",
       "      <td>total</td>\n",
       "      <td>C2309</td>\n",
       "      <td>231</td>\n",
       "    </tr>\n",
       "  </tbody>\n",
       "</table>\n",
       "</div>"
      ],
      "text/plain": [
       "                                             description  \\\n",
       "10053  Reasons why you expect COVID-19 pandemic to ch...   \n",
       "10054  Reasons why you expect COVID-19 pandemic to ch...   \n",
       "10055  Reasons why you expect COVID-19 pandemic to ch...   \n",
       "10056  Reasons why you expect COVID-19 pandemic to ch...   \n",
       "10057  Reasons why you expect COVID-19 pandemic to ch...   \n",
       "\n",
       "                              industry  level   size line_code  value  \n",
       "10053             Education & training      1  total     C2309     21  \n",
       "10054  Health care & social assistance      1  total     C2309     27  \n",
       "10055       Arts & recreation services      1  total     C2309      0  \n",
       "10056                   Other services      1  total     C2309     12  \n",
       "10057                            total      0  total     C2309    231  "
      ]
     },
     "execution_count": 20,
     "metadata": {},
     "output_type": "execute_result"
    }
   ],
   "source": [
    "df.tail()"
   ]
  },
  {
   "cell_type": "code",
   "execution_count": 21,
   "id": "b973743f-3d29-4a8a-a96c-317427c6badf",
   "metadata": {},
   "outputs": [
    {
     "name": "stdout",
     "output_type": "stream",
     "text": [
      "<class 'pandas.core.frame.DataFrame'>\n",
      "RangeIndex: 10058 entries, 0 to 10057\n",
      "Data columns (total 6 columns):\n",
      " #   Column       Non-Null Count  Dtype \n",
      "---  ------       --------------  ----- \n",
      " 0   description  10058 non-null  object\n",
      " 1   industry     10058 non-null  object\n",
      " 2   level        10058 non-null  int64 \n",
      " 3   size         10058 non-null  object\n",
      " 4   line_code    10058 non-null  object\n",
      " 5   value        10058 non-null  int64 \n",
      "dtypes: int64(2), object(4)\n",
      "memory usage: 471.6+ KB\n"
     ]
    }
   ],
   "source": [
    "df.info()\n"
   ]
  },
  {
   "cell_type": "code",
   "execution_count": 22,
   "id": "9c3bec98-a115-4cf3-bd5d-56b2310c09d3",
   "metadata": {},
   "outputs": [
    {
     "data": {
      "text/html": [
       "<div>\n",
       "<style scoped>\n",
       "    .dataframe tbody tr th:only-of-type {\n",
       "        vertical-align: middle;\n",
       "    }\n",
       "\n",
       "    .dataframe tbody tr th {\n",
       "        vertical-align: top;\n",
       "    }\n",
       "\n",
       "    .dataframe thead th {\n",
       "        text-align: right;\n",
       "    }\n",
       "</style>\n",
       "<table border=\"1\" class=\"dataframe\">\n",
       "  <thead>\n",
       "    <tr style=\"text-align: right;\">\n",
       "      <th></th>\n",
       "      <th>level</th>\n",
       "      <th>value</th>\n",
       "    </tr>\n",
       "  </thead>\n",
       "  <tbody>\n",
       "    <tr>\n",
       "      <th>count</th>\n",
       "      <td>10058.000000</td>\n",
       "      <td>10058.000000</td>\n",
       "    </tr>\n",
       "    <tr>\n",
       "      <th>mean</th>\n",
       "      <td>1.404255</td>\n",
       "      <td>784.425432</td>\n",
       "    </tr>\n",
       "    <tr>\n",
       "      <th>std</th>\n",
       "      <td>0.673531</td>\n",
       "      <td>2810.686063</td>\n",
       "    </tr>\n",
       "    <tr>\n",
       "      <th>min</th>\n",
       "      <td>0.000000</td>\n",
       "      <td>0.000000</td>\n",
       "    </tr>\n",
       "    <tr>\n",
       "      <th>25%</th>\n",
       "      <td>1.000000</td>\n",
       "      <td>24.000000</td>\n",
       "    </tr>\n",
       "    <tr>\n",
       "      <th>50%</th>\n",
       "      <td>2.000000</td>\n",
       "      <td>108.000000</td>\n",
       "    </tr>\n",
       "    <tr>\n",
       "      <th>75%</th>\n",
       "      <td>2.000000</td>\n",
       "      <td>453.000000</td>\n",
       "    </tr>\n",
       "    <tr>\n",
       "      <th>max</th>\n",
       "      <td>2.000000</td>\n",
       "      <td>43902.000000</td>\n",
       "    </tr>\n",
       "  </tbody>\n",
       "</table>\n",
       "</div>"
      ],
      "text/plain": [
       "              level         value\n",
       "count  10058.000000  10058.000000\n",
       "mean       1.404255    784.425432\n",
       "std        0.673531   2810.686063\n",
       "min        0.000000      0.000000\n",
       "25%        1.000000     24.000000\n",
       "50%        2.000000    108.000000\n",
       "75%        2.000000    453.000000\n",
       "max        2.000000  43902.000000"
      ]
     },
     "execution_count": 22,
     "metadata": {},
     "output_type": "execute_result"
    }
   ],
   "source": [
    "df.describe()"
   ]
  },
  {
   "cell_type": "markdown",
   "id": "618e3f3a-97db-4283-b857-4a93d161b86a",
   "metadata": {},
   "source": [
    "# Slicing Row and columns"
   ]
  },
  {
   "cell_type": "code",
   "execution_count": 23,
   "id": "2eaa0d08-6016-436c-ade5-1d503782598d",
   "metadata": {},
   "outputs": [
    {
     "data": {
      "text/html": [
       "<div>\n",
       "<style scoped>\n",
       "    .dataframe tbody tr th:only-of-type {\n",
       "        vertical-align: middle;\n",
       "    }\n",
       "\n",
       "    .dataframe tbody tr th {\n",
       "        vertical-align: top;\n",
       "    }\n",
       "\n",
       "    .dataframe thead th {\n",
       "        text-align: right;\n",
       "    }\n",
       "</style>\n",
       "<table border=\"1\" class=\"dataframe\">\n",
       "  <thead>\n",
       "    <tr style=\"text-align: right;\">\n",
       "      <th></th>\n",
       "      <th>description</th>\n",
       "      <th>industry</th>\n",
       "      <th>level</th>\n",
       "      <th>size</th>\n",
       "      <th>line_code</th>\n",
       "      <th>value</th>\n",
       "    </tr>\n",
       "  </thead>\n",
       "  <tbody>\n",
       "    <tr>\n",
       "      <th>1</th>\n",
       "      <td>Business status Alert Level 4: Fully operational</td>\n",
       "      <td>total</td>\n",
       "      <td>0</td>\n",
       "      <td>2049 employees</td>\n",
       "      <td>C0301.01</td>\n",
       "      <td>1650</td>\n",
       "    </tr>\n",
       "    <tr>\n",
       "      <th>2</th>\n",
       "      <td>Business status Alert Level 4: Fully operational</td>\n",
       "      <td>total</td>\n",
       "      <td>0</td>\n",
       "      <td>5099 employees</td>\n",
       "      <td>C0301.01</td>\n",
       "      <td>735</td>\n",
       "    </tr>\n",
       "    <tr>\n",
       "      <th>3</th>\n",
       "      <td>Business status Alert Level 4: Fully operational</td>\n",
       "      <td>total</td>\n",
       "      <td>0</td>\n",
       "      <td>100+ employees</td>\n",
       "      <td>C0301.01</td>\n",
       "      <td>711</td>\n",
       "    </tr>\n",
       "    <tr>\n",
       "      <th>4</th>\n",
       "      <td>Business status Alert Level 4: Fully operational</td>\n",
       "      <td>Agriculture, forestry, &amp; fishing</td>\n",
       "      <td>1</td>\n",
       "      <td>total</td>\n",
       "      <td>C0301.01</td>\n",
       "      <td>2175</td>\n",
       "    </tr>\n",
       "    <tr>\n",
       "      <th>5</th>\n",
       "      <td>Business status Alert Level 4: Fully operational</td>\n",
       "      <td>Agriculture</td>\n",
       "      <td>2</td>\n",
       "      <td>total</td>\n",
       "      <td>C0301.01</td>\n",
       "      <td>1839</td>\n",
       "    </tr>\n",
       "  </tbody>\n",
       "</table>\n",
       "</div>"
      ],
      "text/plain": [
       "                                        description  \\\n",
       "1  Business status Alert Level 4: Fully operational   \n",
       "2  Business status Alert Level 4: Fully operational   \n",
       "3  Business status Alert Level 4: Fully operational   \n",
       "4  Business status Alert Level 4: Fully operational   \n",
       "5  Business status Alert Level 4: Fully operational   \n",
       "\n",
       "                           industry  level             size line_code  value  \n",
       "1                             total      0  2049 employees  C0301.01   1650  \n",
       "2                             total      0  5099 employees  C0301.01    735  \n",
       "3                             total      0   100+ employees  C0301.01    711  \n",
       "4  Agriculture, forestry, & fishing      1            total  C0301.01   2175  \n",
       "5                       Agriculture      2            total  C0301.01   1839  "
      ]
     },
     "execution_count": 23,
     "metadata": {},
     "output_type": "execute_result"
    }
   ],
   "source": [
    "df[1:6]"
   ]
  },
  {
   "cell_type": "code",
   "execution_count": 24,
   "id": "27da30b3-49c6-4d14-ae61-25e4568eabfd",
   "metadata": {},
   "outputs": [
    {
     "data": {
      "text/html": [
       "<div>\n",
       "<style scoped>\n",
       "    .dataframe tbody tr th:only-of-type {\n",
       "        vertical-align: middle;\n",
       "    }\n",
       "\n",
       "    .dataframe tbody tr th {\n",
       "        vertical-align: top;\n",
       "    }\n",
       "\n",
       "    .dataframe thead th {\n",
       "        text-align: right;\n",
       "    }\n",
       "</style>\n",
       "<table border=\"1\" class=\"dataframe\">\n",
       "  <thead>\n",
       "    <tr style=\"text-align: right;\">\n",
       "      <th></th>\n",
       "      <th>industry</th>\n",
       "      <th>level</th>\n",
       "    </tr>\n",
       "  </thead>\n",
       "  <tbody>\n",
       "    <tr>\n",
       "      <th>1</th>\n",
       "      <td>total</td>\n",
       "      <td>0</td>\n",
       "    </tr>\n",
       "    <tr>\n",
       "      <th>2</th>\n",
       "      <td>total</td>\n",
       "      <td>0</td>\n",
       "    </tr>\n",
       "    <tr>\n",
       "      <th>3</th>\n",
       "      <td>total</td>\n",
       "      <td>0</td>\n",
       "    </tr>\n",
       "    <tr>\n",
       "      <th>4</th>\n",
       "      <td>Agriculture, forestry, &amp; fishing</td>\n",
       "      <td>1</td>\n",
       "    </tr>\n",
       "    <tr>\n",
       "      <th>5</th>\n",
       "      <td>Agriculture</td>\n",
       "      <td>2</td>\n",
       "    </tr>\n",
       "  </tbody>\n",
       "</table>\n",
       "</div>"
      ],
      "text/plain": [
       "                           industry  level\n",
       "1                             total      0\n",
       "2                             total      0\n",
       "3                             total      0\n",
       "4  Agriculture, forestry, & fishing      1\n",
       "5                       Agriculture      2"
      ]
     },
     "execution_count": 24,
     "metadata": {},
     "output_type": "execute_result"
    }
   ],
   "source": [
    "df[1:6][['industry' , 'level']]"
   ]
  },
  {
   "cell_type": "code",
   "execution_count": 25,
   "id": "eae4504c-9ad5-4bc7-9d0d-45356e47f4bd",
   "metadata": {},
   "outputs": [
    {
     "data": {
      "text/plain": [
       "0                                   total\n",
       "1                                   total\n",
       "2                                   total\n",
       "3                                   total\n",
       "4        Agriculture, forestry, & fishing\n",
       "                       ...               \n",
       "10053                Education & training\n",
       "10054     Health care & social assistance\n",
       "10055          Arts & recreation services\n",
       "10056                      Other services\n",
       "10057                               total\n",
       "Name: industry, Length: 10058, dtype: object"
      ]
     },
     "execution_count": 25,
     "metadata": {},
     "output_type": "execute_result"
    }
   ],
   "source": [
    "df.industry\n"
   ]
  },
  {
   "cell_type": "code",
   "execution_count": 26,
   "id": "0d15de3b-4f2a-4a50-b1d9-999a0f728398",
   "metadata": {},
   "outputs": [
    {
     "data": {
      "text/plain": [
       "0                               total\n",
       "1                               total\n",
       "2                               total\n",
       "3                               total\n",
       "4    Agriculture, forestry, & fishing\n",
       "Name: industry, dtype: object"
      ]
     },
     "execution_count": 26,
     "metadata": {},
     "output_type": "execute_result"
    }
   ],
   "source": [
    "df.industry.head(5)\n"
   ]
  },
  {
   "cell_type": "markdown",
   "id": "ba61600a-e83e-4a40-8ce7-82fe85735f71",
   "metadata": {},
   "source": [
    "# Dropping a column\n",
    "### drop[]\n",
    "\n",
    "Python looks for rows by default\n",
    "\n",
    "We must provide axis as 1 for dropping coloumns\n"
   ]
  },
  {
   "cell_type": "code",
   "execution_count": 30,
   "id": "c9787296-e0aa-4475-acca-744beb9e871a",
   "metadata": {},
   "outputs": [
    {
     "data": {
      "text/html": [
       "<div>\n",
       "<style scoped>\n",
       "    .dataframe tbody tr th:only-of-type {\n",
       "        vertical-align: middle;\n",
       "    }\n",
       "\n",
       "    .dataframe tbody tr th {\n",
       "        vertical-align: top;\n",
       "    }\n",
       "\n",
       "    .dataframe thead th {\n",
       "        text-align: right;\n",
       "    }\n",
       "</style>\n",
       "<table border=\"1\" class=\"dataframe\">\n",
       "  <thead>\n",
       "    <tr style=\"text-align: right;\">\n",
       "      <th></th>\n",
       "      <th>description</th>\n",
       "      <th>level</th>\n",
       "      <th>size</th>\n",
       "      <th>line_code</th>\n",
       "      <th>value</th>\n",
       "    </tr>\n",
       "  </thead>\n",
       "  <tbody>\n",
       "    <tr>\n",
       "      <th>0</th>\n",
       "      <td>Business status Alert Level 4: Fully operational</td>\n",
       "      <td>0</td>\n",
       "      <td>619 employees</td>\n",
       "      <td>C0301.01</td>\n",
       "      <td>6054</td>\n",
       "    </tr>\n",
       "    <tr>\n",
       "      <th>1</th>\n",
       "      <td>Business status Alert Level 4: Fully operational</td>\n",
       "      <td>0</td>\n",
       "      <td>2049 employees</td>\n",
       "      <td>C0301.01</td>\n",
       "      <td>1650</td>\n",
       "    </tr>\n",
       "    <tr>\n",
       "      <th>2</th>\n",
       "      <td>Business status Alert Level 4: Fully operational</td>\n",
       "      <td>0</td>\n",
       "      <td>5099 employees</td>\n",
       "      <td>C0301.01</td>\n",
       "      <td>735</td>\n",
       "    </tr>\n",
       "    <tr>\n",
       "      <th>3</th>\n",
       "      <td>Business status Alert Level 4: Fully operational</td>\n",
       "      <td>0</td>\n",
       "      <td>100+ employees</td>\n",
       "      <td>C0301.01</td>\n",
       "      <td>711</td>\n",
       "    </tr>\n",
       "    <tr>\n",
       "      <th>4</th>\n",
       "      <td>Business status Alert Level 4: Fully operational</td>\n",
       "      <td>1</td>\n",
       "      <td>total</td>\n",
       "      <td>C0301.01</td>\n",
       "      <td>2175</td>\n",
       "    </tr>\n",
       "    <tr>\n",
       "      <th>...</th>\n",
       "      <td>...</td>\n",
       "      <td>...</td>\n",
       "      <td>...</td>\n",
       "      <td>...</td>\n",
       "      <td>...</td>\n",
       "    </tr>\n",
       "    <tr>\n",
       "      <th>10053</th>\n",
       "      <td>Reasons why you expect COVID-19 pandemic to ch...</td>\n",
       "      <td>1</td>\n",
       "      <td>total</td>\n",
       "      <td>C2309</td>\n",
       "      <td>21</td>\n",
       "    </tr>\n",
       "    <tr>\n",
       "      <th>10054</th>\n",
       "      <td>Reasons why you expect COVID-19 pandemic to ch...</td>\n",
       "      <td>1</td>\n",
       "      <td>total</td>\n",
       "      <td>C2309</td>\n",
       "      <td>27</td>\n",
       "    </tr>\n",
       "    <tr>\n",
       "      <th>10055</th>\n",
       "      <td>Reasons why you expect COVID-19 pandemic to ch...</td>\n",
       "      <td>1</td>\n",
       "      <td>total</td>\n",
       "      <td>C2309</td>\n",
       "      <td>0</td>\n",
       "    </tr>\n",
       "    <tr>\n",
       "      <th>10056</th>\n",
       "      <td>Reasons why you expect COVID-19 pandemic to ch...</td>\n",
       "      <td>1</td>\n",
       "      <td>total</td>\n",
       "      <td>C2309</td>\n",
       "      <td>12</td>\n",
       "    </tr>\n",
       "    <tr>\n",
       "      <th>10057</th>\n",
       "      <td>Reasons why you expect COVID-19 pandemic to ch...</td>\n",
       "      <td>0</td>\n",
       "      <td>total</td>\n",
       "      <td>C2309</td>\n",
       "      <td>231</td>\n",
       "    </tr>\n",
       "  </tbody>\n",
       "</table>\n",
       "<p>10058 rows × 5 columns</p>\n",
       "</div>"
      ],
      "text/plain": [
       "                                             description  level  \\\n",
       "0       Business status Alert Level 4: Fully operational      0   \n",
       "1       Business status Alert Level 4: Fully operational      0   \n",
       "2       Business status Alert Level 4: Fully operational      0   \n",
       "3       Business status Alert Level 4: Fully operational      0   \n",
       "4       Business status Alert Level 4: Fully operational      1   \n",
       "...                                                  ...    ...   \n",
       "10053  Reasons why you expect COVID-19 pandemic to ch...      1   \n",
       "10054  Reasons why you expect COVID-19 pandemic to ch...      1   \n",
       "10055  Reasons why you expect COVID-19 pandemic to ch...      1   \n",
       "10056  Reasons why you expect COVID-19 pandemic to ch...      1   \n",
       "10057  Reasons why you expect COVID-19 pandemic to ch...      0   \n",
       "\n",
       "                  size line_code  value  \n",
       "0       619 employees  C0301.01   6054  \n",
       "1      2049 employees  C0301.01   1650  \n",
       "2      5099 employees  C0301.01    735  \n",
       "3       100+ employees  C0301.01    711  \n",
       "4                total  C0301.01   2175  \n",
       "...                ...       ...    ...  \n",
       "10053            total     C2309     21  \n",
       "10054            total     C2309     27  \n",
       "10055            total     C2309      0  \n",
       "10056            total     C2309     12  \n",
       "10057            total     C2309    231  \n",
       "\n",
       "[10058 rows x 5 columns]"
      ]
     },
     "execution_count": 30,
     "metadata": {},
     "output_type": "execute_result"
    }
   ],
   "source": [
    "df.drop(['industry'],axis=1)"
   ]
  },
  {
   "cell_type": "code",
   "execution_count": null,
   "id": "1dbb5367-6fc5-4d15-88d6-f868485d8212",
   "metadata": {},
   "outputs": [],
   "source": []
  }
 ],
 "metadata": {
  "kernelspec": {
   "display_name": "Python 3 (ipykernel)",
   "language": "python",
   "name": "python3"
  },
  "language_info": {
   "codemirror_mode": {
    "name": "ipython",
    "version": 3
   },
   "file_extension": ".py",
   "mimetype": "text/x-python",
   "name": "python",
   "nbconvert_exporter": "python",
   "pygments_lexer": "ipython3",
   "version": "3.9.5"
  }
 },
 "nbformat": 4,
 "nbformat_minor": 5
}
