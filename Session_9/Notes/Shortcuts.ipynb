{
 "cells": [
  {
   "cell_type": "code",
   "execution_count": 1,
   "id": "0b816f4d-c437-4dd1-82b1-06d1eb565b29",
   "metadata": {},
   "outputs": [],
   "source": [
    "#A ->To create a new cell above the selected\n",
    "\n",
    "#B -> To create a new cell below the selected\n",
    "\n",
    "#D+D -> Delete a cell\n",
    "\n",
    "#Esc -> Edit/Command mode change\n",
    "\n",
    "#Arrow keys -> navigate between cells\n",
    "\n",
    "#M -> Markdown\n",
    "\n",
    "#Y -> Python?code\n",
    "\n",
    "#Ctrl+Enter -> Run code and stays in current cell\n",
    "\n",
    "#Shift+Enter -> Execute code and go to next line\n",
    "\n",
    "#X - > cut cell \n",
    "\n",
    "#Y -> paste"
   ]
  },
  {
   "cell_type": "markdown",
   "id": "af1ee788-a8c3-4a44-a6e5-9320fb3715ae",
   "metadata": {},
   "source": [
    "# Shortcuts- Markdown\n",
    "\n",
    "Headings: Use #s followed by a blank space for notebook titles and section headings:\n",
    "'\n",
    "# title\n",
    "## major headings\n",
    "### subheadings\n",
    "#### 4th level subheadings\n",
    "'\n",
    "\n",
    "Emphasis: Use this code: Bold: __string__ or **string** Italic: _string_ or *string*\n",
    "\n",
    "Mathematical symbols: Use this code: $ mathematical symbols $\n",
    "\n",
    "Monospace font: Surround text with a back single quotation mark. () Use monospace for file path and file names and for text users enter or message text users see.\n",
    "\n",
    "Line breaks: Sometimes markdown doesn’t make line breaks when you want them. Use 2 spaces or this code for a manual line break: <br>\n",
    "\n",
    "Colors: Use this code: <font color=blue|red|green|pink|yellow>Text</font> Not all markdown code works within a font tag, so review your colored text carefully!\n",
    "\n",
    "Indented quoting: Use a greater than sign (>) and then a space, then type the text. The text is indented and has a gray horizontal line to the left of it until the next carriage return.\n",
    "\n",
    "Bullets: Use the dash sign (- ) with a space after it, or a space, a dash, and a space ( - ), to create a circular bullet. To create a sub bullet, use a tab followed a dash and a space. You can also use an asterisk instead of a dash, and it works the same.\n",
    "\n",
    "Numbered lists: Start with 1. followed by a space, then it starts numbering for you. Start each line with some number and a period, then a space. Tab to indent to get subnumbering.\n",
    "\n",
    "Graphics: You can attach image files directly to a notebook only in Markdown cells. Drag and drop your images to the Markdown cell to attach it to the notebook. To add images to other cell types, you can use only graphics that are hosted on the web. You can’t add captions for graphics at this time. Use this code: <img src=\"url.gif\" alt=\"Alt text that describes the graphic\" title=\"Title text\" />\n",
    "\n",
    "Geometric shapes: Use this code with a decimal or hex reference number from here: UTF-8 Geometric shapes\n",
    "&#reference_number;\n",
    "\n",
    "Horizontal lines: Use three asterisks: ***\n",
    "\n",
    "Internal links: To link to a heading, use this code: [heading title](#heading-title) For the text in the parentheses, replace spaces and special characters with a hyphen. Make sure to test all the links!\n",
    "\n",
    "Alternatively, you can add an ID for a heading right above the title. Use this code: <a id=\"heading_ID\"></a> Make sure that the heading_ID is unique within the notebook.\n",
    "\n",
    "Use this code for the link and make sure to test all the links! [heading title](#heading_ID)\n",
    "\n",
    "External links: Use this code and test all links! [link text](http://url)"
   ]
  },
  {
   "cell_type": "code",
   "execution_count": null,
   "id": "06e57083-2a53-45a2-b28c-ba1bed6660c6",
   "metadata": {},
   "outputs": [],
   "source": []
  }
 ],
 "metadata": {
  "kernelspec": {
   "display_name": "Python 3 (ipykernel)",
   "language": "python",
   "name": "python3"
  },
  "language_info": {
   "codemirror_mode": {
    "name": "ipython",
    "version": 3
   },
   "file_extension": ".py",
   "mimetype": "text/x-python",
   "name": "python",
   "nbconvert_exporter": "python",
   "pygments_lexer": "ipython3",
   "version": "3.9.5"
  }
 },
 "nbformat": 4,
 "nbformat_minor": 5
}
