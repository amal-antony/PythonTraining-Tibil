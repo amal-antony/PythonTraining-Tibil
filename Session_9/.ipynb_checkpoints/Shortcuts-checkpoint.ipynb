{
 "cells": [
  {
   "cell_type": "code",
   "execution_count": 1,
   "id": "0b816f4d-c437-4dd1-82b1-06d1eb565b29",
   "metadata": {},
   "outputs": [],
   "source": [
    "#A ->To create a new cell above the selected\n",
    "\n",
    "#B -> To create a new cell below the selected\n",
    "\n",
    "#D+D -> Delete a cell\n",
    "\n",
    "#Esc -> Edit/Command mode change\n",
    "\n",
    "#Arrow keys -> navigate between cells\n",
    "\n",
    "#M -> Markdown\n",
    "\n",
    "#Y -> Python?code\n",
    "\n",
    "#Ctrl+Enter -> Run code and stays in current cell\n",
    "\n",
    "#Shift+Enter -> Execute code and go to next line\n",
    "\n",
    "#X - > cut cell \n",
    "\n",
    "#Y -> paste"
   ]
  },
  {
   "cell_type": "code",
   "execution_count": null,
   "id": "6d8a92ef-4715-45a9-8534-7e3cae2e38f2",
   "metadata": {},
   "outputs": [],
   "source": []
  }
 ],
 "metadata": {
  "kernelspec": {
   "display_name": "Python 3 (ipykernel)",
   "language": "python",
   "name": "python3"
  },
  "language_info": {
   "codemirror_mode": {
    "name": "ipython",
    "version": 3
   },
   "file_extension": ".py",
   "mimetype": "text/x-python",
   "name": "python",
   "nbconvert_exporter": "python",
   "pygments_lexer": "ipython3",
   "version": "3.9.5"
  }
 },
 "nbformat": 4,
 "nbformat_minor": 5
}
