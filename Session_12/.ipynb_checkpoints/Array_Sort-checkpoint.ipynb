{
 "cells": [
  {
   "cell_type": "markdown",
   "id": "60f72e07-213a-4852-bb31-d467496ee9a3",
   "metadata": {},
   "source": [
    "## Sorting in Arrays\n",
    "\n"
   ]
  },
  {
   "cell_type": "code",
   "execution_count": 3,
   "id": "ff3dbed6-9418-4c0d-b3f9-08dbfa8f3d1b",
   "metadata": {},
   "outputs": [],
   "source": [
    "import numpy as np"
   ]
  },
  {
   "cell_type": "markdown",
   "id": "eeb2fb04-cd75-411b-95eb-ef64b48998b6",
   "metadata": {},
   "source": [
    "### .sort()\n",
    "used to sort an array in ascending order for numbers\n",
    "called on numpy object\n",
    "pass array as parameter"
   ]
  },
  {
   "cell_type": "code",
   "execution_count": 8,
   "id": "3863cc76-74ce-44c1-87b1-029292159589",
   "metadata": {},
   "outputs": [],
   "source": [
    "arr1=np.array([51,22,13,74,55,46,37,86,900])\n",
    "sort1=np.sort(arr1)"
   ]
  },
  {
   "cell_type": "code",
   "execution_count": 9,
   "id": "dd559ba2-f89b-4535-ac8c-b6cec4b173e5",
   "metadata": {},
   "outputs": [
    {
     "data": {
      "text/plain": [
       "array([ 13,  22,  37,  46,  51,  55,  74,  86, 900])"
      ]
     },
     "execution_count": 9,
     "metadata": {},
     "output_type": "execute_result"
    }
   ],
   "source": [
    "sort1"
   ]
  },
  {
   "cell_type": "code",
   "execution_count": 10,
   "id": "b995d7d2-c228-4f7e-8842-0e8f420cd4df",
   "metadata": {},
   "outputs": [],
   "source": [
    "arr2=np.array([51,-22,13,-74,55,46,37,-86,900])\n",
    "sort2=np.sort(arr2)"
   ]
  },
  {
   "cell_type": "code",
   "execution_count": 11,
   "id": "fc1769e5-3485-422a-8146-e8b135536668",
   "metadata": {},
   "outputs": [
    {
     "data": {
      "text/plain": [
       "array([-86, -74, -22,  13,  37,  46,  51,  55, 900])"
      ]
     },
     "execution_count": 11,
     "metadata": {},
     "output_type": "execute_result"
    }
   ],
   "source": [
    "sort2"
   ]
  },
  {
   "cell_type": "markdown",
   "id": "97327cb7-a93f-4aee-954a-f59b003d9ca8",
   "metadata": {},
   "source": [
    "### 2D arrays\n",
    "Sort from lowest to highest in every array "
   ]
  },
  {
   "cell_type": "code",
   "execution_count": 13,
   "id": "0ed97e75-6930-488b-a6d4-b3a6e2ed89b1",
   "metadata": {},
   "outputs": [],
   "source": [
    "arr3=np.array([[51,22,13,74,55],[678,46,37,86,900]])"
   ]
  },
  {
   "cell_type": "code",
   "execution_count": 14,
   "id": "837b0bed-96ef-4f52-a938-533b944f47b2",
   "metadata": {},
   "outputs": [
    {
     "data": {
      "text/plain": [
       "array([[ 51,  22,  13,  74,  55],\n",
       "       [678,  46,  37,  86, 900]])"
      ]
     },
     "execution_count": 14,
     "metadata": {},
     "output_type": "execute_result"
    }
   ],
   "source": [
    "arr3"
   ]
  },
  {
   "cell_type": "code",
   "execution_count": 15,
   "id": "e0e02b63-d9e2-4cd6-b469-6bb4afbda4fd",
   "metadata": {},
   "outputs": [],
   "source": [
    "sort3=np.sort(arr3)"
   ]
  },
  {
   "cell_type": "code",
   "execution_count": 16,
   "id": "c4663daf-0b1c-4827-85eb-0bf4e6721c7e",
   "metadata": {},
   "outputs": [
    {
     "data": {
      "text/plain": [
       "array([[ 13,  22,  51,  55,  74],\n",
       "       [ 37,  46,  86, 678, 900]])"
      ]
     },
     "execution_count": 16,
     "metadata": {},
     "output_type": "execute_result"
    }
   ],
   "source": [
    "sort3"
   ]
  },
  {
   "cell_type": "code",
   "execution_count": 19,
   "id": "192a4ce1-c575-4c6d-aa2d-2d92890fce99",
   "metadata": {},
   "outputs": [],
   "source": [
    "# If sorting a boolean array false will come first\n",
    "ba=[True,False,True,False,True]\n",
    "ba_arr=np.array(ba)\n",
    "ba_sort=np.sort(ba_arr)"
   ]
  },
  {
   "cell_type": "code",
   "execution_count": 20,
   "id": "e7419354-c0b5-49d4-957b-a27b3a09a120",
   "metadata": {},
   "outputs": [
    {
     "data": {
      "text/plain": [
       "array([False, False,  True,  True,  True])"
      ]
     },
     "execution_count": 20,
     "metadata": {},
     "output_type": "execute_result"
    }
   ],
   "source": [
    "ba_sort"
   ]
  },
  {
   "cell_type": "code",
   "execution_count": 21,
   "id": "50fc368b-2786-42cd-84ae-2636f0cadbe2",
   "metadata": {},
   "outputs": [],
   "source": [
    "# alphabetical elemsts are sorted in alphabetical order\n",
    "aa=['first','second','third','fourth','fifth']\n",
    "aa_a=np.array(aa)\n",
    "aa_sort=np.sort(aa_a)"
   ]
  },
  {
   "cell_type": "code",
   "execution_count": 22,
   "id": "424d02f0-8e38-49b8-b9f4-7576dae2ff69",
   "metadata": {},
   "outputs": [
    {
     "data": {
      "text/plain": [
       "array(['fifth', 'first', 'fourth', 'second', 'third'], dtype='<U6')"
      ]
     },
     "execution_count": 22,
     "metadata": {},
     "output_type": "execute_result"
    }
   ],
   "source": [
    "aa_sort"
   ]
  },
  {
   "cell_type": "markdown",
   "id": "68b10e6d-8469-476b-a1dc-c28993336a09",
   "metadata": {},
   "source": [
    "### Search Sorted\n",
    "\n",
    "There is a method called searchsorted() which performs a binary search in the array, and returns the index where the specified value would be inserted <br>\n",
    "to maintain the search order.<br>\n",
    "The searchsorted() method is assumed to be used on sorted arrays.\n"
   ]
  },
  {
   "cell_type": "code",
   "execution_count": 23,
   "id": "54b549c2-f843-47b8-9a81-f8b71cceb00c",
   "metadata": {},
   "outputs": [
    {
     "name": "stdout",
     "output_type": "stream",
     "text": [
      "1\n"
     ]
    }
   ],
   "source": [
    "import numpy as np\n",
    "\n",
    "arr = np.array([6, 7, 8, 9])\n",
    "\n",
    "x = np.searchsorted(arr, 7)\n",
    "\n",
    "print(x) "
   ]
  },
  {
   "cell_type": "code",
   "execution_count": 24,
   "id": "4b25c337-c42d-4972-b919-d69f110b20ab",
   "metadata": {},
   "outputs": [
    {
     "name": "stdout",
     "output_type": "stream",
     "text": [
      "2\n"
     ]
    }
   ],
   "source": [
    "#Search From the Right Side\n",
    "\n",
    "#By default the left most index is returned, but we can give side='right' to return the right most index instead.\n",
    "import numpy as np\n",
    "\n",
    "arr = np.array([6, 7, 8, 9])\n",
    "\n",
    "x = np.searchsorted(arr, 7, side='right')\n",
    "\n",
    "print(x) "
   ]
  },
  {
   "cell_type": "markdown",
   "id": "c00917d2-1636-4d8f-aa43-71db7212a546",
   "metadata": {},
   "source": [
    "## Multiple Values\n",
    "\n",
    "To search for more than one value, use an array with the specified values."
   ]
  },
  {
   "cell_type": "code",
   "execution_count": 25,
   "id": "5218e142-fd0a-4567-881a-d2552f74e44f",
   "metadata": {},
   "outputs": [
    {
     "name": "stdout",
     "output_type": "stream",
     "text": [
      "[1 2 3]\n"
     ]
    }
   ],
   "source": [
    "import numpy as np\n",
    "\n",
    "arr = np.array([1, 3, 5, 7])\n",
    "\n",
    "x = np.searchsorted(arr, [2, 4, 6])\n",
    "\n",
    "print(x) "
   ]
  },
  {
   "cell_type": "code",
   "execution_count": null,
   "id": "23880a57-1590-46aa-9643-de058500e818",
   "metadata": {},
   "outputs": [],
   "source": []
  }
 ],
 "metadata": {
  "kernelspec": {
   "display_name": "Python 3 (ipykernel)",
   "language": "python",
   "name": "python3"
  },
  "language_info": {
   "codemirror_mode": {
    "name": "ipython",
    "version": 3
   },
   "file_extension": ".py",
   "mimetype": "text/x-python",
   "name": "python",
   "nbconvert_exporter": "python",
   "pygments_lexer": "ipython3",
   "version": "3.9.5"
  }
 },
 "nbformat": 4,
 "nbformat_minor": 5
}
