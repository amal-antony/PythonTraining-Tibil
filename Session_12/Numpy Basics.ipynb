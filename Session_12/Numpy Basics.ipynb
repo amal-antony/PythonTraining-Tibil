{
 "cells": [
  {
   "cell_type": "markdown",
   "id": "917ef938-486b-48bd-95b8-db89406723c0",
   "metadata": {},
   "source": [
    "# Numpy Basics\n",
    "A library to work with arrays and perform operations on it<br>\n",
    "import it as import numpy as np"
   ]
  },
  {
   "cell_type": "markdown",
   "id": "4d34a53f-3b30-4c0d-968f-ba56fce68f03",
   "metadata": {},
   "source": [
    "## 1.Creating and Dimensional Arrays"
   ]
  },
  {
   "cell_type": "markdown",
   "id": "a4c21427-f28d-415d-8e87-78c3f43915e0",
   "metadata": {},
   "source": [
    "### np.array()\n",
    "pass a list to it"
   ]
  },
  {
   "cell_type": "code",
   "execution_count": 1,
   "id": "18bd4c55-2591-41e1-9f35-8dacc49bfcec",
   "metadata": {},
   "outputs": [
    {
     "data": {
      "text/plain": [
       "array([1, 2, 3, 4, 5])"
      ]
     },
     "execution_count": 1,
     "metadata": {},
     "output_type": "execute_result"
    }
   ],
   "source": [
    "import numpy as np\n",
    "l=[1,2,3,4,5]\n",
    "a=np.array(l)\n",
    "a"
   ]
  },
  {
   "cell_type": "markdown",
   "id": "60b6a109-9386-4f10-9708-dcf1592692b1",
   "metadata": {},
   "source": [
    "### Dimensions of array <br>\n",
    "Measure of sqaure brackets <br>\n",
    "1. 1D array- 1 row\n",
    "2. 2D array - 2 rows\n",
    "3. 3D array - 3 rows"
   ]
  },
  {
   "cell_type": "code",
   "execution_count": 3,
   "id": "081f6e8f-be7e-4913-917f-6826d6ffde31",
   "metadata": {},
   "outputs": [
    {
     "data": {
      "text/plain": [
       "array([[ 1,  2,  3,  4,  5],\n",
       "       [ 6,  7,  8,  9, 10]])"
      ]
     },
     "execution_count": 3,
     "metadata": {},
     "output_type": "execute_result"
    }
   ],
   "source": [
    "l2d=[[1,2,3,4,5],[6,7,8,9,10]]\n",
    "a2d=np.array(l2d)\n",
    "a2d"
   ]
  },
  {
   "cell_type": "code",
   "execution_count": 41,
   "id": "f396e1ff-02c8-4407-a355-d9e76acf906d",
   "metadata": {},
   "outputs": [
    {
     "data": {
      "text/plain": [
       "array([[[ 1,  2,  3,  4,  5],\n",
       "        [ 6,  7,  8,  9, 10],\n",
       "        [11, 12, 13, 14, 15]]])"
      ]
     },
     "execution_count": 41,
     "metadata": {},
     "output_type": "execute_result"
    }
   ],
   "source": [
    "l3d=[[[1,2,3,4,5],[6,7,8,9,10],[11,12,13,14,15]]]\n",
    "a3d=np.array(l3d)\n",
    "a3d"
   ]
  },
  {
   "cell_type": "markdown",
   "id": "e267d1e4-1da3-4307-99d6-eff69c0cd07f",
   "metadata": {},
   "source": [
    "## Fiding dimesnion of a given array\n",
    "#### ndim parameter\n",
    "to check dimension of an array"
   ]
  },
  {
   "cell_type": "code",
   "execution_count": 42,
   "id": "1b9cbec3-aadc-4bb7-87d4-1ee079e77437",
   "metadata": {},
   "outputs": [
    {
     "data": {
      "text/plain": [
       "3"
      ]
     },
     "execution_count": 42,
     "metadata": {},
     "output_type": "execute_result"
    }
   ],
   "source": [
    "a3d.ndim"
   ]
  },
  {
   "cell_type": "code",
   "execution_count": 43,
   "id": "9633552e-9205-4863-9d47-effa2448ecf2",
   "metadata": {},
   "outputs": [
    {
     "data": {
      "text/plain": [
       "2"
      ]
     },
     "execution_count": 43,
     "metadata": {},
     "output_type": "execute_result"
    }
   ],
   "source": [
    "a2d.ndim"
   ]
  },
  {
   "cell_type": "markdown",
   "id": "f2861958-e1fb-43d9-a055-bdf797d2e74b",
   "metadata": {},
   "source": [
    "### ndmin parameter \n",
    "To specify a dimension for an array"
   ]
  },
  {
   "cell_type": "code",
   "execution_count": 44,
   "id": "bd21498f-664f-4165-ba03-a3a3afa2eed9",
   "metadata": {},
   "outputs": [],
   "source": [
    "a4d=np.array(a3d,ndmin=5)"
   ]
  },
  {
   "cell_type": "code",
   "execution_count": 45,
   "id": "1ab02e8b-11d0-481b-81d4-a8ca30f30935",
   "metadata": {},
   "outputs": [
    {
     "data": {
      "text/plain": [
       "array([[[[[ 1,  2,  3,  4,  5],\n",
       "          [ 6,  7,  8,  9, 10],\n",
       "          [11, 12, 13, 14, 15]]]]])"
      ]
     },
     "execution_count": 45,
     "metadata": {},
     "output_type": "execute_result"
    }
   ],
   "source": [
    "a4d"
   ]
  },
  {
   "cell_type": "code",
   "execution_count": 46,
   "id": "9db903fb-17c0-4ad0-9a8c-354b58151c9d",
   "metadata": {},
   "outputs": [
    {
     "data": {
      "text/plain": [
       "5"
      ]
     },
     "execution_count": 46,
     "metadata": {},
     "output_type": "execute_result"
    }
   ],
   "source": [
    "a4d.ndim"
   ]
  },
  {
   "cell_type": "markdown",
   "id": "8157d377-52bb-41b5-a4a5-8ad52389501d",
   "metadata": {},
   "source": [
    "## Indexing Arrays\n",
    "\n",
    "Indexing changes according to Dimensions<br>\n"
   ]
  },
  {
   "cell_type": "markdown",
   "id": "6c256fdc-f614-4600-a068-da704c794c91",
   "metadata": {},
   "source": [
    "### 1D array\n",
    "specify the index in square brackets"
   ]
  },
  {
   "cell_type": "code",
   "execution_count": 47,
   "id": "560d3a26-1990-4b55-8eec-90f7eb704432",
   "metadata": {},
   "outputs": [
    {
     "data": {
      "text/plain": [
       "array([1, 2, 3, 4, 5])"
      ]
     },
     "execution_count": 47,
     "metadata": {},
     "output_type": "execute_result"
    }
   ],
   "source": [
    "a"
   ]
  },
  {
   "cell_type": "code",
   "execution_count": 48,
   "id": "b392ac28-f734-4c46-9fc6-f8877e3adc99",
   "metadata": {},
   "outputs": [
    {
     "data": {
      "text/plain": [
       "5"
      ]
     },
     "execution_count": 48,
     "metadata": {},
     "output_type": "execute_result"
    }
   ],
   "source": [
    "a[4]"
   ]
  },
  {
   "cell_type": "code",
   "execution_count": 49,
   "id": "2f4e4e7d-e023-4ff1-9088-6adf6fb0d0d0",
   "metadata": {},
   "outputs": [
    {
     "data": {
      "text/plain": [
       "5"
      ]
     },
     "execution_count": 49,
     "metadata": {},
     "output_type": "execute_result"
    }
   ],
   "source": [
    "len(a)"
   ]
  },
  {
   "cell_type": "code",
   "execution_count": 50,
   "id": "e1b797e2-afcd-414c-99ee-234599374639",
   "metadata": {},
   "outputs": [
    {
     "data": {
      "text/plain": [
       "4"
      ]
     },
     "execution_count": 50,
     "metadata": {},
     "output_type": "execute_result"
    }
   ],
   "source": [
    "a[3]"
   ]
  },
  {
   "cell_type": "markdown",
   "id": "e6732909-5521-4d00-a385-2c01b855ec93",
   "metadata": {},
   "source": [
    "### 2D Arrays\n",
    "[a,b] where a is the row and b is the column in the row"
   ]
  },
  {
   "cell_type": "code",
   "execution_count": 51,
   "id": "10282365-0fcf-4158-b67f-9ad3a2706635",
   "metadata": {
    "tags": []
   },
   "outputs": [
    {
     "data": {
      "text/plain": [
       "array([[ 1,  2,  3,  4,  5],\n",
       "       [ 6,  7,  8,  9, 10]])"
      ]
     },
     "execution_count": 51,
     "metadata": {},
     "output_type": "execute_result"
    }
   ],
   "source": [
    "a2d"
   ]
  },
  {
   "cell_type": "code",
   "execution_count": 52,
   "id": "090fae26-1b12-42b1-871c-2fe7a5694e58",
   "metadata": {},
   "outputs": [
    {
     "data": {
      "text/plain": [
       "10"
      ]
     },
     "execution_count": 52,
     "metadata": {},
     "output_type": "execute_result"
    }
   ],
   "source": [
    "a2d[1,4]"
   ]
  },
  {
   "cell_type": "code",
   "execution_count": 53,
   "id": "d0a897ad-a289-4fdd-a4ca-4095487b4ff8",
   "metadata": {},
   "outputs": [
    {
     "ename": "IndexError",
     "evalue": "index 5 is out of bounds for axis 1 with size 5",
     "output_type": "error",
     "traceback": [
      "\u001b[0;31m---------------------------------------------------------------------------\u001b[0m",
      "\u001b[0;31mIndexError\u001b[0m                                Traceback (most recent call last)",
      "\u001b[0;32m/tmp/ipykernel_14796/943294767.py\u001b[0m in \u001b[0;36m<module>\u001b[0;34m\u001b[0m\n\u001b[0;32m----> 1\u001b[0;31m \u001b[0ma2d\u001b[0m\u001b[0;34m[\u001b[0m\u001b[0;36m1\u001b[0m\u001b[0;34m,\u001b[0m\u001b[0;36m5\u001b[0m\u001b[0;34m]\u001b[0m\u001b[0;34m\u001b[0m\u001b[0;34m\u001b[0m\u001b[0m\n\u001b[0m",
      "\u001b[0;31mIndexError\u001b[0m: index 5 is out of bounds for axis 1 with size 5"
     ]
    }
   ],
   "source": [
    "a2d[1,5]"
   ]
  },
  {
   "cell_type": "code",
   "execution_count": 54,
   "id": "e26b8d88-505d-4991-9c60-c7a06e06fdb9",
   "metadata": {},
   "outputs": [
    {
     "data": {
      "text/plain": [
       "3"
      ]
     },
     "execution_count": 54,
     "metadata": {},
     "output_type": "execute_result"
    }
   ],
   "source": [
    "a2d[0,2]"
   ]
  },
  {
   "cell_type": "code",
   "execution_count": 55,
   "id": "26f5a527-71ca-492b-a2ac-d9905a917d76",
   "metadata": {},
   "outputs": [
    {
     "data": {
      "text/plain": [
       "5"
      ]
     },
     "execution_count": 55,
     "metadata": {},
     "output_type": "execute_result"
    }
   ],
   "source": [
    "a2d[0,4]"
   ]
  },
  {
   "cell_type": "markdown",
   "id": "4fb75e12-aeba-4094-b206-7ea25bf5858a",
   "metadata": {},
   "source": [
    "### 3d Array\n",
    "[a,b,c] \n",
    "where<br>\n",
    "a = first dimension <br>\n",
    "b=second dimension <br>\n",
    "c=Thrid dimension"
   ]
  },
  {
   "cell_type": "code",
   "execution_count": 56,
   "id": "19a80af7-97b6-47f3-a0de-98da246e9596",
   "metadata": {},
   "outputs": [
    {
     "data": {
      "text/plain": [
       "array([[[ 1,  2,  3,  4,  5],\n",
       "        [ 6,  7,  8,  9, 10],\n",
       "        [11, 12, 13, 14, 15]]])"
      ]
     },
     "execution_count": 56,
     "metadata": {},
     "output_type": "execute_result"
    }
   ],
   "source": [
    "a3d"
   ]
  },
  {
   "cell_type": "code",
   "execution_count": 57,
   "id": "046039fb-72cc-460b-90d1-f580fe30f655",
   "metadata": {},
   "outputs": [
    {
     "data": {
      "text/plain": [
       "3"
      ]
     },
     "execution_count": 57,
     "metadata": {},
     "output_type": "execute_result"
    }
   ],
   "source": [
    "a3d.ndim"
   ]
  },
  {
   "cell_type": "code",
   "execution_count": 58,
   "id": "5dae2048-d1f6-408b-b707-0050556526ad",
   "metadata": {},
   "outputs": [
    {
     "data": {
      "text/plain": [
       "8"
      ]
     },
     "execution_count": 58,
     "metadata": {},
     "output_type": "execute_result"
    }
   ],
   "source": [
    "a3d[0,1,2]"
   ]
  },
  {
   "cell_type": "code",
   "execution_count": 32,
   "id": "6f0edfe4-a8a6-4890-8da6-1d0f359a2f57",
   "metadata": {},
   "outputs": [
    {
     "data": {
      "text/plain": [
       "2"
      ]
     },
     "execution_count": 32,
     "metadata": {},
     "output_type": "execute_result"
    }
   ],
   "source": [
    "a3d[0,0,1]"
   ]
  },
  {
   "cell_type": "code",
   "execution_count": 36,
   "id": "9149c3b4-1425-48a2-9e60-ba65c20c3f0f",
   "metadata": {},
   "outputs": [
    {
     "data": {
      "text/plain": [
       "3"
      ]
     },
     "execution_count": 36,
     "metadata": {},
     "output_type": "execute_result"
    }
   ],
   "source": [
    "a3d[0,0,2]"
   ]
  },
  {
   "cell_type": "markdown",
   "id": "5decdd78-83c6-4ebe-813c-11033d6002ce",
   "metadata": {},
   "source": [
    "a3d[0,0]"
   ]
  },
  {
   "cell_type": "code",
   "execution_count": 60,
   "id": "1c740176-5869-467a-ad9f-09aff32b7ee2",
   "metadata": {},
   "outputs": [
    {
     "data": {
      "text/plain": [
       "array([ 6,  7,  8,  9, 10])"
      ]
     },
     "execution_count": 60,
     "metadata": {},
     "output_type": "execute_result"
    }
   ],
   "source": [
    "a3d[0,1]"
   ]
  },
  {
   "cell_type": "code",
   "execution_count": 61,
   "id": "dfffeecb-6844-4cc2-b9db-ee5e0776995b",
   "metadata": {},
   "outputs": [
    {
     "data": {
      "text/plain": [
       "array([11, 12, 13, 14, 15])"
      ]
     },
     "execution_count": 61,
     "metadata": {},
     "output_type": "execute_result"
    }
   ],
   "source": [
    "a3d[0,2]"
   ]
  },
  {
   "cell_type": "code",
   "execution_count": 62,
   "id": "14a01db9-0481-42f0-8ed3-88a64a14cfcf",
   "metadata": {},
   "outputs": [
    {
     "data": {
      "text/plain": [
       "8"
      ]
     },
     "execution_count": 62,
     "metadata": {},
     "output_type": "execute_result"
    }
   ],
   "source": [
    "a3d[0,1,2]"
   ]
  },
  {
   "cell_type": "code",
   "execution_count": 63,
   "id": "b89c899a-049b-41ec-afdc-cc43db4665ac",
   "metadata": {},
   "outputs": [
    {
     "data": {
      "text/plain": [
       "14"
      ]
     },
     "execution_count": 63,
     "metadata": {},
     "output_type": "execute_result"
    }
   ],
   "source": [
    "a3d[0,2,3]"
   ]
  },
  {
   "cell_type": "markdown",
   "id": "43c67b6b-1436-498e-8519-4e6d60f818b5",
   "metadata": {},
   "source": [
    "## Slicing Arrays"
   ]
  },
  {
   "cell_type": "markdown",
   "id": "3455739f-2738-412b-a7df-55aa8deb131d",
   "metadata": {},
   "source": [
    "### 1D Arrays"
   ]
  },
  {
   "cell_type": "code",
   "execution_count": 67,
   "id": "80cfcb59-bacb-4898-9d86-f02206c38e78",
   "metadata": {},
   "outputs": [
    {
     "data": {
      "text/plain": [
       "array([1, 2, 3, 4, 5])"
      ]
     },
     "execution_count": 67,
     "metadata": {},
     "output_type": "execute_result"
    }
   ],
   "source": [
    "a"
   ]
  },
  {
   "cell_type": "code",
   "execution_count": 68,
   "id": "b55d970a-b455-4cd6-92eb-c64a296285a0",
   "metadata": {},
   "outputs": [],
   "source": [
    "a_slice=a[0:3]"
   ]
  },
  {
   "cell_type": "markdown",
   "id": "ccc61651-7345-4ac4-9910-5862648f92e0",
   "metadata": {},
   "source": [
    "#### Slicing wont modify the original array unless we use equality sign"
   ]
  },
  {
   "cell_type": "code",
   "execution_count": 69,
   "id": "51c19917-eb6c-448b-904e-a65d34324c5d",
   "metadata": {
    "tags": []
   },
   "outputs": [
    {
     "data": {
      "text/plain": [
       "array([1, 2, 3])"
      ]
     },
     "execution_count": 69,
     "metadata": {},
     "output_type": "execute_result"
    }
   ],
   "source": [
    "a_slice"
   ]
  },
  {
   "cell_type": "code",
   "execution_count": 70,
   "id": "e5002639-8f92-4f3f-b9dd-0485882cdb8a",
   "metadata": {},
   "outputs": [
    {
     "data": {
      "text/plain": [
       "array([1, 2, 3, 4, 5])"
      ]
     },
     "execution_count": 70,
     "metadata": {},
     "output_type": "execute_result"
    }
   ],
   "source": [
    "a"
   ]
  },
  {
   "cell_type": "code",
   "execution_count": 71,
   "id": "e1a61a33-6012-4bee-9454-52e496147fe9",
   "metadata": {},
   "outputs": [],
   "source": [
    "b=a"
   ]
  },
  {
   "cell_type": "code",
   "execution_count": 72,
   "id": "08d5e9c2-cf3b-48fa-a591-b6101137053a",
   "metadata": {},
   "outputs": [
    {
     "data": {
      "text/plain": [
       "array([1, 2, 3, 4, 5])"
      ]
     },
     "execution_count": 72,
     "metadata": {},
     "output_type": "execute_result"
    }
   ],
   "source": [
    "b"
   ]
  },
  {
   "cell_type": "code",
   "execution_count": 73,
   "id": "3507e871-0f0d-4b55-8c94-35143bf60b72",
   "metadata": {},
   "outputs": [],
   "source": [
    "b=b[0:3]"
   ]
  },
  {
   "cell_type": "code",
   "execution_count": 74,
   "id": "efe369c3-f2c8-4a7a-94e7-547cf477b706",
   "metadata": {},
   "outputs": [
    {
     "data": {
      "text/plain": [
       "array([1, 2, 3])"
      ]
     },
     "execution_count": 74,
     "metadata": {},
     "output_type": "execute_result"
    }
   ],
   "source": [
    "b"
   ]
  },
  {
   "cell_type": "code",
   "execution_count": 75,
   "id": "f59307c2-5012-41ff-a7c8-c4587363b569",
   "metadata": {},
   "outputs": [
    {
     "data": {
      "text/plain": [
       "array([1, 2, 3, 4, 5])"
      ]
     },
     "execution_count": 75,
     "metadata": {},
     "output_type": "execute_result"
    }
   ],
   "source": [
    "a"
   ]
  },
  {
   "cell_type": "markdown",
   "id": "abb859dd-ed7a-4cab-ab8d-2c59cb364b30",
   "metadata": {
    "tags": []
   },
   "source": [
    "#### Slicing with step , start end\n",
    "##### start-end\n"
   ]
  },
  {
   "cell_type": "code",
   "execution_count": 79,
   "id": "2fd7e91d-2577-45a8-bbad-4f7979f3ffde",
   "metadata": {},
   "outputs": [
    {
     "data": {
      "text/plain": [
       "array([1, 2, 3, 4, 5])"
      ]
     },
     "execution_count": 79,
     "metadata": {},
     "output_type": "execute_result"
    }
   ],
   "source": [
    "a1=a[:]\n",
    "a1"
   ]
  },
  {
   "cell_type": "markdown",
   "id": "dff28cb3-7301-40ab-9a90-19eaf3cf236a",
   "metadata": {},
   "source": [
    "##### Specific to end"
   ]
  },
  {
   "cell_type": "code",
   "execution_count": 80,
   "id": "bf206690-4900-4eeb-903b-be5468bdd3ec",
   "metadata": {},
   "outputs": [
    {
     "data": {
      "text/plain": [
       "array([2, 3, 4, 5])"
      ]
     },
     "execution_count": 80,
     "metadata": {},
     "output_type": "execute_result"
    }
   ],
   "source": [
    "a2=a[1:]\n",
    "a2"
   ]
  },
  {
   "cell_type": "markdown",
   "id": "95f3bbdb-2624-49ff-8f9c-b68a1d7a9d5d",
   "metadata": {},
   "source": [
    "##### start to specific"
   ]
  },
  {
   "cell_type": "code",
   "execution_count": 82,
   "id": "404be755-a531-49bc-bb98-b75106935344",
   "metadata": {},
   "outputs": [
    {
     "data": {
      "text/plain": [
       "array([1, 2, 3])"
      ]
     },
     "execution_count": 82,
     "metadata": {},
     "output_type": "execute_result"
    }
   ],
   "source": [
    "a3=a[:3]\n",
    "a3"
   ]
  },
  {
   "cell_type": "markdown",
   "id": "7911e3a5-1eb3-4916-b2e2-53638d1d0df6",
   "metadata": {},
   "source": [
    "### 2D arrays"
   ]
  },
  {
   "cell_type": "code",
   "execution_count": 83,
   "id": "12a90d45-6248-405f-a9d3-b51e3ff69ca8",
   "metadata": {},
   "outputs": [
    {
     "data": {
      "text/plain": [
       "array([[ 1,  2,  3,  4,  5],\n",
       "       [ 6,  7,  8,  9, 10]])"
      ]
     },
     "execution_count": 83,
     "metadata": {},
     "output_type": "execute_result"
    }
   ],
   "source": [
    "a2d"
   ]
  },
  {
   "cell_type": "code",
   "execution_count": 84,
   "id": "c2af7041-af85-4875-9c69-f1a723975aa8",
   "metadata": {},
   "outputs": [],
   "source": [
    "a2d1=a2d[0,0:2]"
   ]
  },
  {
   "cell_type": "code",
   "execution_count": 86,
   "id": "eca909d3-9463-484a-972d-2c69889fff7f",
   "metadata": {},
   "outputs": [
    {
     "data": {
      "text/plain": [
       "array([1, 2])"
      ]
     },
     "execution_count": 86,
     "metadata": {},
     "output_type": "execute_result"
    }
   ],
   "source": [
    "a2d1"
   ]
  },
  {
   "cell_type": "code",
   "execution_count": 87,
   "id": "dde34de3-ef7b-4bf1-87fb-89689840c44b",
   "metadata": {},
   "outputs": [
    {
     "data": {
      "text/plain": [
       "array([6, 7, 8, 9])"
      ]
     },
     "execution_count": 87,
     "metadata": {},
     "output_type": "execute_result"
    }
   ],
   "source": [
    "a2d2=a2d[1,0:4]\n",
    "a2d2"
   ]
  },
  {
   "cell_type": "code",
   "execution_count": 88,
   "id": "85115112-4208-4605-bf92-8e176efe314b",
   "metadata": {},
   "outputs": [],
   "source": [
    "a22=np.array([[1,2,3,4,5],[6,7,8,9,10],[11,12,13,14,15]])"
   ]
  },
  {
   "cell_type": "code",
   "execution_count": 89,
   "id": "d2a9e807-fcb8-4fa9-b95a-93f744662234",
   "metadata": {},
   "outputs": [
    {
     "data": {
      "text/plain": [
       "array([[ 1,  2,  3,  4,  5],\n",
       "       [ 6,  7,  8,  9, 10],\n",
       "       [11, 12, 13, 14, 15]])"
      ]
     },
     "execution_count": 89,
     "metadata": {},
     "output_type": "execute_result"
    }
   ],
   "source": [
    "a22"
   ]
  },
  {
   "cell_type": "code",
   "execution_count": 90,
   "id": "278b0bb7-da50-44fe-bff9-0886149b760b",
   "metadata": {},
   "outputs": [],
   "source": [
    "a22_slice=a22[0:1,1:3]"
   ]
  },
  {
   "cell_type": "code",
   "execution_count": 91,
   "id": "7b01ab77-3310-4b1c-93a9-c639ed37ace5",
   "metadata": {},
   "outputs": [
    {
     "data": {
      "text/plain": [
       "array([[2, 3]])"
      ]
     },
     "execution_count": 91,
     "metadata": {},
     "output_type": "execute_result"
    }
   ],
   "source": [
    "a22_slice"
   ]
  },
  {
   "cell_type": "code",
   "execution_count": 92,
   "id": "f8906d30-8abb-4a96-9d78-afc5f47f9632",
   "metadata": {},
   "outputs": [],
   "source": [
    "a22_slice2=a22[0:2,1:3]"
   ]
  },
  {
   "cell_type": "code",
   "execution_count": 93,
   "id": "1e6ccdc2-6324-44cb-ae51-1134e5c4fa4e",
   "metadata": {},
   "outputs": [
    {
     "data": {
      "text/plain": [
       "array([[2, 3],\n",
       "       [7, 8]])"
      ]
     },
     "execution_count": 93,
     "metadata": {},
     "output_type": "execute_result"
    }
   ],
   "source": [
    "a22_slice2"
   ]
  },
  {
   "cell_type": "code",
   "execution_count": 94,
   "id": "ee3d50e1-9e55-4c8f-a951-d490110eb02f",
   "metadata": {},
   "outputs": [
    {
     "data": {
      "text/plain": [
       "array([[ 1,  2,  3,  4,  5],\n",
       "       [ 6,  7,  8,  9, 10],\n",
       "       [11, 12, 13, 14, 15]])"
      ]
     },
     "execution_count": 94,
     "metadata": {},
     "output_type": "execute_result"
    }
   ],
   "source": [
    "a22_slice3=a22[0:3,:]\n",
    "a22_slice3"
   ]
  },
  {
   "cell_type": "code",
   "execution_count": 95,
   "id": "d0688719-1c13-45e9-b7d7-ba798c709ecf",
   "metadata": {},
   "outputs": [
    {
     "data": {
      "text/plain": [
       "array([[ 1,  2,  3],\n",
       "       [ 6,  7,  8],\n",
       "       [11, 12, 13]])"
      ]
     },
     "execution_count": 95,
     "metadata": {},
     "output_type": "execute_result"
    }
   ],
   "source": [
    "a22_slice4=a22[0:3,:3]\n",
    "a22_slice4"
   ]
  },
  {
   "cell_type": "markdown",
   "id": "3e9c8e52-7968-4676-b9bd-d47a2f59cc17",
   "metadata": {},
   "source": [
    "### 3D Arrays"
   ]
  },
  {
   "cell_type": "code",
   "execution_count": 96,
   "id": "95135d17-4012-4640-b9d9-f3203b2603c6",
   "metadata": {
    "tags": []
   },
   "outputs": [
    {
     "data": {
      "text/plain": [
       "array([[[ 1,  2,  3,  4,  5],\n",
       "        [ 6,  7,  8,  9, 10],\n",
       "        [11, 12, 13, 14, 15]]])"
      ]
     },
     "execution_count": 96,
     "metadata": {},
     "output_type": "execute_result"
    }
   ],
   "source": [
    "a3d"
   ]
  },
  {
   "cell_type": "code",
   "execution_count": 97,
   "id": "5308371b-f41f-4217-9807-8a68e23e7217",
   "metadata": {},
   "outputs": [
    {
     "data": {
      "text/plain": [
       "array([[2, 3],\n",
       "       [7, 8]])"
      ]
     },
     "execution_count": 97,
     "metadata": {},
     "output_type": "execute_result"
    }
   ],
   "source": [
    "a3d_slice=a3d[0,0:2,1:3]\n",
    "a3d_slice"
   ]
  },
  {
   "cell_type": "code",
   "execution_count": 98,
   "id": "8bc63f22-8da3-47ae-93cd-dfa4bc9c57b4",
   "metadata": {},
   "outputs": [
    {
     "data": {
      "text/plain": [
       "array([[ 2,  3,  4,  5],\n",
       "       [ 7,  8,  9, 10],\n",
       "       [12, 13, 14, 15]])"
      ]
     },
     "execution_count": 98,
     "metadata": {},
     "output_type": "execute_result"
    }
   ],
   "source": [
    "a3d_slice2=a3d[0,0:3,1:5]\n",
    "a3d_slice2"
   ]
  },
  {
   "cell_type": "markdown",
   "id": "46e41645-475d-488a-afe7-9f7c1ec5739f",
   "metadata": {},
   "source": [
    "## Copy and View"
   ]
  },
  {
   "cell_type": "code",
   "execution_count": 102,
   "id": "e7a076a1-a1d2-4719-a2a1-355a32ac84a1",
   "metadata": {},
   "outputs": [
    {
     "data": {
      "text/plain": [
       "array([1, 2, 3, 4, 5])"
      ]
     },
     "execution_count": 102,
     "metadata": {},
     "output_type": "execute_result"
    }
   ],
   "source": [
    "a1"
   ]
  },
  {
   "cell_type": "markdown",
   "id": "8323d800-a344-4b4f-8aeb-a06c2b62114a",
   "metadata": {},
   "source": [
    "### Copy\n",
    "Used to create a copy of array<br>\n",
    "Modifying original array wont affect copy"
   ]
  },
  {
   "cell_type": "code",
   "execution_count": 105,
   "id": "dbcf447c-32ef-42d5-bb9f-35ac8010e98d",
   "metadata": {},
   "outputs": [
    {
     "data": {
      "text/plain": [
       "array([1, 2, 3, 4, 5])"
      ]
     },
     "execution_count": 105,
     "metadata": {},
     "output_type": "execute_result"
    }
   ],
   "source": [
    "cp=a1.copy()\n",
    "cp\n"
   ]
  },
  {
   "cell_type": "code",
   "execution_count": 104,
   "id": "557f1329-0ab1-401e-8e48-b918c4523d8a",
   "metadata": {},
   "outputs": [
    {
     "data": {
      "text/plain": [
       "array([1, 2, 3, 4, 5])"
      ]
     },
     "execution_count": 104,
     "metadata": {},
     "output_type": "execute_result"
    }
   ],
   "source": [
    "a1"
   ]
  },
  {
   "cell_type": "markdown",
   "id": "6cd36863-8573-45d0-a8c9-b0c98f7563e8",
   "metadata": {},
   "source": [
    "# Modifying array element\n",
    "a1[0]=10\n",
    "a1"
   ]
  },
  {
   "cell_type": "code",
   "execution_count": 107,
   "id": "7dd57a1b-29c1-4517-af67-2f43f070be23",
   "metadata": {},
   "outputs": [
    {
     "data": {
      "text/plain": [
       "array([1, 2, 3, 4, 5])"
      ]
     },
     "execution_count": 107,
     "metadata": {},
     "output_type": "execute_result"
    }
   ],
   "source": [
    "#Elements in copy isnt changed\n",
    "cp"
   ]
  },
  {
   "cell_type": "markdown",
   "id": "7b308260-cc37-40d1-9f7d-560beb201f5f",
   "metadata": {},
   "source": [
    "### View\n",
    "\n",
    "Changing original array will affect view"
   ]
  },
  {
   "cell_type": "code",
   "execution_count": 110,
   "id": "a9499769-6d88-4b7c-9409-e13036ed9bdc",
   "metadata": {},
   "outputs": [],
   "source": [
    "vw=a1.view()"
   ]
  },
  {
   "cell_type": "code",
   "execution_count": 111,
   "id": "e6b4363e-c1a9-4a65-90c8-94fc82d96c53",
   "metadata": {},
   "outputs": [
    {
     "data": {
      "text/plain": [
       "array([10,  2,  3,  4,  5])"
      ]
     },
     "execution_count": 111,
     "metadata": {},
     "output_type": "execute_result"
    }
   ],
   "source": [
    "vw"
   ]
  },
  {
   "cell_type": "code",
   "execution_count": 112,
   "id": "74b679ac-fb77-44a4-8c6f-dc8f70716c04",
   "metadata": {},
   "outputs": [
    {
     "data": {
      "text/plain": [
       "array([10,  2,  3,  4,  5])"
      ]
     },
     "execution_count": 112,
     "metadata": {},
     "output_type": "execute_result"
    }
   ],
   "source": [
    "a1"
   ]
  },
  {
   "cell_type": "code",
   "execution_count": 113,
   "id": "6c5f14e7-bd41-4971-8d8f-33e57a83aa02",
   "metadata": {},
   "outputs": [],
   "source": [
    "a1[3]=22"
   ]
  },
  {
   "cell_type": "code",
   "execution_count": 114,
   "id": "437f1c2c-0049-4643-8c3e-1d8af7a577d7",
   "metadata": {},
   "outputs": [
    {
     "data": {
      "text/plain": [
       "array([10,  2,  3, 22,  5])"
      ]
     },
     "execution_count": 114,
     "metadata": {},
     "output_type": "execute_result"
    }
   ],
   "source": [
    "a1"
   ]
  },
  {
   "cell_type": "code",
   "execution_count": 115,
   "id": "45853d3a-8c30-4b64-a091-2fc6a87df6b9",
   "metadata": {},
   "outputs": [
    {
     "data": {
      "text/plain": [
       "array([10,  2,  3, 22,  5])"
      ]
     },
     "execution_count": 115,
     "metadata": {},
     "output_type": "execute_result"
    }
   ],
   "source": [
    "vw"
   ]
  },
  {
   "cell_type": "code",
   "execution_count": 116,
   "id": "e78b62e5-717d-41b1-82ca-741c02d6b773",
   "metadata": {},
   "outputs": [],
   "source": [
    "vw[2]=33"
   ]
  },
  {
   "cell_type": "code",
   "execution_count": 117,
   "id": "3dd613a7-456a-459a-9d8d-0c09b06ae11e",
   "metadata": {},
   "outputs": [
    {
     "data": {
      "text/plain": [
       "array([10,  2, 33, 22,  5])"
      ]
     },
     "execution_count": 117,
     "metadata": {},
     "output_type": "execute_result"
    }
   ],
   "source": [
    "vw"
   ]
  },
  {
   "cell_type": "code",
   "execution_count": 118,
   "id": "c2ac001b-45ed-4255-9da9-a1473018806e",
   "metadata": {},
   "outputs": [
    {
     "data": {
      "text/plain": [
       "array([10,  2, 33, 22,  5])"
      ]
     },
     "execution_count": 118,
     "metadata": {},
     "output_type": "execute_result"
    }
   ],
   "source": [
    "a1"
   ]
  },
  {
   "cell_type": "markdown",
   "id": "193ea99b-b8c3-47f4-b225-dcf6a0f13825",
   "metadata": {},
   "source": [
    "### To know wheher an array is a copy or view of original use\n",
    "\n",
    "#### .base \n",
    "returns array for view but nothing for copy"
   ]
  },
  {
   "cell_type": "code",
   "execution_count": 119,
   "id": "f6c07b06-a77c-4804-ac1f-04ab89604649",
   "metadata": {},
   "outputs": [
    {
     "data": {
      "text/plain": [
       "array([10,  2, 33, 22,  5])"
      ]
     },
     "execution_count": 119,
     "metadata": {},
     "output_type": "execute_result"
    }
   ],
   "source": [
    "vw.base"
   ]
  },
  {
   "cell_type": "code",
   "execution_count": 122,
   "id": "d3600df4-4a46-4142-83af-cd9ddec6aaf0",
   "metadata": {},
   "outputs": [
    {
     "data": {
      "text/plain": [
       "array([1, 2, 3, 4, 5])"
      ]
     },
     "execution_count": 122,
     "metadata": {},
     "output_type": "execute_result"
    }
   ],
   "source": [
    "cp"
   ]
  },
  {
   "cell_type": "code",
   "execution_count": 123,
   "id": "1b8f162f-b8e3-47e3-aa36-b4c8fdd35ee5",
   "metadata": {},
   "outputs": [],
   "source": [
    "cp.base"
   ]
  },
  {
   "cell_type": "markdown",
   "id": "ba05b5b1-d735-4ae4-a140-c12cb98b9c9c",
   "metadata": {},
   "source": [
    "## Shaping and Reshaping array"
   ]
  },
  {
   "cell_type": "markdown",
   "id": "f3375aa8-385c-4525-b50b-8f9e922e7c0e",
   "metadata": {},
   "source": [
    "### shape\n",
    "To get shape of the array\n"
   ]
  },
  {
   "cell_type": "code",
   "execution_count": 126,
   "id": "3bb7dd60-e8f6-47c1-8ff5-767504c68845",
   "metadata": {},
   "outputs": [
    {
     "data": {
      "text/plain": [
       "array([[[ 1,  2,  3,  4,  5],\n",
       "        [ 6,  7,  8,  9, 10],\n",
       "        [11, 12, 13, 14, 15]]])"
      ]
     },
     "execution_count": 126,
     "metadata": {},
     "output_type": "execute_result"
    }
   ],
   "source": [
    "a3d"
   ]
  },
  {
   "cell_type": "code",
   "execution_count": 128,
   "id": "77e2d061-8688-4c7a-ab1b-c9b1ba8ddc84",
   "metadata": {},
   "outputs": [
    {
     "data": {
      "text/plain": [
       "(1, 3, 5)"
      ]
     },
     "execution_count": 128,
     "metadata": {},
     "output_type": "execute_result"
    }
   ],
   "source": [
    "a3d.shape"
   ]
  },
  {
   "cell_type": "code",
   "execution_count": 129,
   "id": "554abce5-61e5-4335-8494-e6ea3329c9b6",
   "metadata": {},
   "outputs": [
    {
     "data": {
      "text/plain": [
       "array([[ 1,  2,  3,  4,  5],\n",
       "       [ 6,  7,  8,  9, 10]])"
      ]
     },
     "execution_count": 129,
     "metadata": {},
     "output_type": "execute_result"
    }
   ],
   "source": [
    "a2d"
   ]
  },
  {
   "cell_type": "code",
   "execution_count": 130,
   "id": "6e988d9d-d534-4cae-9768-d8e7c8201bd2",
   "metadata": {},
   "outputs": [
    {
     "data": {
      "text/plain": [
       "(2, 5)"
      ]
     },
     "execution_count": 130,
     "metadata": {},
     "output_type": "execute_result"
    }
   ],
   "source": [
    "a2d.shape"
   ]
  },
  {
   "cell_type": "code",
   "execution_count": 131,
   "id": "92cd6321-2d98-455d-8606-29b753a29090",
   "metadata": {},
   "outputs": [
    {
     "data": {
      "text/plain": [
       "array([10,  2, 33, 22,  5])"
      ]
     },
     "execution_count": 131,
     "metadata": {},
     "output_type": "execute_result"
    }
   ],
   "source": [
    "a1"
   ]
  },
  {
   "cell_type": "code",
   "execution_count": 132,
   "id": "49182ef8-a093-4fe3-81f5-5f427d6c87a2",
   "metadata": {},
   "outputs": [
    {
     "data": {
      "text/plain": [
       "(5,)"
      ]
     },
     "execution_count": 132,
     "metadata": {},
     "output_type": "execute_result"
    }
   ],
   "source": [
    "a1.shape"
   ]
  },
  {
   "cell_type": "code",
   "execution_count": 133,
   "id": "327ebc5e-9322-463c-adfd-f1d1a2af0212",
   "metadata": {},
   "outputs": [
    {
     "name": "stderr",
     "output_type": "stream",
     "text": [
      "/tmp/ipykernel_14796/1532012740.py:1: VisibleDeprecationWarning: Creating an ndarray from ragged nested sequences (which is a list-or-tuple of lists-or-tuples-or ndarrays with different lengths or shapes) is deprecated. If you meant to do this, you must specify 'dtype=object' when creating the ndarray.\n",
      "  new_array=np.array([[1,2,3],[4,5,6,7]])\n"
     ]
    }
   ],
   "source": [
    "new_array=np.array([[1,2,3],[4,5,6,7]])"
   ]
  },
  {
   "cell_type": "code",
   "execution_count": 134,
   "id": "76c6a747-90ad-4a84-a939-694783e9ee51",
   "metadata": {},
   "outputs": [
    {
     "data": {
      "text/plain": [
       "(2,)"
      ]
     },
     "execution_count": 134,
     "metadata": {},
     "output_type": "execute_result"
    }
   ],
   "source": [
    "new_array.shape"
   ]
  },
  {
   "cell_type": "markdown",
   "id": "ae97225b-86e9-4e9d-a46a-636b23463fc4",
   "metadata": {},
   "source": [
    "## Reshapring array\n",
    "### .reshape()"
   ]
  },
  {
   "cell_type": "code",
   "execution_count": 135,
   "id": "99d89b1f-2f03-4432-a9f5-62b55307585b",
   "metadata": {},
   "outputs": [],
   "source": [
    "std=np.array([19,19,19,20,20,20,21,21,21])\n",
    "exm_scr=np.array([57,60,65,72,75,78,82,84,87])"
   ]
  },
  {
   "cell_type": "code",
   "execution_count": 136,
   "id": "77b9b0bb-6a7c-4b09-8be5-b9b4f72fb4f5",
   "metadata": {},
   "outputs": [
    {
     "data": {
      "text/plain": [
       "array([19, 19, 19, 20, 20, 20, 21, 21, 21])"
      ]
     },
     "execution_count": 136,
     "metadata": {},
     "output_type": "execute_result"
    }
   ],
   "source": [
    "std"
   ]
  },
  {
   "cell_type": "code",
   "execution_count": 137,
   "id": "d47ec53b-04a6-483e-ac7c-9e4c2baa8fe7",
   "metadata": {},
   "outputs": [
    {
     "data": {
      "text/plain": [
       "array([57, 60, 65, 72, 75, 78, 82, 84, 87])"
      ]
     },
     "execution_count": 137,
     "metadata": {},
     "output_type": "execute_result"
    }
   ],
   "source": [
    "exm_scr"
   ]
  },
  {
   "cell_type": "code",
   "execution_count": 138,
   "id": "e24169c9-9062-457d-81f8-7cefe4cfff52",
   "metadata": {},
   "outputs": [],
   "source": [
    "exm_scr_splt=exm_scr.reshape(3,3)"
   ]
  },
  {
   "cell_type": "code",
   "execution_count": 139,
   "id": "f0ea92d8-2719-41cb-8cd2-57ce1be5a9f5",
   "metadata": {},
   "outputs": [
    {
     "data": {
      "text/plain": [
       "array([[57, 60, 65],\n",
       "       [72, 75, 78],\n",
       "       [82, 84, 87]])"
      ]
     },
     "execution_count": 139,
     "metadata": {},
     "output_type": "execute_result"
    }
   ],
   "source": [
    "exm_scr_splt"
   ]
  },
  {
   "cell_type": "code",
   "execution_count": 141,
   "id": "e9b4787f-19e9-4c81-b22b-28a0fbbd4e87",
   "metadata": {},
   "outputs": [],
   "source": [
    "# The no of values in original array should match dimensions else it gives an error - ValueError"
   ]
  },
  {
   "cell_type": "code",
   "execution_count": 140,
   "id": "7c7ad515-a1bd-468d-aeaa-276b35bb0e2d",
   "metadata": {
    "tags": []
   },
   "outputs": [
    {
     "ename": "ValueError",
     "evalue": "cannot reshape array of size 9 into shape (2,3)",
     "output_type": "error",
     "traceback": [
      "\u001b[0;31m---------------------------------------------------------------------------\u001b[0m",
      "\u001b[0;31mValueError\u001b[0m                                Traceback (most recent call last)",
      "\u001b[0;32m/tmp/ipykernel_14796/983583280.py\u001b[0m in \u001b[0;36m<module>\u001b[0;34m\u001b[0m\n\u001b[0;32m----> 1\u001b[0;31m \u001b[0mexm_scr_splt2\u001b[0m\u001b[0;34m=\u001b[0m\u001b[0mexm_scr\u001b[0m\u001b[0;34m.\u001b[0m\u001b[0mreshape\u001b[0m\u001b[0;34m(\u001b[0m\u001b[0;36m2\u001b[0m\u001b[0;34m,\u001b[0m\u001b[0;36m3\u001b[0m\u001b[0;34m)\u001b[0m\u001b[0;34m\u001b[0m\u001b[0;34m\u001b[0m\u001b[0m\n\u001b[0m\u001b[1;32m      2\u001b[0m \u001b[0mexm_scr_splt2\u001b[0m\u001b[0;34m\u001b[0m\u001b[0;34m\u001b[0m\u001b[0m\n",
      "\u001b[0;31mValueError\u001b[0m: cannot reshape array of size 9 into shape (2,3)"
     ]
    }
   ],
   "source": [
    "exm_scr_splt2=exm_scr.reshape(2,3)\n",
    "exm_scr_splt2"
   ]
  },
  {
   "cell_type": "code",
   "execution_count": 142,
   "id": "fb158c65-631a-434c-8db0-646aff2b2363",
   "metadata": {},
   "outputs": [
    {
     "data": {
      "text/plain": [
       "array([[57],\n",
       "       [60],\n",
       "       [65],\n",
       "       [72],\n",
       "       [75],\n",
       "       [78],\n",
       "       [82],\n",
       "       [84],\n",
       "       [87]])"
      ]
     },
     "execution_count": 142,
     "metadata": {},
     "output_type": "execute_result"
    }
   ],
   "source": [
    "exm_scr_splt3=exm_scr.reshape(9,1)\n",
    "exm_scr_splt3"
   ]
  },
  {
   "cell_type": "code",
   "execution_count": null,
   "id": "a0175cec-03ab-4895-a257-19b180665bcb",
   "metadata": {},
   "outputs": [],
   "source": []
  }
 ],
 "metadata": {
  "kernelspec": {
   "display_name": "Python 3 (ipykernel)",
   "language": "python",
   "name": "python3"
  },
  "language_info": {
   "codemirror_mode": {
    "name": "ipython",
    "version": 3
   },
   "file_extension": ".py",
   "mimetype": "text/x-python",
   "name": "python",
   "nbconvert_exporter": "python",
   "pygments_lexer": "ipython3",
   "version": "3.9.5"
  }
 },
 "nbformat": 4,
 "nbformat_minor": 5
}
