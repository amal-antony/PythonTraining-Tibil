{
 "cells": [
  {
   "cell_type": "markdown",
   "id": "da9c938f-88a2-4258-b8a0-61172a24c518",
   "metadata": {},
   "source": [
    "## Searching in arrays\n",
    "### Where - get index\n",
    "Search an array to see if a nelement is located in it or not"
   ]
  },
  {
   "cell_type": "code",
   "execution_count": 3,
   "id": "f26d1351-ee9d-44e3-9f35-c60855288b90",
   "metadata": {},
   "outputs": [
    {
     "data": {
      "text/plain": [
       "array([1, 2, 3, 4, 5, 6, 7, 8, 9])"
      ]
     },
     "execution_count": 3,
     "metadata": {},
     "output_type": "execute_result"
    }
   ],
   "source": [
    "import numpy as np\n",
    "arr1=np.array([1,2,3,4,5,6,7,8,9])\n",
    "arr1"
   ]
  },
  {
   "cell_type": "markdown",
   "id": "15534669-fc42-4018-ab0b-f4f1b40db348",
   "metadata": {},
   "source": [
    "### .where - basic use - search\n",
    "To see where a specific element is located in array<br>\n",
    "Takes a parameter arrayName and = element<br>\n",
    "returns a tuple <br>\n",
    "1st element-index<br>\n",
    "IInd and so on element-afurther index at which element is located<br>"
   ]
  },
  {
   "cell_type": "code",
   "execution_count": 4,
   "id": "a15201a3-16d2-4a4e-8426-7d0de04db329",
   "metadata": {},
   "outputs": [],
   "source": [
    "location=np.where(arr1==4)"
   ]
  },
  {
   "cell_type": "code",
   "execution_count": 5,
   "id": "3983761e-6895-48bf-b3f6-f45fdf894c38",
   "metadata": {},
   "outputs": [
    {
     "data": {
      "text/plain": [
       "(array([3]),)"
      ]
     },
     "execution_count": 5,
     "metadata": {},
     "output_type": "execute_result"
    }
   ],
   "source": [
    "location"
   ]
  },
  {
   "cell_type": "code",
   "execution_count": 6,
   "id": "dc2fa0b3-5ced-4655-af91-da0dfc388b36",
   "metadata": {},
   "outputs": [],
   "source": [
    "arr1[2]=4"
   ]
  },
  {
   "cell_type": "code",
   "execution_count": 7,
   "id": "18cc8fb7-b3fa-42bc-862d-76a925727585",
   "metadata": {},
   "outputs": [
    {
     "data": {
      "text/plain": [
       "array([1, 2, 4, 4, 5, 6, 7, 8, 9])"
      ]
     },
     "execution_count": 7,
     "metadata": {},
     "output_type": "execute_result"
    }
   ],
   "source": [
    "arr1"
   ]
  },
  {
   "cell_type": "code",
   "execution_count": 8,
   "id": "65da39d4-5a1b-4ead-8c21-224b07aa853a",
   "metadata": {},
   "outputs": [],
   "source": [
    "location2=np.where(arr1==4)"
   ]
  },
  {
   "cell_type": "code",
   "execution_count": 9,
   "id": "a48bc237-bed4-4136-9350-bec10c760562",
   "metadata": {},
   "outputs": [
    {
     "data": {
      "text/plain": [
       "(array([2, 3]),)"
      ]
     },
     "execution_count": 9,
     "metadata": {},
     "output_type": "execute_result"
    }
   ],
   "source": [
    "location2"
   ]
  },
  {
   "cell_type": "markdown",
   "id": "fe2b95ba-11b5-4743-981c-320c720577c6",
   "metadata": {},
   "source": [
    "### can also use where to check conditions"
   ]
  },
  {
   "cell_type": "code",
   "execution_count": 12,
   "id": "a0cecfc1-ecef-4ed7-abc4-6ac3775f395c",
   "metadata": {},
   "outputs": [
    {
     "data": {
      "text/plain": [
       "array([1, 2, 4, 4, 5, 6, 7, 8, 9])"
      ]
     },
     "execution_count": 12,
     "metadata": {},
     "output_type": "execute_result"
    }
   ],
   "source": [
    "arr1"
   ]
  },
  {
   "cell_type": "code",
   "execution_count": 13,
   "id": "0ef1fe4b-1b9a-460f-84f9-9cec2caa0ef7",
   "metadata": {
    "tags": []
   },
   "outputs": [],
   "source": [
    "less_than_five=np.where(arr1<5)\n",
    "# Gives all indexes of elements less than 5"
   ]
  },
  {
   "cell_type": "code",
   "execution_count": 11,
   "id": "70d1a6e6-a771-4fca-a49c-09f3dc3b5ac2",
   "metadata": {},
   "outputs": [
    {
     "data": {
      "text/plain": [
       "(array([0, 1, 2, 3]),)"
      ]
     },
     "execution_count": 11,
     "metadata": {},
     "output_type": "execute_result"
    }
   ],
   "source": [
    "less_than_five"
   ]
  },
  {
   "cell_type": "code",
   "execution_count": 14,
   "id": "141d4353-42bd-4134-94ab-1ae27dbad6b6",
   "metadata": {},
   "outputs": [],
   "source": [
    "div_by_three=np.where(arr1%3==0)\n",
    "# Gives all indexes of elements divisible by 3"
   ]
  },
  {
   "cell_type": "code",
   "execution_count": 15,
   "id": "b3fe8fad-0000-4402-af3f-d20a0fa0d05a",
   "metadata": {},
   "outputs": [
    {
     "data": {
      "text/plain": [
       "(array([5, 8]),)"
      ]
     },
     "execution_count": 15,
     "metadata": {},
     "output_type": "execute_result"
    }
   ],
   "source": [
    "div_by_three"
   ]
  },
  {
   "cell_type": "code",
   "execution_count": null,
   "id": "ac43c9f4-ad9f-4de6-bb7d-5126cb56784f",
   "metadata": {},
   "outputs": [],
   "source": []
  }
 ],
 "metadata": {
  "kernelspec": {
   "display_name": "Python 3 (ipykernel)",
   "language": "python",
   "name": "python3"
  },
  "language_info": {
   "codemirror_mode": {
    "name": "ipython",
    "version": 3
   },
   "file_extension": ".py",
   "mimetype": "text/x-python",
   "name": "python",
   "nbconvert_exporter": "python",
   "pygments_lexer": "ipython3",
   "version": "3.9.5"
  }
 },
 "nbformat": 4,
 "nbformat_minor": 5
}
