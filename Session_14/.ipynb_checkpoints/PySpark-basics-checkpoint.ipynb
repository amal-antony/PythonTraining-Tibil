{
 "cells": [
  {
   "cell_type": "markdown",
   "id": "a02b621e-32b7-480a-b30e-7eb54ef427ae",
   "metadata": {},
   "source": [
    "# What is Pyspark ?\n",
    "An inteface for Apache Spark in Python<br>\n",
    "Used for Large Scale Data Processing and Machine Learning<br>\n",
    "Connect and work with Spark API <br>\n",
    "Provdides us data structures like that \n",
    "\n",
    "# Why ?\n",
    "Not the entire data is processed on local system <br>\n",
    "Instead we use distributed systems for that<br>\n",
    "Runs workloads 100% faster <br>\n",
    "Even faster than MapReduce<br>\n",
    "Ease of use - Java , Scala etc.. and much for high level tools support <br>\n",
    "Runs in cluster mods<br>\n",
    "It has \n",
    "### Mlib\n",
    "TO work with machine learning\n",
    "\n"
   ]
  },
  {
   "cell_type": "code",
   "execution_count": null,
   "id": "184ddc24-4cb7-4329-9f9a-f339641bec84",
   "metadata": {},
   "outputs": [],
   "source": []
  }
 ],
 "metadata": {
  "kernelspec": {
   "display_name": "Python 3 (ipykernel)",
   "language": "python",
   "name": "python3"
  },
  "language_info": {
   "codemirror_mode": {
    "name": "ipython",
    "version": 3
   },
   "file_extension": ".py",
   "mimetype": "text/x-python",
   "name": "python",
   "nbconvert_exporter": "python",
   "pygments_lexer": "ipython3",
   "version": "3.9.5"
  }
 },
 "nbformat": 4,
 "nbformat_minor": 5
}
