{
 "cells": [
  {
   "cell_type": "code",
   "execution_count": 35,
   "id": "c2a4e4d9-4576-4cce-9145-986bee6bf135",
   "metadata": {},
   "outputs": [],
   "source": [
    "import pandas as pd\n",
    "import numpy as np\n",
    "import seaborn as sns\n",
    "sns.set_style=(\"darkgrid\")\n",
    "import matplotlib.pyplot as plt\n",
    "%matplotlib inline\n",
    "plt.rcParams['figure.figsize']=10,8\n",
    "sns.set(style='darkgrid')"
   ]
  },
  {
   "cell_type": "code",
   "execution_count": 36,
   "id": "343f7cbd-df46-43f4-818e-9281c0713c82",
   "metadata": {},
   "outputs": [],
   "source": [
    "movies=pd.read_csv('/home/amal-baby-antony/Desktop/Tibil/Trainings/Python/Session_13/P4-Movie-Ratings.csv')"
   ]
  },
  {
   "cell_type": "code",
   "execution_count": 37,
   "id": "7032639e-b6ab-4312-8fc8-dbf3c0f5595e",
   "metadata": {},
   "outputs": [
    {
     "data": {
      "text/html": [
       "<div>\n",
       "<style scoped>\n",
       "    .dataframe tbody tr th:only-of-type {\n",
       "        vertical-align: middle;\n",
       "    }\n",
       "\n",
       "    .dataframe tbody tr th {\n",
       "        vertical-align: top;\n",
       "    }\n",
       "\n",
       "    .dataframe thead th {\n",
       "        text-align: right;\n",
       "    }\n",
       "</style>\n",
       "<table border=\"1\" class=\"dataframe\">\n",
       "  <thead>\n",
       "    <tr style=\"text-align: right;\">\n",
       "      <th></th>\n",
       "      <th>Film</th>\n",
       "      <th>Genre</th>\n",
       "      <th>Rotten Tomatoes Ratings %</th>\n",
       "      <th>Audience Ratings %</th>\n",
       "      <th>Budget (million $)</th>\n",
       "      <th>Year of release</th>\n",
       "    </tr>\n",
       "  </thead>\n",
       "  <tbody>\n",
       "    <tr>\n",
       "      <th>0</th>\n",
       "      <td>(500) Days of Summer</td>\n",
       "      <td>Comedy</td>\n",
       "      <td>87</td>\n",
       "      <td>81</td>\n",
       "      <td>8</td>\n",
       "      <td>2009</td>\n",
       "    </tr>\n",
       "    <tr>\n",
       "      <th>1</th>\n",
       "      <td>10,000 B.C.</td>\n",
       "      <td>Adventure</td>\n",
       "      <td>9</td>\n",
       "      <td>44</td>\n",
       "      <td>105</td>\n",
       "      <td>2008</td>\n",
       "    </tr>\n",
       "    <tr>\n",
       "      <th>2</th>\n",
       "      <td>12 Rounds</td>\n",
       "      <td>Action</td>\n",
       "      <td>30</td>\n",
       "      <td>52</td>\n",
       "      <td>20</td>\n",
       "      <td>2009</td>\n",
       "    </tr>\n",
       "    <tr>\n",
       "      <th>3</th>\n",
       "      <td>127 Hours</td>\n",
       "      <td>Adventure</td>\n",
       "      <td>93</td>\n",
       "      <td>84</td>\n",
       "      <td>18</td>\n",
       "      <td>2010</td>\n",
       "    </tr>\n",
       "    <tr>\n",
       "      <th>4</th>\n",
       "      <td>17 Again</td>\n",
       "      <td>Comedy</td>\n",
       "      <td>55</td>\n",
       "      <td>70</td>\n",
       "      <td>20</td>\n",
       "      <td>2009</td>\n",
       "    </tr>\n",
       "    <tr>\n",
       "      <th>...</th>\n",
       "      <td>...</td>\n",
       "      <td>...</td>\n",
       "      <td>...</td>\n",
       "      <td>...</td>\n",
       "      <td>...</td>\n",
       "      <td>...</td>\n",
       "    </tr>\n",
       "    <tr>\n",
       "      <th>554</th>\n",
       "      <td>Your Highness</td>\n",
       "      <td>Comedy</td>\n",
       "      <td>26</td>\n",
       "      <td>36</td>\n",
       "      <td>50</td>\n",
       "      <td>2011</td>\n",
       "    </tr>\n",
       "    <tr>\n",
       "      <th>555</th>\n",
       "      <td>Youth in Revolt</td>\n",
       "      <td>Comedy</td>\n",
       "      <td>68</td>\n",
       "      <td>52</td>\n",
       "      <td>18</td>\n",
       "      <td>2009</td>\n",
       "    </tr>\n",
       "    <tr>\n",
       "      <th>556</th>\n",
       "      <td>Zodiac</td>\n",
       "      <td>Thriller</td>\n",
       "      <td>89</td>\n",
       "      <td>73</td>\n",
       "      <td>65</td>\n",
       "      <td>2007</td>\n",
       "    </tr>\n",
       "    <tr>\n",
       "      <th>557</th>\n",
       "      <td>Zombieland</td>\n",
       "      <td>Action</td>\n",
       "      <td>90</td>\n",
       "      <td>87</td>\n",
       "      <td>24</td>\n",
       "      <td>2009</td>\n",
       "    </tr>\n",
       "    <tr>\n",
       "      <th>558</th>\n",
       "      <td>Zookeeper</td>\n",
       "      <td>Comedy</td>\n",
       "      <td>14</td>\n",
       "      <td>42</td>\n",
       "      <td>80</td>\n",
       "      <td>2011</td>\n",
       "    </tr>\n",
       "  </tbody>\n",
       "</table>\n",
       "<p>559 rows × 6 columns</p>\n",
       "</div>"
      ],
      "text/plain": [
       "                      Film      Genre  Rotten Tomatoes Ratings %  \\\n",
       "0    (500) Days of Summer      Comedy                         87   \n",
       "1              10,000 B.C.  Adventure                          9   \n",
       "2               12 Rounds      Action                         30   \n",
       "3                127 Hours  Adventure                         93   \n",
       "4                17 Again      Comedy                         55   \n",
       "..                     ...        ...                        ...   \n",
       "554          Your Highness     Comedy                         26   \n",
       "555        Youth in Revolt     Comedy                         68   \n",
       "556                 Zodiac   Thriller                         89   \n",
       "557            Zombieland      Action                         90   \n",
       "558              Zookeeper     Comedy                         14   \n",
       "\n",
       "     Audience Ratings %  Budget (million $)  Year of release  \n",
       "0                    81                   8             2009  \n",
       "1                    44                 105             2008  \n",
       "2                    52                  20             2009  \n",
       "3                    84                  18             2010  \n",
       "4                    70                  20             2009  \n",
       "..                  ...                 ...              ...  \n",
       "554                  36                  50             2011  \n",
       "555                  52                  18             2009  \n",
       "556                  73                  65             2007  \n",
       "557                  87                  24             2009  \n",
       "558                  42                  80             2011  \n",
       "\n",
       "[559 rows x 6 columns]"
      ]
     },
     "execution_count": 37,
     "metadata": {},
     "output_type": "execute_result"
    }
   ],
   "source": [
    "movies"
   ]
  },
  {
   "cell_type": "code",
   "execution_count": 38,
   "id": "a4f770e7-52eb-4309-b723-8fc788a4eecf",
   "metadata": {},
   "outputs": [
    {
     "data": {
      "text/plain": [
       "Index(['Film', 'Genre', 'Rotten Tomatoes Ratings %', 'Audience Ratings %',\n",
       "       'Budget (million $)', 'Year of release'],\n",
       "      dtype='object')"
      ]
     },
     "execution_count": 38,
     "metadata": {},
     "output_type": "execute_result"
    }
   ],
   "source": [
    "movies.columns\n"
   ]
  },
  {
   "cell_type": "code",
   "execution_count": 39,
   "id": "fff70cc5-d959-4dbe-8983-238cae677a37",
   "metadata": {},
   "outputs": [],
   "source": [
    "movies.columns=['Film', 'Genre', 'CriticRatings', 'AudienceRatings',\n",
    "       'BudgetInMillions', 'Year']"
   ]
  },
  {
   "cell_type": "code",
   "execution_count": 40,
   "id": "19270c27-4ed5-4c5a-b135-f7e30fad0737",
   "metadata": {},
   "outputs": [
    {
     "data": {
      "text/html": [
       "<div>\n",
       "<style scoped>\n",
       "    .dataframe tbody tr th:only-of-type {\n",
       "        vertical-align: middle;\n",
       "    }\n",
       "\n",
       "    .dataframe tbody tr th {\n",
       "        vertical-align: top;\n",
       "    }\n",
       "\n",
       "    .dataframe thead th {\n",
       "        text-align: right;\n",
       "    }\n",
       "</style>\n",
       "<table border=\"1\" class=\"dataframe\">\n",
       "  <thead>\n",
       "    <tr style=\"text-align: right;\">\n",
       "      <th></th>\n",
       "      <th>Film</th>\n",
       "      <th>Genre</th>\n",
       "      <th>CriticRatings</th>\n",
       "      <th>AudienceRatings</th>\n",
       "      <th>BudgetInMillions</th>\n",
       "      <th>Year</th>\n",
       "    </tr>\n",
       "  </thead>\n",
       "  <tbody>\n",
       "    <tr>\n",
       "      <th>0</th>\n",
       "      <td>(500) Days of Summer</td>\n",
       "      <td>Comedy</td>\n",
       "      <td>87</td>\n",
       "      <td>81</td>\n",
       "      <td>8</td>\n",
       "      <td>2009</td>\n",
       "    </tr>\n",
       "    <tr>\n",
       "      <th>1</th>\n",
       "      <td>10,000 B.C.</td>\n",
       "      <td>Adventure</td>\n",
       "      <td>9</td>\n",
       "      <td>44</td>\n",
       "      <td>105</td>\n",
       "      <td>2008</td>\n",
       "    </tr>\n",
       "    <tr>\n",
       "      <th>2</th>\n",
       "      <td>12 Rounds</td>\n",
       "      <td>Action</td>\n",
       "      <td>30</td>\n",
       "      <td>52</td>\n",
       "      <td>20</td>\n",
       "      <td>2009</td>\n",
       "    </tr>\n",
       "    <tr>\n",
       "      <th>3</th>\n",
       "      <td>127 Hours</td>\n",
       "      <td>Adventure</td>\n",
       "      <td>93</td>\n",
       "      <td>84</td>\n",
       "      <td>18</td>\n",
       "      <td>2010</td>\n",
       "    </tr>\n",
       "    <tr>\n",
       "      <th>4</th>\n",
       "      <td>17 Again</td>\n",
       "      <td>Comedy</td>\n",
       "      <td>55</td>\n",
       "      <td>70</td>\n",
       "      <td>20</td>\n",
       "      <td>2009</td>\n",
       "    </tr>\n",
       "  </tbody>\n",
       "</table>\n",
       "</div>"
      ],
      "text/plain": [
       "                    Film      Genre  CriticRatings  AudienceRatings  \\\n",
       "0  (500) Days of Summer      Comedy             87               81   \n",
       "1            10,000 B.C.  Adventure              9               44   \n",
       "2             12 Rounds      Action             30               52   \n",
       "3              127 Hours  Adventure             93               84   \n",
       "4              17 Again      Comedy             55               70   \n",
       "\n",
       "   BudgetInMillions  Year  \n",
       "0                 8  2009  \n",
       "1               105  2008  \n",
       "2                20  2009  \n",
       "3                18  2010  \n",
       "4                20  2009  "
      ]
     },
     "execution_count": 40,
     "metadata": {},
     "output_type": "execute_result"
    }
   ],
   "source": [
    "movies.head()"
   ]
  },
  {
   "cell_type": "code",
   "execution_count": 41,
   "id": "4863f47a-29ce-494e-8e6a-58babd8915f0",
   "metadata": {},
   "outputs": [
    {
     "name": "stdout",
     "output_type": "stream",
     "text": [
      "<class 'pandas.core.frame.DataFrame'>\n",
      "RangeIndex: 559 entries, 0 to 558\n",
      "Data columns (total 6 columns):\n",
      " #   Column            Non-Null Count  Dtype \n",
      "---  ------            --------------  ----- \n",
      " 0   Film              559 non-null    object\n",
      " 1   Genre             559 non-null    object\n",
      " 2   CriticRatings     559 non-null    int64 \n",
      " 3   AudienceRatings   559 non-null    int64 \n",
      " 4   BudgetInMillions  559 non-null    int64 \n",
      " 5   Year              559 non-null    int64 \n",
      "dtypes: int64(4), object(2)\n",
      "memory usage: 26.3+ KB\n"
     ]
    }
   ],
   "source": [
    "movies.info()"
   ]
  },
  {
   "cell_type": "code",
   "execution_count": 42,
   "id": "2af95c83-45a7-4b76-9638-f32398dec789",
   "metadata": {},
   "outputs": [
    {
     "data": {
      "text/html": [
       "<div>\n",
       "<style scoped>\n",
       "    .dataframe tbody tr th:only-of-type {\n",
       "        vertical-align: middle;\n",
       "    }\n",
       "\n",
       "    .dataframe tbody tr th {\n",
       "        vertical-align: top;\n",
       "    }\n",
       "\n",
       "    .dataframe thead th {\n",
       "        text-align: right;\n",
       "    }\n",
       "</style>\n",
       "<table border=\"1\" class=\"dataframe\">\n",
       "  <thead>\n",
       "    <tr style=\"text-align: right;\">\n",
       "      <th></th>\n",
       "      <th>CriticRatings</th>\n",
       "      <th>AudienceRatings</th>\n",
       "      <th>BudgetInMillions</th>\n",
       "      <th>Year</th>\n",
       "    </tr>\n",
       "  </thead>\n",
       "  <tbody>\n",
       "    <tr>\n",
       "      <th>count</th>\n",
       "      <td>559.000000</td>\n",
       "      <td>559.000000</td>\n",
       "      <td>559.000000</td>\n",
       "      <td>559.000000</td>\n",
       "    </tr>\n",
       "    <tr>\n",
       "      <th>mean</th>\n",
       "      <td>47.309481</td>\n",
       "      <td>58.744186</td>\n",
       "      <td>50.236136</td>\n",
       "      <td>2009.152057</td>\n",
       "    </tr>\n",
       "    <tr>\n",
       "      <th>std</th>\n",
       "      <td>26.413091</td>\n",
       "      <td>16.826887</td>\n",
       "      <td>48.731817</td>\n",
       "      <td>1.362632</td>\n",
       "    </tr>\n",
       "    <tr>\n",
       "      <th>min</th>\n",
       "      <td>0.000000</td>\n",
       "      <td>0.000000</td>\n",
       "      <td>0.000000</td>\n",
       "      <td>2007.000000</td>\n",
       "    </tr>\n",
       "    <tr>\n",
       "      <th>25%</th>\n",
       "      <td>25.000000</td>\n",
       "      <td>47.000000</td>\n",
       "      <td>20.000000</td>\n",
       "      <td>2008.000000</td>\n",
       "    </tr>\n",
       "    <tr>\n",
       "      <th>50%</th>\n",
       "      <td>46.000000</td>\n",
       "      <td>58.000000</td>\n",
       "      <td>35.000000</td>\n",
       "      <td>2009.000000</td>\n",
       "    </tr>\n",
       "    <tr>\n",
       "      <th>75%</th>\n",
       "      <td>70.000000</td>\n",
       "      <td>72.000000</td>\n",
       "      <td>65.000000</td>\n",
       "      <td>2010.000000</td>\n",
       "    </tr>\n",
       "    <tr>\n",
       "      <th>max</th>\n",
       "      <td>97.000000</td>\n",
       "      <td>96.000000</td>\n",
       "      <td>300.000000</td>\n",
       "      <td>2011.000000</td>\n",
       "    </tr>\n",
       "  </tbody>\n",
       "</table>\n",
       "</div>"
      ],
      "text/plain": [
       "       CriticRatings  AudienceRatings  BudgetInMillions         Year\n",
       "count     559.000000       559.000000        559.000000   559.000000\n",
       "mean       47.309481        58.744186         50.236136  2009.152057\n",
       "std        26.413091        16.826887         48.731817     1.362632\n",
       "min         0.000000         0.000000          0.000000  2007.000000\n",
       "25%        25.000000        47.000000         20.000000  2008.000000\n",
       "50%        46.000000        58.000000         35.000000  2009.000000\n",
       "75%        70.000000        72.000000         65.000000  2010.000000\n",
       "max        97.000000        96.000000        300.000000  2011.000000"
      ]
     },
     "execution_count": 42,
     "metadata": {},
     "output_type": "execute_result"
    }
   ],
   "source": [
    "movies.describe()"
   ]
  },
  {
   "cell_type": "markdown",
   "id": "fc4552bb-c843-43fc-bfaa-2a30b6b872b4",
   "metadata": {},
   "source": [
    "### Year and Genre rated as integer it having count , mean etc.. on year doesnt make sense\n",
    "It should be interpreted as a category\n",
    "We must converted as a category \n",
    "\n",
    "### .astype('category')\n",
    "a method applied on a specific column to convert it into category value\n",
    "\n",
    "\n",
    "### .cat.categories\n",
    "Method called on column which is an actual category to getdifferent categories in that specific column\n"
   ]
  },
  {
   "cell_type": "code",
   "execution_count": 43,
   "id": "fe51b821-6c43-4b9d-931b-0b5953e71190",
   "metadata": {},
   "outputs": [],
   "source": [
    "movies.Genre=movies.Genre.astype('category')\n",
    "movies.Year=movies.Year.astype('category')\n",
    "movies.Film=movies.Film.astype('category')"
   ]
  },
  {
   "cell_type": "code",
   "execution_count": 44,
   "id": "2304b42e-9fdb-44f2-ad32-36437c030ce6",
   "metadata": {},
   "outputs": [
    {
     "name": "stdout",
     "output_type": "stream",
     "text": [
      "<class 'pandas.core.frame.DataFrame'>\n",
      "RangeIndex: 559 entries, 0 to 558\n",
      "Data columns (total 6 columns):\n",
      " #   Column            Non-Null Count  Dtype   \n",
      "---  ------            --------------  -----   \n",
      " 0   Film              559 non-null    category\n",
      " 1   Genre             559 non-null    category\n",
      " 2   CriticRatings     559 non-null    int64   \n",
      " 3   AudienceRatings   559 non-null    int64   \n",
      " 4   BudgetInMillions  559 non-null    int64   \n",
      " 5   Year              559 non-null    category\n",
      "dtypes: category(3), int64(3)\n",
      "memory usage: 36.5 KB\n"
     ]
    }
   ],
   "source": [
    "movies.info()"
   ]
  },
  {
   "cell_type": "code",
   "execution_count": 45,
   "id": "ef46a632-81a6-4276-b9fe-2ec90aa52c90",
   "metadata": {},
   "outputs": [
    {
     "data": {
      "text/plain": [
       "Index(['Action', 'Adventure', 'Comedy', 'Drama', 'Horror', 'Romance',\n",
       "       'Thriller'],\n",
       "      dtype='object')"
      ]
     },
     "execution_count": 45,
     "metadata": {},
     "output_type": "execute_result"
    }
   ],
   "source": [
    "movies.Genre.cat.categories"
   ]
  },
  {
   "cell_type": "code",
   "execution_count": 46,
   "id": "603cb118-dbd1-44b4-bffb-348e6d1ccffa",
   "metadata": {},
   "outputs": [
    {
     "data": {
      "text/html": [
       "<div>\n",
       "<style scoped>\n",
       "    .dataframe tbody tr th:only-of-type {\n",
       "        vertical-align: middle;\n",
       "    }\n",
       "\n",
       "    .dataframe tbody tr th {\n",
       "        vertical-align: top;\n",
       "    }\n",
       "\n",
       "    .dataframe thead th {\n",
       "        text-align: right;\n",
       "    }\n",
       "</style>\n",
       "<table border=\"1\" class=\"dataframe\">\n",
       "  <thead>\n",
       "    <tr style=\"text-align: right;\">\n",
       "      <th></th>\n",
       "      <th>CriticRatings</th>\n",
       "      <th>AudienceRatings</th>\n",
       "      <th>BudgetInMillions</th>\n",
       "    </tr>\n",
       "  </thead>\n",
       "  <tbody>\n",
       "    <tr>\n",
       "      <th>count</th>\n",
       "      <td>559.000000</td>\n",
       "      <td>559.000000</td>\n",
       "      <td>559.000000</td>\n",
       "    </tr>\n",
       "    <tr>\n",
       "      <th>mean</th>\n",
       "      <td>47.309481</td>\n",
       "      <td>58.744186</td>\n",
       "      <td>50.236136</td>\n",
       "    </tr>\n",
       "    <tr>\n",
       "      <th>std</th>\n",
       "      <td>26.413091</td>\n",
       "      <td>16.826887</td>\n",
       "      <td>48.731817</td>\n",
       "    </tr>\n",
       "    <tr>\n",
       "      <th>min</th>\n",
       "      <td>0.000000</td>\n",
       "      <td>0.000000</td>\n",
       "      <td>0.000000</td>\n",
       "    </tr>\n",
       "    <tr>\n",
       "      <th>25%</th>\n",
       "      <td>25.000000</td>\n",
       "      <td>47.000000</td>\n",
       "      <td>20.000000</td>\n",
       "    </tr>\n",
       "    <tr>\n",
       "      <th>50%</th>\n",
       "      <td>46.000000</td>\n",
       "      <td>58.000000</td>\n",
       "      <td>35.000000</td>\n",
       "    </tr>\n",
       "    <tr>\n",
       "      <th>75%</th>\n",
       "      <td>70.000000</td>\n",
       "      <td>72.000000</td>\n",
       "      <td>65.000000</td>\n",
       "    </tr>\n",
       "    <tr>\n",
       "      <th>max</th>\n",
       "      <td>97.000000</td>\n",
       "      <td>96.000000</td>\n",
       "      <td>300.000000</td>\n",
       "    </tr>\n",
       "  </tbody>\n",
       "</table>\n",
       "</div>"
      ],
      "text/plain": [
       "       CriticRatings  AudienceRatings  BudgetInMillions\n",
       "count     559.000000       559.000000        559.000000\n",
       "mean       47.309481        58.744186         50.236136\n",
       "std        26.413091        16.826887         48.731817\n",
       "min         0.000000         0.000000          0.000000\n",
       "25%        25.000000        47.000000         20.000000\n",
       "50%        46.000000        58.000000         35.000000\n",
       "75%        70.000000        72.000000         65.000000\n",
       "max        97.000000        96.000000        300.000000"
      ]
     },
     "execution_count": 46,
     "metadata": {},
     "output_type": "execute_result"
    }
   ],
   "source": [
    "movies.describe()"
   ]
  },
  {
   "cell_type": "markdown",
   "id": "cd4b7633-f21e-4319-b260-4632bb1bdd1b",
   "metadata": {},
   "source": [
    "## 1.JointPlots\n",
    "used to get dependency b/w 2 variables<br>\n",
    "visualize bivariate variables<br>\n",
    "can visualize separately or together\n",
    "\n",
    "Parameters\n",
    "1. Kind-what kind of plot we want - default sactter , can have options like hex-looks like cluster"
   ]
  },
  {
   "cell_type": "code",
   "execution_count": 48,
   "id": "1fce6c96-00e7-4f1d-97bc-f9e6e1218c33",
   "metadata": {},
   "outputs": [
    {
     "data": {
      "text/plain": [
       "<seaborn.axisgrid.JointGrid at 0x7f7473243f70>"
      ]
     },
     "execution_count": 48,
     "metadata": {},
     "output_type": "execute_result"
    },
    {
     "data": {
      "image/png": "[encoded data removed]",
      "text/plain": [
       "<Figure size 432x432 with 3 Axes>"
      ]
     },
     "metadata": {},
     "output_type": "display_data"
    }
   ],
   "source": [
    "sns.jointplot(data=movies,x='CriticRatings',y='AudienceRatings')"
   ]
  },
  {
   "cell_type": "code",
   "execution_count": 49,
   "id": "2ac679fd-91fc-4d42-9847-550a532525aa",
   "metadata": {},
   "outputs": [
    {
     "data": {
      "text/plain": [
       "<seaborn.axisgrid.JointGrid at 0x7f74727bae20>"
      ]
     },
     "execution_count": 49,
     "metadata": {},
     "output_type": "execute_result"
    },
    {
     "data": {
      "image/png": "[encoded data removed]",
      "text/plain": [
       "<Figure size 432x432 with 3 Axes>"
      ]
     },
     "metadata": {},
     "output_type": "display_data"
    }
   ],
   "source": [
    "sns.jointplot(data=movies,x='CriticRatings',y='AudienceRatings',kind='hex')"
   ]
  },
  {
   "cell_type": "markdown",
   "id": "fd770b55-263e-45ff-b25b-2af249365b49",
   "metadata": {},
   "source": [
    "## 2. Histograms\n",
    "Frequency distribution <br>\n",
    "Data divided into intervals<br>\n",
    "x axis- intervals<br>\n",
    "y axis - frequency<br>\n",
    "\n",
    "similar to distplot in seaborn<br>\n",
    "created using pyplot<br>\n",
    "plt.hist()"
   ]
  },
  {
   "cell_type": "code",
   "execution_count": 50,
   "id": "b2df40ce-8acc-4bd2-9910-1a6b3b54f62e",
   "metadata": {},
   "outputs": [
    {
     "data": {
      "image/png": "[encoded data removed]",
      "text/plain": [
       "<Figure size 720x576 with 1 Axes>"
      ]
     },
     "metadata": {},
     "output_type": "display_data"
    }
   ],
   "source": [
    "hst=plt.hist(movies.AudienceRatings,bins=15)"
   ]
  },
  {
   "cell_type": "code",
   "execution_count": 51,
   "id": "99ab8c41-f8a0-44f7-826d-03a263a96e86",
   "metadata": {},
   "outputs": [
    {
     "data": {
      "image/png": "[encoded data removed]",
      "text/plain": [
       "<Figure size 720x576 with 1 Axes>"
      ]
     },
     "metadata": {},
     "output_type": "display_data"
    }
   ],
   "source": [
    "hst=plt.hist(movies.CriticRatings,bins=15)"
   ]
  },
  {
   "cell_type": "code",
   "execution_count": 55,
   "id": "5d15e3ab-6ae3-430b-a1b4-4c5cf5f6ff16",
   "metadata": {},
   "outputs": [
    {
     "name": "stderr",
     "output_type": "stream",
     "text": [
      "/home/amal-baby-antony/miniconda3/lib/python3.9/site-packages/seaborn/distributions.py:2619: FutureWarning: `distplot` is a deprecated function and will be removed in a future version. Please adapt your code to use either `displot` (a figure-level function with similar flexibility) or `histplot` (an axes-level function for histograms).\n",
      "  warnings.warn(msg, FutureWarning)\n"
     ]
    },
    {
     "data": {
      "text/plain": [
       "<AxesSubplot:xlabel='AudienceRatings', ylabel='Density'>"
      ]
     },
     "execution_count": 55,
     "metadata": {},
     "output_type": "execute_result"
    },
    {
     "data": {
      "image/png": "[encoded data removed]",
      "text/plain": [
       "<Figure size 720x576 with 1 Axes>"
      ]
     },
     "metadata": {},
     "output_type": "display_data"
    }
   ],
   "source": [
    "sns.distplot(movies['AudienceRatings'])"
   ]
  },
  {
   "cell_type": "code",
   "execution_count": 56,
   "id": "280a7a6e-fcd6-4cdb-a639-323e3631a22b",
   "metadata": {},
   "outputs": [
    {
     "name": "stderr",
     "output_type": "stream",
     "text": [
      "/home/amal-baby-antony/miniconda3/lib/python3.9/site-packages/seaborn/distributions.py:2619: FutureWarning: `distplot` is a deprecated function and will be removed in a future version. Please adapt your code to use either `displot` (a figure-level function with similar flexibility) or `histplot` (an axes-level function for histograms).\n",
      "  warnings.warn(msg, FutureWarning)\n"
     ]
    },
    {
     "data": {
      "text/plain": [
       "<AxesSubplot:xlabel='CriticRatings', ylabel='Density'>"
      ]
     },
     "execution_count": 56,
     "metadata": {},
     "output_type": "execute_result"
    },
    {
     "data": {
      "image/png": "[encoded data removed]",
      "text/plain": [
       "<Figure size 720x576 with 1 Axes>"
      ]
     },
     "metadata": {},
     "output_type": "display_data"
    }
   ],
   "source": [
    "sns.distplot(movies['CriticRatings'])"
   ]
  },
  {
   "cell_type": "markdown",
   "id": "b54503d9-e09f-40e5-8b8c-b32857e554c7",
   "metadata": {},
   "source": [
    "## 3. Stacked Histograms\n",
    "The stacked bar chart (aka stacked bar graph) extends the standard bar chart from looking at numeric values across one categorical variable to two.<br>\n",
    "Each bar in a standard bar chart is divided into a number of sub-bars stacked end to end, each one corresponding to a level of the second categorical variable.<br>\n",
    "Stacked Chart. Bar charts are best used when showing comparisons between categories. <br>\n",
    "The bars are proportional to the values they represent and can be plotted either horizontally or vertically. One axis of the chart shows the specific categories being compared, and the other axis represents discrete values."
   ]
  },
  {
   "cell_type": "code",
   "execution_count": 62,
   "id": "646493ef-078c-46ff-bb54-49481b815c93",
   "metadata": {},
   "outputs": [],
   "source": [
    " budget_per_movie_drama=movies[movies.Genre=='Drama'].BudgetInMillions"
   ]
  },
  {
   "cell_type": "code",
   "execution_count": 63,
   "id": "f0822c8f-d702-4feb-8e21-cdb6c6b99215",
   "metadata": {},
   "outputs": [
    {
     "data": {
      "text/plain": [
       "10     30\n",
       "11     20\n",
       "13      7\n",
       "18      8\n",
       "23     20\n",
       "       ..\n",
       "529    66\n",
       "532    38\n",
       "534    21\n",
       "541    15\n",
       "545     2\n",
       "Name: BudgetInMillions, Length: 101, dtype: int64"
      ]
     },
     "execution_count": 63,
     "metadata": {},
     "output_type": "execute_result"
    }
   ],
   "source": [
    " budget_per_movie_drama"
   ]
  },
  {
   "cell_type": "markdown",
   "id": "b740ddf0-e0fc-43d4-8095-b593bb6ecbbf",
   "metadata": {},
   "source": [
    "### plt.hist()\n",
    "used to create a histogram"
   ]
  },
  {
   "cell_type": "code",
   "execution_count": 64,
   "id": "428a2ada-b342-4ef5-8a68-5730bf07fe24",
   "metadata": {},
   "outputs": [
    {
     "data": {
      "image/png": "[encoded data removed]",
      "text/plain": [
       "<Figure size 720x576 with 1 Axes>"
      ]
     },
     "metadata": {},
     "output_type": "display_data"
    }
   ],
   "source": [
    "plt.hist( budget_per_movie_drama)\n",
    "plt.show()"
   ]
  },
  {
   "cell_type": "code",
   "execution_count": 68,
   "id": "8aa5fe0c-0838-443a-83af-26212b26059f",
   "metadata": {},
   "outputs": [],
   "source": [
    "budget_per_movie_adv=movies[movies.Genre=='Adventure'].BudgetInMillions\n",
    "budget_per_movie_comedy=movies[movies.Genre=='Comedy'].BudgetInMillions\n",
    "budget_per_movie_horror=movies[movies.Genre=='Horror'].BudgetInMillions\n",
    "budget_per_movie_romance=movies[movies.Genre=='Romance'].BudgetInMillions\n",
    "budget_per_movie_action=movies[movies.Genre=='Action'].BudgetInMillions\n",
    "budget_per_movie_Thriller=movies[movies.Genre=='Thriller'].BudgetInMillions"
   ]
  },
  {
   "cell_type": "code",
   "execution_count": 66,
   "id": "4bacb6f6-e13f-44e9-8bad-82628d9379d0",
   "metadata": {},
   "outputs": [
    {
     "data": {
      "image/png": "[encoded data removed]",
      "text/plain": [
       "<Figure size 720x576 with 1 Axes>"
      ]
     },
     "metadata": {},
     "output_type": "display_data"
    }
   ],
   "source": [
    "plt.hist( budget_per_movie_action)\n",
    "plt.show()"
   ]
  },
  {
   "cell_type": "markdown",
   "id": "0a542815-59cd-4327-be31-da63be28d5ec",
   "metadata": {},
   "source": [
    "#### Note that we can add multiple data to the same graph and use plt.show()"
   ]
  },
  {
   "cell_type": "code",
   "execution_count": 67,
   "id": "7f332217-94e4-4193-a97e-9326d437c34c",
   "metadata": {},
   "outputs": [
    {
     "data": {
      "image/png": "[encoded data removed]",
      "text/plain": [
       "<Figure size 720x576 with 1 Axes>"
      ]
     },
     "metadata": {},
     "output_type": "display_data"
    }
   ],
   "source": [
    "plt.hist( budget_per_movie_drama)\n",
    "plt.hist( budget_per_movie_action)\n",
    "plt.show()"
   ]
  },
  {
   "cell_type": "code",
   "execution_count": 70,
   "id": "d393b748-2168-408a-aa8d-ed3d73aae67c",
   "metadata": {},
   "outputs": [
    {
     "data": {
      "image/png": "[encoded data removed]",
      "text/plain": [
       "<Figure size 720x576 with 1 Axes>"
      ]
     },
     "metadata": {},
     "output_type": "display_data"
    }
   ],
   "source": [
    "plt.hist(budget_per_movie_adv,bins=15)\n",
    "plt.hist(budget_per_movie_comedy,bins=15)\n",
    "plt.hist(budget_per_movie_horror,bins=15)\n",
    "plt.hist(budget_per_movie_romance,bins=15)\n",
    "plt.hist(budget_per_movie_action,bins=15)\n",
    "plt.hist(budget_per_movie_Thriller,bins=15)\n",
    "plt.hist(budget_per_movie_drama,bins=15)\n",
    "plt.show()"
   ]
  },
  {
   "cell_type": "markdown",
   "id": "dffd1e5d-96fb-4e09-8053-7600a76a3486",
   "metadata": {},
   "source": [
    "### But here histograms are overlayed , one behind another , which isnt much useful so we want histograms to be stacked one on top of another"
   ]
  },
  {
   "cell_type": "markdown",
   "id": "a11985b5-d85b-44bb-8c9e-d1007b538ae4",
   "metadata": {},
   "source": [
    "### stacked\n",
    "we have an additional parameter called stacked<br>\n",
    "it takes a boolean value<br>\n",
    "if set to true we get a stacked histogram<br>\n",
    "\n",
    "### rwidth\n",
    "What % of space the bar should take<br>\n",
    "rwdith=1 => Takes 100% of space , no space between bars"
   ]
  },
  {
   "cell_type": "code",
   "execution_count": 72,
   "id": "4c902851-ab4f-4b29-969e-036b78dc7cd8",
   "metadata": {},
   "outputs": [
    {
     "data": {
      "text/plain": [
       "(array([[ 3.,  6.,  3.,  7.,  0.,  2.,  2.,  4.,  0.,  0.,  1.,  0.,  1.,\n",
       "          0.,  0.],\n",
       "        [12., 45., 27., 20., 16., 11., 10., 18.,  5.,  4.,  9.,  2.,  3.,\n",
       "          0.,  1.]]),\n",
       " array([  0.,  20.,  40.,  60.,  80., 100., 120., 140., 160., 180., 200.,\n",
       "        220., 240., 260., 280., 300.]),\n",
       " <a list of 2 BarContainer objects>)"
      ]
     },
     "execution_count": 72,
     "metadata": {},
     "output_type": "execute_result"
    },
    {
     "data": {
      "image/png": "[encoded data removed]",
      "text/plain": [
       "<Figure size 720x576 with 1 Axes>"
      ]
     },
     "metadata": {},
     "output_type": "display_data"
    }
   ],
   "source": [
    "plt.hist([budget_per_movie_adv,budget_per_movie_action],bins=15,stacked=True)"
   ]
  },
  {
   "cell_type": "code",
   "execution_count": 73,
   "id": "a7fadd86-5971-4860-8b67-1546554a33ec",
   "metadata": {},
   "outputs": [
    {
     "data": {
      "image/png": "[encoded data removed]",
      "text/plain": [
       "<Figure size 720x576 with 1 Axes>"
      ]
     },
     "metadata": {},
     "output_type": "display_data"
    }
   ],
   "source": [
    "plt.hist([budget_per_movie_adv,budget_per_movie_action],bins=15,stacked=True)\n",
    "plt.show()"
   ]
  },
  {
   "cell_type": "markdown",
   "id": "f23f55e8-8454-4380-80dc-fd9b6e71f014",
   "metadata": {},
   "source": [
    "### Using a for loop for plotting graphs"
   ]
  },
  {
   "cell_type": "markdown",
   "id": "86640ce4-67a6-47f0-9528-58ff0b003326",
   "metadata": {},
   "source": [
    "genre_list=list()\n",
    "for gen in movies.Genre.cat.categories:\n",
    "    genre_list.append(movies[movies.Genre==gen].BudgetInMillions)\n",
    "print(genre_list)"
   ]
  },
  {
   "cell_type": "code",
   "execution_count": 76,
   "id": "86fe0006-8559-40fe-be7c-0ba1f2b0d25b",
   "metadata": {},
   "outputs": [
    {
     "data": {
      "image/png": "[encoded data removed]",
      "text/plain": [
       "<Figure size 720x576 with 1 Axes>"
      ]
     },
     "metadata": {},
     "output_type": "display_data"
    }
   ],
   "source": [
    "hist=plt.hist(genre_list,bins=30,stacked=True,rwidth=1)\n",
    "plt.show()"
   ]
  },
  {
   "cell_type": "markdown",
   "id": "c95ce7e9-929b-40bb-9aa5-44609e39dfaa",
   "metadata": {},
   "source": [
    "### Adding legend and label"
   ]
  },
  {
   "cell_type": "code",
   "execution_count": 78,
   "id": "3b0701b9-3319-4b08-9f09-1d2ae81e306d",
   "metadata": {},
   "outputs": [
    {
     "name": "stdout",
     "output_type": "stream",
     "text": [
      "[2       20\n",
      "5      200\n",
      "15      35\n",
      "29      20\n",
      "30      20\n",
      "      ... \n",
      "531    130\n",
      "542     35\n",
      "546    150\n",
      "547    160\n",
      "557     24\n",
      "Name: BudgetInMillions, Length: 154, dtype: int64, 1      105\n",
      "3       18\n",
      "19     200\n",
      "21      45\n",
      "24      40\n",
      "32      78\n",
      "46      20\n",
      "65      38\n",
      "68     140\n",
      "130     73\n",
      "165     12\n",
      "166    125\n",
      "167    250\n",
      "168    150\n",
      "176     36\n",
      "178    150\n",
      "192     70\n",
      "193     60\n",
      "241     60\n",
      "272     37\n",
      "341     19\n",
      "363     70\n",
      "386    130\n",
      "401    155\n",
      "459     59\n",
      "463     25\n",
      "506     38\n",
      "540    100\n",
      "548     60\n",
      "Name: BudgetInMillions, dtype: int64, 0       8\n",
      "4      20\n",
      "6      30\n",
      "8      28\n",
      "9       8\n",
      "       ..\n",
      "552    80\n",
      "553    22\n",
      "554    50\n",
      "555    18\n",
      "558    80\n",
      "Name: BudgetInMillions, Length: 172, dtype: int64, 10     30\n",
      "11     20\n",
      "13      7\n",
      "18      8\n",
      "23     20\n",
      "       ..\n",
      "529    66\n",
      "532    38\n",
      "534    21\n",
      "541    15\n",
      "545     2\n",
      "Name: BudgetInMillions, Length: 101, dtype: int64, 7      32\n",
      "12     35\n",
      "20     40\n",
      "28      5\n",
      "59     26\n",
      "88     10\n",
      "97     25\n",
      "100    30\n",
      "103    50\n",
      "109    20\n",
      "126    40\n",
      "135    19\n",
      "137    30\n",
      "160    20\n",
      "161    15\n",
      "175    10\n",
      "194     2\n",
      "246    35\n",
      "259    25\n",
      "285    20\n",
      "286    30\n",
      "292     1\n",
      "293     3\n",
      "294     5\n",
      "311    18\n",
      "315    12\n",
      "321    42\n",
      "322     4\n",
      "332    10\n",
      "333    11\n",
      "335    40\n",
      "343    25\n",
      "349     8\n",
      "355    13\n",
      "373    50\n",
      "404    20\n",
      "414    12\n",
      "416    40\n",
      "426     5\n",
      "429    15\n",
      "453    18\n",
      "461    40\n",
      "462    37\n",
      "464    16\n",
      "465    25\n",
      "475     9\n",
      "478    38\n",
      "486    16\n",
      "521    10\n",
      "Name: BudgetInMillions, dtype: int64, 16      45\n",
      "42      17\n",
      "78      50\n",
      "108     60\n",
      "136     35\n",
      "201      0\n",
      "208     80\n",
      "244     17\n",
      "250     20\n",
      "255     40\n",
      "266     56\n",
      "284     15\n",
      "290     30\n",
      "354     35\n",
      "507    110\n",
      "510     15\n",
      "524      5\n",
      "525      2\n",
      "Name: BudgetInMillions, dtype: int64, 25     100\n",
      "72      60\n",
      "95      20\n",
      "105     15\n",
      "179    150\n",
      "180     60\n",
      "189     40\n",
      "225     27\n",
      "237      4\n",
      "243     25\n",
      "253     20\n",
      "261     20\n",
      "263    130\n",
      "267     70\n",
      "282     85\n",
      "358     32\n",
      "385     51\n",
      "389     20\n",
      "394    110\n",
      "406    185\n",
      "407    100\n",
      "408     20\n",
      "419     90\n",
      "424     48\n",
      "432     13\n",
      "471     15\n",
      "481    100\n",
      "491     35\n",
      "494     21\n",
      "498     22\n",
      "503     35\n",
      "513     30\n",
      "515     35\n",
      "519     75\n",
      "522     40\n",
      "556     65\n",
      "Name: BudgetInMillions, dtype: int64]\n"
     ]
    }
   ],
   "source": [
    "genre_list=list()\n",
    "labels=list()\n",
    "for gen in movies.Genre.cat.categories:\n",
    "    genre_list.append(movies[movies.Genre==gen].BudgetInMillions)\n",
    "    labels.append(gen)\n",
    "print(genre_list)"
   ]
  },
  {
   "cell_type": "code",
   "execution_count": 80,
   "id": "6c4c7a1f-7fec-4a30-bbb0-a7a4a9dddd9d",
   "metadata": {},
   "outputs": [
    {
     "data": {
      "image/png": "[encoded data removed]",
      "text/plain": [
       "<Figure size 720x576 with 1 Axes>"
      ]
     },
     "metadata": {},
     "output_type": "display_data"
    }
   ],
   "source": [
    "hist=plt.hist(genre_list,bins=30,stacked=True,rwidth=1,label=labels)\n",
    "plt.legend()\n",
    "plt.show()"
   ]
  },
  {
   "cell_type": "markdown",
   "id": "4dac400a-242f-4e3f-a5ac-79f7ab425bb5",
   "metadata": {},
   "source": [
    "## 4. KDE Plot or Kernel Density Estimate Plot"
   ]
  },
  {
   "cell_type": "code",
   "execution_count": null,
   "id": "992422c2-99a0-4c0b-bbe7-c49d9aebb51e",
   "metadata": {},
   "outputs": [],
   "source": []
  }
 ],
 "metadata": {
  "kernelspec": {
   "display_name": "Python 3 (ipykernel)",
   "language": "python",
   "name": "python3"
  },
  "language_info": {
   "codemirror_mode": {
    "name": "ipython",
    "version": 3
   },
   "file_extension": ".py",
   "mimetype": "text/x-python",
   "name": "python",
   "nbconvert_exporter": "python",
   "pygments_lexer": "ipython3",
   "version": "3.9.5"
  }
 },
 "nbformat": 4,
 "nbformat_minor": 5
}
